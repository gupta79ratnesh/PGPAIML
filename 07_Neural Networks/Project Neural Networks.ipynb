{
 "cells": [
  {
   "cell_type": "markdown",
   "metadata": {},
   "source": [
    "# The Problem Description:\n",
    "\n",
    "Recognizing multi-digit numbers in photographs captured at street level is an important component of modern-day map making. A classic example of a corpus of such street level photographs is Google’s Street View imagery comprised of hundreds of millions of geo-located 360 degree panoramic images. The ability to automatically transcribe an address number from a geo- located patch of pixels and associate the transcribed number with a known street address helps pinpoint, with a high degree of accuracy, the location of the building it represents.\n",
    "\n",
    "More broadly, recognizing numbers in photographs is a problem of interest to the optical character recognition community. While OCR on constrained domains like document processing is well studied, arbitrary multi-character text recognition in photographs is still highly challenging. This difficulty arises due to the wide variability in the visual appearance of text in the wild on account of a large range of fonts, colours, styles, orientations, and character arrangements. The recognition problem is further complicated by environmental factors such as lighting, shadows, secularities, and occlusions as well as by image acquisition factors such as resolution, motion, and focus blurs.\n",
    "\n",
    "In this project we will use dataset with images centred around a single digit (many of the images do contain some distractors at the sides). Although we are taking a sample of the data which is simpler, it is more complex than MNIST because of the distractors.\n",
    "\n",
    "Data Description:\n",
    "\n",
    "The Street View House Numbers (SVHN) Dataset\n",
    "SVHN is a real-world image dataset for developing machine learning and object recognition algorithms with minimal requirement on data formatting but comes from a significantly harder, unsolved, real world problem (recognizing digits and numbers in natural scene images). SVHN is obtained from house numbers in Google Street View images.\n"
   ]
  },
  {
   "cell_type": "markdown",
   "metadata": {},
   "source": [
    "# Objective\n",
    "\n",
    "The objective of the project is to learn how to implement a simple image classification pipeline based on a deep neural network. The goals of this project are as follows:\n",
    "\n",
    "1. Understand the basic Image Classification pipeline and the data-driven approach (train/predict stages)\n",
    "2. Data fetching and understand the train/val/test splits. \n",
    "3. Implement and apply a deep neural network classifier including\n",
    "(feedforward neural network, RELU, activations) \n",
    "4. Understand and be able to implement (vectorised) backpropagation (cost stochastic gradient descent, cross entropy loss, cost functions) \n",
    "5. Implement batch normalization for training the neural network \n",
    "6. Print the classification accuracy metrics "
   ]
  },
  {
   "cell_type": "code",
   "execution_count": 1,
   "metadata": {},
   "outputs": [
    {
     "name": "stderr",
     "output_type": "stream",
     "text": [
      "Using TensorFlow backend.\n"
     ]
    }
   ],
   "source": [
    "#Importing important libraries\n",
    "import numpy as np\n",
    "import pandas as pd\n",
    "import h5py\n",
    "import matplotlib.pyplot as plt\n",
    "#To enable plotting graphs in Jupyter notebook\n",
    "%matplotlib inline\n",
    "from sklearn.neighbors import KNeighborsClassifier\n",
    "from sklearn.metrics import confusion_matrix,accuracy_score\n",
    "from sklearn.metrics import classification_report\n",
    "from keras.models import Sequential\n",
    "from keras.utils.np_utils import to_categorical\n",
    "from keras.layers import Activation, Dense\n",
    "from keras.layers import BatchNormalization, Dropout\n",
    "from keras import optimizers\n",
    "import tensorflow as tf"
   ]
  },
  {
   "cell_type": "code",
   "execution_count": 2,
   "metadata": {},
   "outputs": [
    {
     "data": {
      "text/plain": [
       "'2.1.0'"
      ]
     },
     "execution_count": 2,
     "metadata": {},
     "output_type": "execute_result"
    }
   ],
   "source": [
    "tf.__version__"
   ]
  },
  {
   "cell_type": "markdown",
   "metadata": {},
   "source": [
    "# Data fetching and understand the train/val/test splits."
   ]
  },
  {
   "cell_type": "code",
   "execution_count": 3,
   "metadata": {},
   "outputs": [],
   "source": [
    "#Open the file as readonly\n",
    "data = h5py.File(\"SVHN_single_grey1.h5\",'r')"
   ]
  },
  {
   "cell_type": "code",
   "execution_count": 4,
   "metadata": {},
   "outputs": [
    {
     "data": {
      "text/plain": [
       "<KeysViewHDF5 ['X_test', 'X_train', 'X_val', 'y_test', 'y_train', 'y_val']>"
      ]
     },
     "execution_count": 4,
     "metadata": {},
     "output_type": "execute_result"
    }
   ],
   "source": [
    "data.keys()"
   ]
  },
  {
   "cell_type": "code",
   "execution_count": 5,
   "metadata": {},
   "outputs": [],
   "source": [
    "#Load the training, testing, and validation data\n",
    "X_train = data['X_train']\n",
    "X_test = data['X_test']\n",
    "X_val = data['X_val']\n",
    "y_train = data['y_train']\n",
    "y_test = data['y_test']\n",
    "y_val = data['y_val']"
   ]
  },
  {
   "cell_type": "code",
   "execution_count": 6,
   "metadata": {},
   "outputs": [
    {
     "name": "stdout",
     "output_type": "stream",
     "text": [
      "Shape of Data\n",
      "--------------------------------------------------------------------------\n",
      "Training data X    : (42000, 32, 32)\n",
      "Testing data X     : (18000, 32, 32)\n",
      "Validation data X  : (60000, 32, 32)\n",
      "Training data y    : (42000,)\n",
      "Testing data y     : (18000,)\n",
      "Validation data y  : (60000,)\n",
      "Data type\n",
      "--------------------------------------------------------------------------\n",
      "Training data X    : float32\n",
      "Testing data X     : float32\n",
      "Validation data X  : float32\n",
      "Training data y    : uint8\n",
      "Testing data y     : uint8\n",
      "Validation data y  : uint8\n"
     ]
    }
   ],
   "source": [
    "# Printing the shape and data type of training, testing, and validation data\n",
    "print(\"Shape of Data\")\n",
    "print(\"--------------------------------------------------------------------------\")\n",
    "print(\"Training data X    :\", X_train.shape)\n",
    "print(\"Testing data X     :\", X_test.shape)\n",
    "print(\"Validation data X  :\", X_val.shape)\n",
    "print(\"Training data y    :\", y_train.shape)\n",
    "print(\"Testing data y     :\", y_test.shape)\n",
    "print(\"Validation data y  :\", y_val.shape)\n",
    "\n",
    "print(\"Data type\")\n",
    "print(\"--------------------------------------------------------------------------\")\n",
    "print(\"Training data X    :\", X_train.dtype)\n",
    "print(\"Testing data X     :\", X_test.dtype)\n",
    "print(\"Validation data X  :\", X_val.dtype)\n",
    "print(\"Training data y    :\", y_train.dtype)\n",
    "print(\"Testing data y     :\", y_test.dtype)\n",
    "print(\"Validation data y  :\", y_val.dtype)\n",
    "\n"
   ]
  },
  {
   "cell_type": "code",
   "execution_count": 7,
   "metadata": {},
   "outputs": [
    {
     "data": {
      "image/png": "[encoded data removed]",
      "text/plain": [
       "<Figure size 576x576 with 100 Axes>"
      ]
     },
     "metadata": {
      "needs_background": "light"
     },
     "output_type": "display_data"
    }
   ],
   "source": [
    "# visualizing the first 10 images in the dataset and their labels\n",
    "%matplotlib inline\n",
    "import matplotlib.pyplot as plt\n",
    "\n",
    "fig = plt.figure(figsize=(8,8))\n",
    "columns = 10\n",
    "rows = 10\n",
    "for i in range(1, columns * rows + 1):\n",
    "    img = X_test[i]\n",
    "    fig.add_subplot(rows, columns, i)\n",
    "    plt.imshow(img, cmap='gray')\n",
    "plt.show()\n"
   ]
  },
  {
   "cell_type": "code",
   "execution_count": 8,
   "metadata": {},
   "outputs": [
    {
     "data": {
      "image/png": "[encoded data removed]",
      "text/plain": [
       "<Figure size 432x288 with 1 Axes>"
      ]
     },
     "metadata": {
      "needs_background": "light"
     },
     "output_type": "display_data"
    },
    {
     "name": "stdout",
     "output_type": "stream",
     "text": [
      "Label:  2\n"
     ]
    }
   ],
   "source": [
    "# show the number in the dataset\n",
    "plt.imshow(X_train[0], cmap = 'gray')    \n",
    "plt.show()\n",
    "print('Label: ', y_train[0])"
   ]
  },
  {
   "cell_type": "code",
   "execution_count": 9,
   "metadata": {},
   "outputs": [
    {
     "data": {
      "image/png": "[encoded data removed]",
      "text/plain": [
       "<Figure size 432x288 with 1 Axes>"
      ]
     },
     "metadata": {
      "needs_background": "light"
     },
     "output_type": "display_data"
    },
    {
     "name": "stdout",
     "output_type": "stream",
     "text": [
      "Label:  1\n"
     ]
    }
   ],
   "source": [
    "# show the number in the dataset\n",
    "plt.imshow(X_test[0], cmap = 'gray')    \n",
    "plt.show()\n",
    "print('Label: ', y_test[0])"
   ]
  },
  {
   "cell_type": "code",
   "execution_count": 10,
   "metadata": {},
   "outputs": [
    {
     "data": {
      "image/png": "[encoded data removed]",
      "text/plain": [
       "<Figure size 720x72 with 10 Axes>"
      ]
     },
     "metadata": {
      "needs_background": "light"
     },
     "output_type": "display_data"
    },
    {
     "name": "stdout",
     "output_type": "stream",
     "text": [
      "label for each of the above image: [2 6 7 4 4 0 3 0 7 3]\n"
     ]
    }
   ],
   "source": [
    "# visualizing the first 10 images in the dataset and their labels\n",
    "%matplotlib inline\n",
    "import matplotlib.pyplot as plt\n",
    "plt.figure(figsize=(10, 1))\n",
    "for i in range(10):\n",
    "    plt.subplot(1, 10, i+1)\n",
    "    plt.imshow(X_train[i].reshape(32,32),cmap='gray')\n",
    "    plt.axis('off')\n",
    "plt.show()\n",
    "print('label for each of the above image: %s' % (y_train[0:10]))"
   ]
  },
  {
   "cell_type": "code",
   "execution_count": 11,
   "metadata": {},
   "outputs": [],
   "source": [
    "#Reshape data from 2D to 1D -> 32X32 to 1024\n",
    "X_train = np.asarray(X_train).reshape(42000,1024)\n",
    "X_test = np.asarray(X_test).reshape(18000,1024)\n",
    "X_val = np.asarray(X_val).reshape(60000,1024)"
   ]
  },
  {
   "cell_type": "markdown",
   "metadata": {},
   "source": [
    "Converting output label to multiple values"
   ]
  },
  {
   "cell_type": "code",
   "execution_count": 12,
   "metadata": {},
   "outputs": [],
   "source": [
    "y_train = tf.keras.utils.to_categorical(y_train, num_classes = 10)\n",
    "y_test = tf.keras.utils.to_categorical(y_test, num_classes = 10)\n",
    "y_val = tf.keras.utils.to_categorical(y_val, num_classes = 10)"
   ]
  },
  {
   "cell_type": "code",
   "execution_count": 13,
   "metadata": {},
   "outputs": [
    {
     "name": "stdout",
     "output_type": "stream",
     "text": [
      "(42000, 1024) (18000, 1024) (60000, 1024) (42000, 10) (18000, 10) (60000, 10)\n"
     ]
    }
   ],
   "source": [
    "print(X_train.shape, X_test.shape,X_val.shape, y_train.shape, y_test.shape,y_val.shape)"
   ]
  },
  {
   "cell_type": "markdown",
   "metadata": {},
   "source": [
    "# Basic NN model"
   ]
  },
  {
   "cell_type": "code",
   "execution_count": 14,
   "metadata": {},
   "outputs": [],
   "source": [
    "model = Sequential()\n",
    "\n",
    "model.add(Dense(512, input_shape = (1024, )))\n",
    "model.add(Activation('sigmoid'))\n",
    "model.add(Dense(256))\n",
    "model.add(Activation('sigmoid'))\n",
    "model.add(Dense(128))\n",
    "model.add(Activation('sigmoid'))\n",
    "model.add(Dense(64))\n",
    "model.add(Activation('sigmoid'))\n",
    "model.add(Dense(32))\n",
    "model.add(Activation('sigmoid'))\n",
    "model.add(Dense(10))\n",
    "model.add(Activation('softmax'))"
   ]
  },
  {
   "cell_type": "code",
   "execution_count": 15,
   "metadata": {},
   "outputs": [],
   "source": [
    "sgd = optimizers.SGD(lr = 0.01)\n",
    "model.compile(optimizer = sgd, loss = 'categorical_crossentropy', metrics = ['accuracy'])"
   ]
  },
  {
   "cell_type": "code",
   "execution_count": 16,
   "metadata": {},
   "outputs": [
    {
     "name": "stdout",
     "output_type": "stream",
     "text": [
      "Epoch 1/10\n",
      "42000/42000 [==============================] - 3s 63us/step - loss: 2.3216 - accuracy: 0.0994\n",
      "Epoch 2/10\n",
      "42000/42000 [==============================] - 2s 54us/step - loss: 2.3029 - accuracy: 0.0985\n",
      "Epoch 3/10\n",
      "42000/42000 [==============================] - 2s 56us/step - loss: 2.3027 - accuracy: 0.0996\n",
      "Epoch 4/10\n",
      "42000/42000 [==============================] - 2s 50us/step - loss: 2.3027 - accuracy: 0.1013\n",
      "Epoch 5/10\n",
      "42000/42000 [==============================] - 2s 51us/step - loss: 2.3027 - accuracy: 0.0988\n",
      "Epoch 6/10\n",
      "42000/42000 [==============================] - 2s 51us/step - loss: 2.3027 - accuracy: 0.1015\n",
      "Epoch 7/10\n",
      "42000/42000 [==============================] - 2s 52us/step - loss: 2.3026 - accuracy: 0.1003\n",
      "Epoch 8/10\n",
      "42000/42000 [==============================] - 3s 62us/step - loss: 2.3026 - accuracy: 0.1018\n",
      "Epoch 9/10\n",
      "42000/42000 [==============================] - 3s 81us/step - loss: 2.3026 - accuracy: 0.1012\n",
      "Epoch 10/10\n",
      "42000/42000 [==============================] - 2s 52us/step - loss: 2.3026 - accuracy: 0.1003\n"
     ]
    }
   ],
   "source": [
    "history = model.fit(X_train, y_train, batch_size = 200, epochs = 10, verbose = 1)"
   ]
  },
  {
   "cell_type": "code",
   "execution_count": 17,
   "metadata": {},
   "outputs": [
    {
     "name": "stdout",
     "output_type": "stream",
     "text": [
      "18000/18000 [==============================] - 1s 51us/step\n"
     ]
    }
   ],
   "source": [
    "results = model.evaluate(X_test, y_test)"
   ]
  },
  {
   "cell_type": "code",
   "execution_count": 18,
   "metadata": {},
   "outputs": [
    {
     "name": "stdout",
     "output_type": "stream",
     "text": [
      "Test accuracy:  0.10561110824346542\n"
     ]
    }
   ],
   "source": [
    "print('Test accuracy: ', results[1])"
   ]
  },
  {
   "cell_type": "markdown",
   "metadata": {},
   "source": [
    "Accuracy is too low with basic NN model"
   ]
  },
  {
   "cell_type": "markdown",
   "metadata": {},
   "source": [
    "# Now, we will train Neural network using below techniques"
   ]
  },
  {
   "cell_type": "markdown",
   "metadata": {},
   "source": [
    "# 1. Weight Initialization\n",
    "\n",
    "Changing weight initialization scheme can significantly improve training of the model by preventing vanishing gradient problem up to some degree\n",
    "Ref: https://keras.io/initializers/"
   ]
  },
  {
   "cell_type": "code",
   "execution_count": 19,
   "metadata": {},
   "outputs": [],
   "source": [
    "# from now on, create a function to generate (return) models\n",
    "def mlp_model():\n",
    "    model = Sequential()\n",
    "    \n",
    "    model.add(Dense(512, input_shape = (1024, ), kernel_initializer='he_normal'))   # use he_normal initializer\n",
    "    model.add(Activation('sigmoid'))    \n",
    "    model.add(Dense(256, kernel_initializer='he_normal'))                           # use he_normal initializer\n",
    "    model.add(Activation('sigmoid'))    \n",
    "    model.add(Dense(128, kernel_initializer='he_normal'))                           # use he_normal initializer\n",
    "    model.add(Activation('sigmoid'))    \n",
    "    model.add(Dense(64, kernel_initializer='he_normal'))                            # use he_normal initializer\n",
    "    model.add(Activation('sigmoid'))    \n",
    "    model.add(Dense(32, kernel_initializer='he_normal'))                            # use he_normal initializer\n",
    "    model.add(Activation('sigmoid'))    \n",
    "    model.add(Dense(10, kernel_initializer='he_normal'))                            # use he_normal initializer\n",
    "    model.add(Activation('softmax'))\n",
    "    \n",
    "    sgd = optimizers.SGD(lr = 0.001)\n",
    "    model.compile(optimizer = sgd, loss = 'categorical_crossentropy', metrics = ['accuracy'])\n",
    "    \n",
    "    return model"
   ]
  },
  {
   "cell_type": "code",
   "execution_count": 20,
   "metadata": {},
   "outputs": [
    {
     "name": "stdout",
     "output_type": "stream",
     "text": [
      "Model: \"sequential_2\"\n",
      "_________________________________________________________________\n",
      "Layer (type)                 Output Shape              Param #   \n",
      "=================================================================\n",
      "dense_7 (Dense)              (None, 512)               524800    \n",
      "_________________________________________________________________\n",
      "activation_7 (Activation)    (None, 512)               0         \n",
      "_________________________________________________________________\n",
      "dense_8 (Dense)              (None, 256)               131328    \n",
      "_________________________________________________________________\n",
      "activation_8 (Activation)    (None, 256)               0         \n",
      "_________________________________________________________________\n",
      "dense_9 (Dense)              (None, 128)               32896     \n",
      "_________________________________________________________________\n",
      "activation_9 (Activation)    (None, 128)               0         \n",
      "_________________________________________________________________\n",
      "dense_10 (Dense)             (None, 64)                8256      \n",
      "_________________________________________________________________\n",
      "activation_10 (Activation)   (None, 64)                0         \n",
      "_________________________________________________________________\n",
      "dense_11 (Dense)             (None, 32)                2080      \n",
      "_________________________________________________________________\n",
      "activation_11 (Activation)   (None, 32)                0         \n",
      "_________________________________________________________________\n",
      "dense_12 (Dense)             (None, 10)                330       \n",
      "_________________________________________________________________\n",
      "activation_12 (Activation)   (None, 10)                0         \n",
      "=================================================================\n",
      "Total params: 699,690\n",
      "Trainable params: 699,690\n",
      "Non-trainable params: 0\n",
      "_________________________________________________________________\n"
     ]
    }
   ],
   "source": [
    "model = mlp_model()\n",
    "model.summary()"
   ]
  },
  {
   "cell_type": "code",
   "execution_count": 21,
   "metadata": {},
   "outputs": [
    {
     "name": "stdout",
     "output_type": "stream",
     "text": [
      "Epoch 1/100\n",
      "42000/42000 [==============================] - 3s 73us/step - loss: 2.4564 - accuracy: 0.1019\n",
      "Epoch 2/100\n",
      "42000/42000 [==============================] - 4s 94us/step - loss: 2.3689 - accuracy: 0.1019\n",
      "Epoch 3/100\n",
      "42000/42000 [==============================] - 3s 69us/step - loss: 2.3355 - accuracy: 0.1019\n",
      "Epoch 4/100\n",
      "42000/42000 [==============================] - 3s 71us/step - loss: 2.3200 - accuracy: 0.1019\n",
      "Epoch 5/100\n",
      "42000/42000 [==============================] - 2s 57us/step - loss: 2.3121 - accuracy: 0.1019\n",
      "Epoch 6/100\n",
      "42000/42000 [==============================] - 2s 54us/step - loss: 2.3079 - accuracy: 0.1019\n",
      "Epoch 7/100\n",
      "42000/42000 [==============================] - 2s 55us/step - loss: 2.3055 - accuracy: 0.1019\n",
      "Epoch 8/100\n",
      "42000/42000 [==============================] - 2s 56us/step - loss: 2.3042 - accuracy: 0.1019\n",
      "Epoch 9/100\n",
      "42000/42000 [==============================] - 2s 56us/step - loss: 2.3035 - accuracy: 0.1019\n",
      "Epoch 10/100\n",
      "42000/42000 [==============================] - 2s 54us/step - loss: 2.3031 - accuracy: 0.1019\n",
      "Epoch 11/100\n",
      "42000/42000 [==============================] - 2s 55us/step - loss: 2.3028 - accuracy: 0.1019\n",
      "Epoch 12/100\n",
      "42000/42000 [==============================] - 2s 55us/step - loss: 2.3027 - accuracy: 0.1019\n",
      "Epoch 13/100\n",
      "42000/42000 [==============================] - 2s 55us/step - loss: 2.3026 - accuracy: 0.1019\n",
      "Epoch 14/100\n",
      "42000/42000 [==============================] - 2s 55us/step - loss: 2.3025 - accuracy: 0.1019\n",
      "Epoch 15/100\n",
      "42000/42000 [==============================] - 2s 54us/step - loss: 2.3025 - accuracy: 0.1019\n",
      "Epoch 16/100\n",
      "42000/42000 [==============================] - 2s 55us/step - loss: 2.3025 - accuracy: 0.1019\n",
      "Epoch 17/100\n",
      "42000/42000 [==============================] - 3s 73us/step - loss: 2.3024 - accuracy: 0.1019\n",
      "Epoch 18/100\n",
      "42000/42000 [==============================] - 3s 60us/step - loss: 2.3024 - accuracy: 0.1019\n",
      "Epoch 19/100\n",
      "42000/42000 [==============================] - 2s 54us/step - loss: 2.3024 - accuracy: 0.1020\n",
      "Epoch 20/100\n",
      "42000/42000 [==============================] - 2s 55us/step - loss: 2.3024 - accuracy: 0.1020\n",
      "Epoch 21/100\n",
      "42000/42000 [==============================] - 2s 57us/step - loss: 2.3024 - accuracy: 0.1019\n",
      "Epoch 22/100\n",
      "42000/42000 [==============================] - 2s 56us/step - loss: 2.3024 - accuracy: 0.1022\n",
      "Epoch 23/100\n",
      "42000/42000 [==============================] - 2s 57us/step - loss: 2.3024 - accuracy: 0.1020\n",
      "Epoch 24/100\n",
      "42000/42000 [==============================] - 2s 56us/step - loss: 2.3024 - accuracy: 0.1022\n",
      "Epoch 25/100\n",
      "42000/42000 [==============================] - 2s 56us/step - loss: 2.3024 - accuracy: 0.1022\n",
      "Epoch 26/100\n",
      "42000/42000 [==============================] - 2s 55us/step - loss: 2.3024 - accuracy: 0.1022\n",
      "Epoch 27/100\n",
      "42000/42000 [==============================] - 2s 55us/step - loss: 2.3024 - accuracy: 0.1020\n",
      "Epoch 28/100\n",
      "42000/42000 [==============================] - 2s 55us/step - loss: 2.3024 - accuracy: 0.1021\n",
      "Epoch 29/100\n",
      "42000/42000 [==============================] - 2s 59us/step - loss: 2.3024 - accuracy: 0.1030\n",
      "Epoch 30/100\n",
      "42000/42000 [==============================] - 2s 59us/step - loss: 2.3023 - accuracy: 0.1030\n",
      "Epoch 31/100\n",
      "42000/42000 [==============================] - 2s 59us/step - loss: 2.3023 - accuracy: 0.1022\n",
      "Epoch 32/100\n",
      "42000/42000 [==============================] - 2s 54us/step - loss: 2.3023 - accuracy: 0.1020\n",
      "Epoch 33/100\n",
      "42000/42000 [==============================] - 2s 55us/step - loss: 2.3023 - accuracy: 0.1020\n",
      "Epoch 34/100\n",
      "42000/42000 [==============================] - 2s 54us/step - loss: 2.3023 - accuracy: 0.1019\n",
      "Epoch 35/100\n",
      "42000/42000 [==============================] - 2s 55us/step - loss: 2.3023 - accuracy: 0.1019\n",
      "Epoch 36/100\n",
      "42000/42000 [==============================] - 2s 54us/step - loss: 2.3023 - accuracy: 0.1021\n",
      "Epoch 37/100\n",
      "42000/42000 [==============================] - 2s 56us/step - loss: 2.3023 - accuracy: 0.1031\n",
      "Epoch 38/100\n",
      "42000/42000 [==============================] - 2s 57us/step - loss: 2.3023 - accuracy: 0.1023\n",
      "Epoch 39/100\n",
      "42000/42000 [==============================] - 2s 58us/step - loss: 2.3023 - accuracy: 0.1021\n",
      "Epoch 40/100\n",
      "42000/42000 [==============================] - 2s 59us/step - loss: 2.3023 - accuracy: 0.1032\n",
      "Epoch 41/100\n",
      "42000/42000 [==============================] - 2s 59us/step - loss: 2.3023 - accuracy: 0.1025\n",
      "Epoch 42/100\n",
      "42000/42000 [==============================] - 3s 62us/step - loss: 2.3023 - accuracy: 0.1022\n",
      "Epoch 43/100\n",
      "42000/42000 [==============================] - 2s 57us/step - loss: 2.3023 - accuracy: 0.1021\n",
      "Epoch 44/100\n",
      "42000/42000 [==============================] - 2s 56us/step - loss: 2.3023 - accuracy: 0.1021\n",
      "Epoch 45/100\n",
      "42000/42000 [==============================] - 2s 55us/step - loss: 2.3023 - accuracy: 0.1022\n",
      "Epoch 46/100\n",
      "42000/42000 [==============================] - 2s 56us/step - loss: 2.3023 - accuracy: 0.1020\n",
      "Epoch 47/100\n",
      "42000/42000 [==============================] - 2s 56us/step - loss: 2.3023 - accuracy: 0.1022\n",
      "Epoch 48/100\n",
      "42000/42000 [==============================] - 2s 57us/step - loss: 2.3023 - accuracy: 0.1026\n",
      "Epoch 49/100\n",
      "42000/42000 [==============================] - 2s 56us/step - loss: 2.3023 - accuracy: 0.1025\n",
      "Epoch 50/100\n",
      "42000/42000 [==============================] - 2s 56us/step - loss: 2.3023 - accuracy: 0.1022\n",
      "Epoch 51/100\n",
      "42000/42000 [==============================] - 2s 54us/step - loss: 2.3023 - accuracy: 0.1020\n",
      "Epoch 52/100\n",
      "42000/42000 [==============================] - 2s 56us/step - loss: 2.3023 - accuracy: 0.1020\n",
      "Epoch 53/100\n",
      "42000/42000 [==============================] - 2s 55us/step - loss: 2.3023 - accuracy: 0.1033\n",
      "Epoch 54/100\n",
      "42000/42000 [==============================] - 2s 60us/step - loss: 2.3023 - accuracy: 0.1024\n",
      "Epoch 55/100\n",
      "42000/42000 [==============================] - 2s 58us/step - loss: 2.3022 - accuracy: 0.1022\n",
      "Epoch 56/100\n",
      "42000/42000 [==============================] - 2s 56us/step - loss: 2.3022 - accuracy: 0.1020\n",
      "Epoch 57/100\n",
      "42000/42000 [==============================] - 2s 55us/step - loss: 2.3022 - accuracy: 0.1029\n",
      "Epoch 58/100\n",
      "42000/42000 [==============================] - 2s 55us/step - loss: 2.3022 - accuracy: 0.1023\n",
      "Epoch 59/100\n",
      "42000/42000 [==============================] - 2s 56us/step - loss: 2.3022 - accuracy: 0.1019\n",
      "Epoch 60/100\n",
      "42000/42000 [==============================] - 2s 54us/step - loss: 2.3022 - accuracy: 0.1019\n",
      "Epoch 61/100\n",
      "42000/42000 [==============================] - 2s 55us/step - loss: 2.3022 - accuracy: 0.1021\n",
      "Epoch 62/100\n",
      "42000/42000 [==============================] - 2s 55us/step - loss: 2.3022 - accuracy: 0.1020\n",
      "Epoch 63/100\n",
      "42000/42000 [==============================] - 2s 55us/step - loss: 2.3022 - accuracy: 0.1023\n",
      "Epoch 64/100\n",
      "42000/42000 [==============================] - 2s 54us/step - loss: 2.3022 - accuracy: 0.1025\n",
      "Epoch 65/100\n",
      "42000/42000 [==============================] - 2s 54us/step - loss: 2.3022 - accuracy: 0.1019\n",
      "Epoch 66/100\n",
      "42000/42000 [==============================] - 2s 59us/step - loss: 2.3022 - accuracy: 0.1035\n",
      "Epoch 67/100\n",
      "42000/42000 [==============================] - 3s 60us/step - loss: 2.3022 - accuracy: 0.1030\n",
      "Epoch 68/100\n",
      "42000/42000 [==============================] - 2s 55us/step - loss: 2.3022 - accuracy: 0.1020\n",
      "Epoch 69/100\n",
      "42000/42000 [==============================] - 2s 55us/step - loss: 2.3022 - accuracy: 0.1025\n",
      "Epoch 70/100\n",
      "42000/42000 [==============================] - 2s 57us/step - loss: 2.3022 - accuracy: 0.1030\n",
      "Epoch 71/100\n",
      "42000/42000 [==============================] - 2s 55us/step - loss: 2.3022 - accuracy: 0.1021\n",
      "Epoch 72/100\n",
      "42000/42000 [==============================] - 2s 57us/step - loss: 2.3022 - accuracy: 0.1019\n",
      "Epoch 73/100\n",
      "42000/42000 [==============================] - 2s 55us/step - loss: 2.3022 - accuracy: 0.1024\n",
      "Epoch 74/100\n",
      "42000/42000 [==============================] - 2s 56us/step - loss: 2.3022 - accuracy: 0.1020\n",
      "Epoch 75/100\n",
      "42000/42000 [==============================] - 2s 54us/step - loss: 2.3022 - accuracy: 0.1022\n",
      "Epoch 76/100\n",
      "42000/42000 [==============================] - 2s 55us/step - loss: 2.3022 - accuracy: 0.1026\n",
      "Epoch 77/100\n"
     ]
    },
    {
     "name": "stdout",
     "output_type": "stream",
     "text": [
      "42000/42000 [==============================] - 2s 53us/step - loss: 2.3022 - accuracy: 0.1021\n",
      "Epoch 78/100\n",
      "42000/42000 [==============================] - 2s 54us/step - loss: 2.3022 - accuracy: 0.1021\n",
      "Epoch 79/100\n",
      "42000/42000 [==============================] - 2s 55us/step - loss: 2.3022 - accuracy: 0.1019\n",
      "Epoch 80/100\n",
      "42000/42000 [==============================] - 2s 58us/step - loss: 2.3022 - accuracy: 0.1026\n",
      "Epoch 81/100\n",
      "42000/42000 [==============================] - 2s 55us/step - loss: 2.3022 - accuracy: 0.1023\n",
      "Epoch 82/100\n",
      "42000/42000 [==============================] - 2s 54us/step - loss: 2.3022 - accuracy: 0.1017\n",
      "Epoch 83/100\n",
      "42000/42000 [==============================] - 2s 55us/step - loss: 2.3022 - accuracy: 0.1020\n",
      "Epoch 84/100\n",
      "42000/42000 [==============================] - 2s 54us/step - loss: 2.3022 - accuracy: 0.1020\n",
      "Epoch 85/100\n",
      "42000/42000 [==============================] - 2s 55us/step - loss: 2.3022 - accuracy: 0.1027\n",
      "Epoch 86/100\n",
      "42000/42000 [==============================] - 2s 54us/step - loss: 2.3022 - accuracy: 0.1027\n",
      "Epoch 87/100\n",
      "42000/42000 [==============================] - 2s 54us/step - loss: 2.3022 - accuracy: 0.1020\n",
      "Epoch 88/100\n",
      "42000/42000 [==============================] - 2s 56us/step - loss: 2.3022 - accuracy: 0.1024\n",
      "Epoch 89/100\n",
      "42000/42000 [==============================] - 2s 58us/step - loss: 2.3021 - accuracy: 0.1025\n",
      "Epoch 90/100\n",
      "42000/42000 [==============================] - 2s 55us/step - loss: 2.3021 - accuracy: 0.1023\n",
      "Epoch 91/100\n",
      "42000/42000 [==============================] - 2s 57us/step - loss: 2.3021 - accuracy: 0.1023\n",
      "Epoch 92/100\n",
      "42000/42000 [==============================] - 2s 57us/step - loss: 2.3021 - accuracy: 0.1021\n",
      "Epoch 93/100\n",
      "42000/42000 [==============================] - 2s 57us/step - loss: 2.3021 - accuracy: 0.1020\n",
      "Epoch 94/100\n",
      "42000/42000 [==============================] - 2s 55us/step - loss: 2.3021 - accuracy: 0.1024\n",
      "Epoch 95/100\n",
      "42000/42000 [==============================] - 2s 54us/step - loss: 2.3021 - accuracy: 0.1022\n",
      "Epoch 96/100\n",
      "42000/42000 [==============================] - 2s 55us/step - loss: 2.3021 - accuracy: 0.1020\n",
      "Epoch 97/100\n",
      "42000/42000 [==============================] - 2s 54us/step - loss: 2.3021 - accuracy: 0.1022\n",
      "Epoch 98/100\n",
      "42000/42000 [==============================] - 2s 55us/step - loss: 2.3021 - accuracy: 0.1029\n",
      "Epoch 99/100\n",
      "42000/42000 [==============================] - 2s 55us/step - loss: 2.3021 - accuracy: 0.1025\n",
      "Epoch 100/100\n",
      "42000/42000 [==============================] - 2s 54us/step - loss: 2.3021 - accuracy: 0.1029\n"
     ]
    }
   ],
   "source": [
    "history = model.fit(X_train, y_train, batch_size=200, epochs = 100, verbose = 1)"
   ]
  },
  {
   "cell_type": "code",
   "execution_count": 22,
   "metadata": {},
   "outputs": [
    {
     "name": "stdout",
     "output_type": "stream",
     "text": [
      "18000/18000 [==============================] - 1s 55us/step\n"
     ]
    }
   ],
   "source": [
    "results = model.evaluate(X_test, y_test)"
   ]
  },
  {
   "cell_type": "code",
   "execution_count": 23,
   "metadata": {},
   "outputs": [
    {
     "name": "stdout",
     "output_type": "stream",
     "text": [
      "Test accuracy:  0.09561111032962799\n"
     ]
    }
   ],
   "source": [
    "print('Test accuracy: ', results[1])"
   ]
  },
  {
   "cell_type": "markdown",
   "metadata": {},
   "source": [
    "# 2. Nonlinearity (Activation function)\n",
    "\n",
    "# Implement and apply a deep neural network classifier including\n",
    "(feedforward neural network, RELU, activations) \n",
    "\n",
    "\n",
    "Sigmoid functions suffer from gradient vanishing problem, making training slower\n",
    "There are many choices apart from sigmoid and tanh; try many of them!\n",
    "'relu' (rectified linear unit) is one of the most popular ones\n",
    "Ref: https://keras.io/activations/"
   ]
  },
  {
   "cell_type": "code",
   "execution_count": 24,
   "metadata": {},
   "outputs": [],
   "source": [
    "##Initialize the Artificial Neural Network Classifier"
   ]
  },
  {
   "cell_type": "code",
   "execution_count": 25,
   "metadata": {},
   "outputs": [],
   "source": [
    " \n",
    "    model_sgd = Sequential()\n",
    "    #Adding Input layer and activation functions ReLU\n",
    "    model_sgd.add(Dense(512, kernel_initializer='he_normal', input_shape = (1024, )))\n",
    "    #Adding Activation function\n",
    "    model_sgd.add(Activation('relu'))    \n",
    "\n",
    "    #Hidden Layer 1\n",
    "    #Adding first Hidden layer\n",
    "    model_sgd.add(Dense(256, kernel_initializer='he_normal'))\n",
    "    model_sgd.add(Activation('relu'))    \n",
    "\n",
    "    #Hidden Layer 2\n",
    "    #Adding second Hidden layer\n",
    "    model_sgd.add(Dense(128, kernel_initializer='he_normal'))\n",
    "    model_sgd.add(Activation('relu'))    \n",
    "\n",
    "    #Hidden Layer 3\n",
    "    #Adding third Hidden layer\n",
    "    model_sgd.add(Dense(64, kernel_initializer='he_normal'))\n",
    "    model_sgd.add(Activation('relu'))    \n",
    "\n",
    "    #Hidden Layer 4\n",
    "    #Adding fourth Hidden layer\n",
    "    model_sgd.add(Dense(32, kernel_initializer='he_normal'))\n",
    "    model_sgd.add(Activation('relu'))    \n",
    "\n",
    "    # Output Layer\n",
    "    #Adding output layer which is of 10 nodes (digits)\n",
    "    model_sgd.add(Dense(10))\n",
    "    model_sgd.add(Activation('softmax'))\n",
    "\n",
    "    #ANN classifier\n",
    "    sgd = optimizers.SGD(lr = 0.001)\n",
    "    model_sgd.compile(optimizer = sgd, loss = 'categorical_crossentropy', metrics = ['accuracy'])\n",
    " "
   ]
  },
  {
   "cell_type": "code",
   "execution_count": 26,
   "metadata": {},
   "outputs": [
    {
     "name": "stdout",
     "output_type": "stream",
     "text": [
      "Model: \"sequential_3\"\n",
      "_________________________________________________________________\n",
      "Layer (type)                 Output Shape              Param #   \n",
      "=================================================================\n",
      "dense_13 (Dense)             (None, 512)               524800    \n",
      "_________________________________________________________________\n",
      "activation_13 (Activation)   (None, 512)               0         \n",
      "_________________________________________________________________\n",
      "dense_14 (Dense)             (None, 256)               131328    \n",
      "_________________________________________________________________\n",
      "activation_14 (Activation)   (None, 256)               0         \n",
      "_________________________________________________________________\n",
      "dense_15 (Dense)             (None, 128)               32896     \n",
      "_________________________________________________________________\n",
      "activation_15 (Activation)   (None, 128)               0         \n",
      "_________________________________________________________________\n",
      "dense_16 (Dense)             (None, 64)                8256      \n",
      "_________________________________________________________________\n",
      "activation_16 (Activation)   (None, 64)                0         \n",
      "_________________________________________________________________\n",
      "dense_17 (Dense)             (None, 32)                2080      \n",
      "_________________________________________________________________\n",
      "activation_17 (Activation)   (None, 32)                0         \n",
      "_________________________________________________________________\n",
      "dense_18 (Dense)             (None, 10)                330       \n",
      "_________________________________________________________________\n",
      "activation_18 (Activation)   (None, 10)                0         \n",
      "=================================================================\n",
      "Total params: 699,690\n",
      "Trainable params: 699,690\n",
      "Non-trainable params: 0\n",
      "_________________________________________________________________\n"
     ]
    }
   ],
   "source": [
    "model_sgd.summary()"
   ]
  },
  {
   "cell_type": "code",
   "execution_count": 27,
   "metadata": {},
   "outputs": [
    {
     "name": "stdout",
     "output_type": "stream",
     "text": [
      "Train on 42000 samples, validate on 60000 samples\n",
      "Epoch 1/10\n",
      "42000/42000 [==============================] - 4s 84us/step - loss: 330243167.2661 - accuracy: 0.1009 - val_loss: 2.3026 - val_accuracy: 0.1000\n",
      "Epoch 2/10\n",
      "42000/42000 [==============================] - 3s 80us/step - loss: 2.3026 - accuracy: 0.1019 - val_loss: 2.3026 - val_accuracy: 0.1000\n",
      "Epoch 3/10\n",
      "42000/42000 [==============================] - 3s 78us/step - loss: 2.3026 - accuracy: 0.1019 - val_loss: 2.3026 - val_accuracy: 0.1000\n",
      "Epoch 4/10\n",
      "42000/42000 [==============================] - 3s 81us/step - loss: 2.3026 - accuracy: 0.1019 - val_loss: 2.3026 - val_accuracy: 0.1000\n",
      "Epoch 5/10\n",
      "42000/42000 [==============================] - 3s 78us/step - loss: 2.3026 - accuracy: 0.1019 - val_loss: 2.3026 - val_accuracy: 0.1000\n",
      "Epoch 6/10\n",
      "42000/42000 [==============================] - 3s 79us/step - loss: 2.3026 - accuracy: 0.1019 - val_loss: 2.3026 - val_accuracy: 0.1000\n",
      "Epoch 7/10\n",
      "42000/42000 [==============================] - 3s 78us/step - loss: 2.3026 - accuracy: 0.1019 - val_loss: 2.3026 - val_accuracy: 0.1000\n",
      "Epoch 8/10\n",
      "42000/42000 [==============================] - 3s 78us/step - loss: 2.3026 - accuracy: 0.1019 - val_loss: 2.3026 - val_accuracy: 0.1000\n",
      "Epoch 9/10\n",
      "42000/42000 [==============================] - 3s 80us/step - loss: 2.3026 - accuracy: 0.1019 - val_loss: 2.3026 - val_accuracy: 0.1000\n",
      "Epoch 10/10\n",
      "42000/42000 [==============================] - 3s 79us/step - loss: 2.3026 - accuracy: 0.1019 - val_loss: 2.3026 - val_accuracy: 0.1000\n"
     ]
    }
   ],
   "source": [
    "# Fitting the ANN to the Training data\n",
    "history = model_sgd.fit(X_train, y_train, validation_data=(X_val,y_val), batch_size = 200, epochs = 10, verbose = 1)"
   ]
  },
  {
   "cell_type": "code",
   "execution_count": 28,
   "metadata": {},
   "outputs": [
    {
     "name": "stdout",
     "output_type": "stream",
     "text": [
      "18000/18000 [==============================] - 1s 50us/step\n"
     ]
    }
   ],
   "source": [
    "results = model_sgd.evaluate(X_test, y_test)"
   ]
  },
  {
   "cell_type": "code",
   "execution_count": 29,
   "metadata": {},
   "outputs": [
    {
     "name": "stdout",
     "output_type": "stream",
     "text": [
      "Test accuracy:  0.09549999982118607\n"
     ]
    }
   ],
   "source": [
    "print('Test accuracy: ', results[1])"
   ]
  },
  {
   "cell_type": "markdown",
   "metadata": {},
   "source": [
    "# Using adam optimizer and Categorical Crossentropy as loss function and Accuracy as the metric to monitor"
   ]
  },
  {
   "cell_type": "code",
   "execution_count": 30,
   "metadata": {},
   "outputs": [],
   "source": [
    "# compiling the ANN classifier\n",
    "model.compile(optimizer = 'adam', loss = 'categorical_crossentropy', metrics = ['accuracy'])"
   ]
  },
  {
   "cell_type": "code",
   "execution_count": 31,
   "metadata": {},
   "outputs": [
    {
     "name": "stdout",
     "output_type": "stream",
     "text": [
      "Train on 42000 samples, validate on 60000 samples\n",
      "Epoch 1/10\n",
      "42000/42000 [==============================] - 5s 119us/step - loss: 2.3062 - accuracy: 0.0998 - val_loss: 2.3048 - val_accuracy: 0.1000\n",
      "Epoch 2/10\n",
      "42000/42000 [==============================] - 5s 120us/step - loss: 2.3051 - accuracy: 0.1003 - val_loss: 2.3036 - val_accuracy: 0.1000\n",
      "Epoch 3/10\n",
      "42000/42000 [==============================] - 5s 115us/step - loss: 2.3046 - accuracy: 0.0991 - val_loss: 2.3054 - val_accuracy: 0.1000\n",
      "Epoch 4/10\n",
      "42000/42000 [==============================] - 5s 115us/step - loss: 2.3049 - accuracy: 0.0998 - val_loss: 2.3038 - val_accuracy: 0.1000\n",
      "Epoch 5/10\n",
      "42000/42000 [==============================] - 5s 115us/step - loss: 2.3043 - accuracy: 0.1015 - val_loss: 2.3045 - val_accuracy: 0.1000\n",
      "Epoch 6/10\n",
      "42000/42000 [==============================] - 5s 114us/step - loss: 2.3045 - accuracy: 0.1000 - val_loss: 2.3046 - val_accuracy: 0.1000\n",
      "Epoch 7/10\n",
      "42000/42000 [==============================] - 5s 115us/step - loss: 2.3040 - accuracy: 0.0987 - val_loss: 2.3029 - val_accuracy: 0.1000\n",
      "Epoch 8/10\n",
      "42000/42000 [==============================] - 5s 117us/step - loss: 2.3045 - accuracy: 0.0987 - val_loss: 2.3034 - val_accuracy: 0.1000\n",
      "Epoch 9/10\n",
      "42000/42000 [==============================] - 5s 116us/step - loss: 2.3043 - accuracy: 0.1013 - val_loss: 2.3046 - val_accuracy: 0.1000\n",
      "Epoch 10/10\n",
      "42000/42000 [==============================] - 5s 113us/step - loss: 2.3042 - accuracy: 0.0982 - val_loss: 2.3040 - val_accuracy: 0.1000\n"
     ]
    }
   ],
   "source": [
    "# Fitting the ANN to the Training data\n",
    "history = model.fit(X_train, y_train, validation_data=(X_val,y_val), batch_size = 200, epochs = 10, verbose = 1)"
   ]
  },
  {
   "cell_type": "markdown",
   "metadata": {},
   "source": [
    "The accuracy of the model on val data is very low either using adam or sgd."
   ]
  },
  {
   "cell_type": "markdown",
   "metadata": {},
   "source": [
    "### Now, try to change the learning rate in SGD optimizer\n",
    "\n",
    "As, we are taking learning rate small means model will learn slowly. So, we have to take more number of epochs."
   ]
  },
  {
   "cell_type": "code",
   "execution_count": 32,
   "metadata": {},
   "outputs": [
    {
     "name": "stdout",
     "output_type": "stream",
     "text": [
      "Train on 42000 samples, validate on 60000 samples\n",
      "Epoch 1/100\n",
      "42000/42000 [==============================] - 4s 85us/step - loss: 2.3026 - accuracy: 0.1019 - val_loss: 2.3026 - val_accuracy: 0.1000\n",
      "Epoch 2/100\n",
      "42000/42000 [==============================] - 3s 81us/step - loss: 2.3026 - accuracy: 0.1019 - val_loss: 2.3026 - val_accuracy: 0.1000\n",
      "Epoch 3/100\n",
      "42000/42000 [==============================] - 3s 81us/step - loss: 2.3026 - accuracy: 0.1019 - val_loss: 2.3026 - val_accuracy: 0.1000\n",
      "Epoch 4/100\n",
      "42000/42000 [==============================] - 3s 83us/step - loss: 2.3026 - accuracy: 0.1019 - val_loss: 2.3026 - val_accuracy: 0.1000\n",
      "Epoch 5/100\n",
      "42000/42000 [==============================] - 4s 86us/step - loss: 2.3026 - accuracy: 0.1019 - val_loss: 2.3026 - val_accuracy: 0.1000\n",
      "Epoch 6/100\n",
      "42000/42000 [==============================] - 3s 83us/step - loss: 2.3026 - accuracy: 0.1019 - val_loss: 2.3026 - val_accuracy: 0.1000\n",
      "Epoch 7/100\n",
      "42000/42000 [==============================] - 4s 84us/step - loss: 2.3026 - accuracy: 0.1019 - val_loss: 2.3026 - val_accuracy: 0.1000\n",
      "Epoch 8/100\n",
      "42000/42000 [==============================] - 4s 85us/step - loss: 2.3026 - accuracy: 0.1019 - val_loss: 2.3026 - val_accuracy: 0.1000\n",
      "Epoch 9/100\n",
      "42000/42000 [==============================] - 3s 81us/step - loss: 2.3026 - accuracy: 0.1019 - val_loss: 2.3026 - val_accuracy: 0.1000\n",
      "Epoch 10/100\n",
      "42000/42000 [==============================] - 3s 78us/step - loss: 2.3026 - accuracy: 0.1019 - val_loss: 2.3026 - val_accuracy: 0.1000\n",
      "Epoch 11/100\n",
      "42000/42000 [==============================] - 3s 79us/step - loss: 2.3026 - accuracy: 0.1019 - val_loss: 2.3026 - val_accuracy: 0.1000\n",
      "Epoch 12/100\n",
      "42000/42000 [==============================] - 3s 81us/step - loss: 2.3026 - accuracy: 0.1019 - val_loss: 2.3026 - val_accuracy: 0.1000\n",
      "Epoch 13/100\n",
      "42000/42000 [==============================] - 3s 79us/step - loss: 2.3026 - accuracy: 0.1019 - val_loss: 2.3026 - val_accuracy: 0.1000\n",
      "Epoch 14/100\n",
      "42000/42000 [==============================] - 3s 82us/step - loss: 2.3026 - accuracy: 0.1019 - val_loss: 2.3026 - val_accuracy: 0.1000\n",
      "Epoch 15/100\n",
      "42000/42000 [==============================] - 3s 79us/step - loss: 2.3026 - accuracy: 0.1019 - val_loss: 2.3026 - val_accuracy: 0.1000\n",
      "Epoch 16/100\n",
      "42000/42000 [==============================] - 3s 80us/step - loss: 2.3026 - accuracy: 0.1019 - val_loss: 2.3026 - val_accuracy: 0.1000\n",
      "Epoch 17/100\n",
      "42000/42000 [==============================] - 3s 78us/step - loss: 2.3026 - accuracy: 0.1019 - val_loss: 2.3026 - val_accuracy: 0.1000\n",
      "Epoch 18/100\n",
      "42000/42000 [==============================] - 3s 79us/step - loss: 2.3026 - accuracy: 0.1019 - val_loss: 2.3026 - val_accuracy: 0.1000\n",
      "Epoch 19/100\n",
      "42000/42000 [==============================] - 3s 81us/step - loss: 2.3026 - accuracy: 0.1019 - val_loss: 2.3026 - val_accuracy: 0.1000\n",
      "Epoch 20/100\n",
      "42000/42000 [==============================] - 3s 81us/step - loss: 2.3026 - accuracy: 0.1019 - val_loss: 2.3026 - val_accuracy: 0.1000\n",
      "Epoch 21/100\n",
      "42000/42000 [==============================] - 3s 81us/step - loss: 2.3026 - accuracy: 0.1019 - val_loss: 2.3026 - val_accuracy: 0.1000\n",
      "Epoch 22/100\n",
      "42000/42000 [==============================] - 3s 82us/step - loss: 2.3026 - accuracy: 0.1019 - val_loss: 2.3026 - val_accuracy: 0.1000\n",
      "Epoch 23/100\n",
      "42000/42000 [==============================] - 4s 83us/step - loss: 2.3026 - accuracy: 0.1019 - val_loss: 2.3026 - val_accuracy: 0.1000\n",
      "Epoch 24/100\n",
      "42000/42000 [==============================] - 3s 81us/step - loss: 2.3026 - accuracy: 0.1019 - val_loss: 2.3026 - val_accuracy: 0.1000\n",
      "Epoch 25/100\n",
      "42000/42000 [==============================] - 3s 80us/step - loss: 2.3026 - accuracy: 0.1019 - val_loss: 2.3026 - val_accuracy: 0.1000\n",
      "Epoch 26/100\n",
      "42000/42000 [==============================] - 3s 80us/step - loss: 2.3026 - accuracy: 0.1019 - val_loss: 2.3026 - val_accuracy: 0.1000\n",
      "Epoch 27/100\n",
      "42000/42000 [==============================] - 3s 81us/step - loss: 2.3026 - accuracy: 0.1019 - val_loss: 2.3026 - val_accuracy: 0.1000\n",
      "Epoch 28/100\n",
      "42000/42000 [==============================] - 3s 79us/step - loss: 2.3026 - accuracy: 0.1019 - val_loss: 2.3026 - val_accuracy: 0.1000\n",
      "Epoch 29/100\n",
      "42000/42000 [==============================] - 3s 79us/step - loss: 2.3026 - accuracy: 0.1019 - val_loss: 2.3026 - val_accuracy: 0.1000\n",
      "Epoch 30/100\n",
      "42000/42000 [==============================] - 3s 81us/step - loss: 2.3026 - accuracy: 0.1019 - val_loss: 2.3026 - val_accuracy: 0.1000\n",
      "Epoch 31/100\n",
      "42000/42000 [==============================] - 3s 79us/step - loss: 2.3026 - accuracy: 0.1019 - val_loss: 2.3026 - val_accuracy: 0.1000\n",
      "Epoch 32/100\n",
      "42000/42000 [==============================] - 4s 88us/step - loss: 2.3026 - accuracy: 0.1019 - val_loss: 2.3026 - val_accuracy: 0.1000\n",
      "Epoch 33/100\n",
      "42000/42000 [==============================] - 3s 82us/step - loss: 2.3026 - accuracy: 0.1019 - val_loss: 2.3026 - val_accuracy: 0.1000\n",
      "Epoch 34/100\n",
      "42000/42000 [==============================] - 3s 79us/step - loss: 2.3026 - accuracy: 0.1019 - val_loss: 2.3026 - val_accuracy: 0.1000\n",
      "Epoch 35/100\n",
      "42000/42000 [==============================] - 3s 80us/step - loss: 2.3026 - accuracy: 0.1019 - val_loss: 2.3026 - val_accuracy: 0.1000\n",
      "Epoch 36/100\n",
      "42000/42000 [==============================] - 3s 80us/step - loss: 2.3026 - accuracy: 0.1019 - val_loss: 2.3026 - val_accuracy: 0.1000\n",
      "Epoch 37/100\n",
      "42000/42000 [==============================] - 3s 81us/step - loss: 2.3026 - accuracy: 0.1019 - val_loss: 2.3026 - val_accuracy: 0.1000\n",
      "Epoch 38/100\n",
      "42000/42000 [==============================] - 4s 84us/step - loss: 2.3026 - accuracy: 0.1019 - val_loss: 2.3026 - val_accuracy: 0.1000\n",
      "Epoch 39/100\n",
      "42000/42000 [==============================] - 3s 82us/step - loss: 2.3026 - accuracy: 0.1019 - val_loss: 2.3026 - val_accuracy: 0.1000\n",
      "Epoch 40/100\n",
      "42000/42000 [==============================] - 4s 84us/step - loss: 2.3026 - accuracy: 0.1019 - val_loss: 2.3026 - val_accuracy: 0.1000\n",
      "Epoch 41/100\n",
      "42000/42000 [==============================] - 3s 83us/step - loss: 2.3026 - accuracy: 0.1019 - val_loss: 2.3026 - val_accuracy: 0.1000\n",
      "Epoch 42/100\n",
      "42000/42000 [==============================] - 3s 80us/step - loss: 2.3026 - accuracy: 0.1019 - val_loss: 2.3026 - val_accuracy: 0.1000\n",
      "Epoch 43/100\n",
      "42000/42000 [==============================] - 3s 81us/step - loss: 2.3026 - accuracy: 0.1019 - val_loss: 2.3026 - val_accuracy: 0.1000\n",
      "Epoch 44/100\n",
      "42000/42000 [==============================] - 3s 80us/step - loss: 2.3026 - accuracy: 0.1019 - val_loss: 2.3026 - val_accuracy: 0.1000\n",
      "Epoch 45/100\n",
      "42000/42000 [==============================] - 3s 80us/step - loss: 2.3026 - accuracy: 0.1019 - val_loss: 2.3026 - val_accuracy: 0.1000\n",
      "Epoch 46/100\n",
      "42000/42000 [==============================] - 3s 79us/step - loss: 2.3026 - accuracy: 0.1019 - val_loss: 2.3026 - val_accuracy: 0.1000\n",
      "Epoch 47/100\n",
      "42000/42000 [==============================] - 3s 80us/step - loss: 2.3026 - accuracy: 0.1019 - val_loss: 2.3026 - val_accuracy: 0.1000\n",
      "Epoch 48/100\n",
      "42000/42000 [==============================] - 3s 80us/step - loss: 2.3026 - accuracy: 0.1019 - val_loss: 2.3026 - val_accuracy: 0.1000\n",
      "Epoch 49/100\n",
      "42000/42000 [==============================] - 3s 81us/step - loss: 2.3026 - accuracy: 0.1019 - val_loss: 2.3026 - val_accuracy: 0.1000\n",
      "Epoch 50/100\n",
      "42000/42000 [==============================] - 3s 81us/step - loss: 2.3026 - accuracy: 0.1019 - val_loss: 2.3026 - val_accuracy: 0.1000\n",
      "Epoch 51/100\n",
      "42000/42000 [==============================] - 3s 80us/step - loss: 2.3026 - accuracy: 0.1019 - val_loss: 2.3026 - val_accuracy: 0.1000\n",
      "Epoch 52/100\n",
      "42000/42000 [==============================] - 3s 79us/step - loss: 2.3026 - accuracy: 0.1019 - val_loss: 2.3026 - val_accuracy: 0.1000\n",
      "Epoch 53/100\n",
      "42000/42000 [==============================] - 3s 80us/step - loss: 2.3026 - accuracy: 0.1019 - val_loss: 2.3026 - val_accuracy: 0.1000\n",
      "Epoch 54/100\n",
      "42000/42000 [==============================] - 3s 79us/step - loss: 2.3026 - accuracy: 0.1019 - val_loss: 2.3026 - val_accuracy: 0.1000\n",
      "Epoch 55/100\n",
      "42000/42000 [==============================] - 3s 80us/step - loss: 2.3026 - accuracy: 0.1019 - val_loss: 2.3026 - val_accuracy: 0.1000\n"
     ]
    },
    {
     "name": "stdout",
     "output_type": "stream",
     "text": [
      "Epoch 56/100\n",
      "42000/42000 [==============================] - 3s 79us/step - loss: 2.3026 - accuracy: 0.1019 - val_loss: 2.3026 - val_accuracy: 0.1000\n",
      "Epoch 57/100\n",
      "42000/42000 [==============================] - 3s 80us/step - loss: 2.3026 - accuracy: 0.1019 - val_loss: 2.3026 - val_accuracy: 0.1000\n",
      "Epoch 58/100\n",
      "42000/42000 [==============================] - 3s 82us/step - loss: 2.3026 - accuracy: 0.1019 - val_loss: 2.3026 - val_accuracy: 0.1000\n",
      "Epoch 59/100\n",
      "42000/42000 [==============================] - 3s 80us/step - loss: 2.3026 - accuracy: 0.1019 - val_loss: 2.3026 - val_accuracy: 0.1000\n",
      "Epoch 60/100\n",
      "42000/42000 [==============================] - 3s 80us/step - loss: 2.3026 - accuracy: 0.1019 - val_loss: 2.3026 - val_accuracy: 0.1000\n",
      "Epoch 61/100\n",
      "42000/42000 [==============================] - 3s 81us/step - loss: 2.3026 - accuracy: 0.1019 - val_loss: 2.3026 - val_accuracy: 0.1000\n",
      "Epoch 62/100\n",
      "42000/42000 [==============================] - 3s 79us/step - loss: 2.3026 - accuracy: 0.1019 - val_loss: 2.3026 - val_accuracy: 0.1000\n",
      "Epoch 63/100\n",
      "42000/42000 [==============================] - 3s 79us/step - loss: 2.3026 - accuracy: 0.1019 - val_loss: 2.3026 - val_accuracy: 0.1000\n",
      "Epoch 64/100\n",
      "42000/42000 [==============================] - 3s 79us/step - loss: 2.3026 - accuracy: 0.1019 - val_loss: 2.3026 - val_accuracy: 0.1000\n",
      "Epoch 65/100\n",
      "42000/42000 [==============================] - 3s 79us/step - loss: 2.3026 - accuracy: 0.1019 - val_loss: 2.3026 - val_accuracy: 0.1000\n",
      "Epoch 66/100\n",
      "42000/42000 [==============================] - 3s 81us/step - loss: 2.3026 - accuracy: 0.1019 - val_loss: 2.3026 - val_accuracy: 0.1000\n",
      "Epoch 67/100\n",
      "42000/42000 [==============================] - 3s 83us/step - loss: 2.3026 - accuracy: 0.1019 - val_loss: 2.3026 - val_accuracy: 0.1000\n",
      "Epoch 68/100\n",
      "42000/42000 [==============================] - 3s 78us/step - loss: 2.3026 - accuracy: 0.1019 - val_loss: 2.3026 - val_accuracy: 0.1000\n",
      "Epoch 69/100\n",
      "42000/42000 [==============================] - 3s 79us/step - loss: 2.3026 - accuracy: 0.1019 - val_loss: 2.3026 - val_accuracy: 0.1000\n",
      "Epoch 70/100\n",
      "42000/42000 [==============================] - 3s 79us/step - loss: 2.3026 - accuracy: 0.1019 - val_loss: 2.3026 - val_accuracy: 0.1000\n",
      "Epoch 71/100\n",
      "42000/42000 [==============================] - 3s 79us/step - loss: 2.3026 - accuracy: 0.1019 - val_loss: 2.3026 - val_accuracy: 0.1000\n",
      "Epoch 72/100\n",
      "42000/42000 [==============================] - 3s 81us/step - loss: 2.3026 - accuracy: 0.1019 - val_loss: 2.3026 - val_accuracy: 0.1000\n",
      "Epoch 73/100\n",
      "42000/42000 [==============================] - 3s 81us/step - loss: 2.3026 - accuracy: 0.1019 - val_loss: 2.3026 - val_accuracy: 0.1000\n",
      "Epoch 74/100\n",
      "42000/42000 [==============================] - 3s 82us/step - loss: 2.3026 - accuracy: 0.1019 - val_loss: 2.3026 - val_accuracy: 0.1000\n",
      "Epoch 75/100\n",
      "42000/42000 [==============================] - 3s 83us/step - loss: 2.3026 - accuracy: 0.1019 - val_loss: 2.3026 - val_accuracy: 0.1000\n",
      "Epoch 76/100\n",
      "42000/42000 [==============================] - 4s 84us/step - loss: 2.3026 - accuracy: 0.1019 - val_loss: 2.3026 - val_accuracy: 0.1000\n",
      "Epoch 77/100\n",
      "42000/42000 [==============================] - 3s 79us/step - loss: 2.3026 - accuracy: 0.1019 - val_loss: 2.3026 - val_accuracy: 0.1000\n",
      "Epoch 78/100\n",
      "42000/42000 [==============================] - 3s 78us/step - loss: 2.3026 - accuracy: 0.1019 - val_loss: 2.3026 - val_accuracy: 0.1000\n",
      "Epoch 79/100\n",
      "42000/42000 [==============================] - 3s 80us/step - loss: 2.3026 - accuracy: 0.1019 - val_loss: 2.3026 - val_accuracy: 0.1000\n",
      "Epoch 80/100\n",
      "42000/42000 [==============================] - 3s 78us/step - loss: 2.3026 - accuracy: 0.1019 - val_loss: 2.3026 - val_accuracy: 0.1000\n",
      "Epoch 81/100\n",
      "42000/42000 [==============================] - 3s 79us/step - loss: 2.3026 - accuracy: 0.1019 - val_loss: 2.3026 - val_accuracy: 0.1000\n",
      "Epoch 82/100\n",
      "42000/42000 [==============================] - 3s 78us/step - loss: 2.3026 - accuracy: 0.1019 - val_loss: 2.3026 - val_accuracy: 0.1000\n",
      "Epoch 83/100\n",
      "42000/42000 [==============================] - 3s 80us/step - loss: 2.3026 - accuracy: 0.1019 - val_loss: 2.3026 - val_accuracy: 0.1000\n",
      "Epoch 84/100\n",
      "42000/42000 [==============================] - 3s 80us/step - loss: 2.3026 - accuracy: 0.1019 - val_loss: 2.3026 - val_accuracy: 0.1000\n",
      "Epoch 85/100\n",
      "42000/42000 [==============================] - 3s 82us/step - loss: 2.3026 - accuracy: 0.1019 - val_loss: 2.3026 - val_accuracy: 0.1000\n",
      "Epoch 86/100\n",
      "42000/42000 [==============================] - 3s 79us/step - loss: 2.3026 - accuracy: 0.1019 - val_loss: 2.3026 - val_accuracy: 0.1000\n",
      "Epoch 87/100\n",
      "42000/42000 [==============================] - 3s 80us/step - loss: 2.3026 - accuracy: 0.1019 - val_loss: 2.3026 - val_accuracy: 0.1000\n",
      "Epoch 88/100\n",
      "42000/42000 [==============================] - 3s 79us/step - loss: 2.3026 - accuracy: 0.1019 - val_loss: 2.3026 - val_accuracy: 0.1000\n",
      "Epoch 89/100\n",
      "42000/42000 [==============================] - 3s 79us/step - loss: 2.3026 - accuracy: 0.1019 - val_loss: 2.3026 - val_accuracy: 0.1000\n",
      "Epoch 90/100\n",
      "42000/42000 [==============================] - 3s 79us/step - loss: 2.3026 - accuracy: 0.1019 - val_loss: 2.3026 - val_accuracy: 0.1000\n",
      "Epoch 91/100\n",
      "42000/42000 [==============================] - 3s 80us/step - loss: 2.3026 - accuracy: 0.1019 - val_loss: 2.3026 - val_accuracy: 0.1000\n",
      "Epoch 92/100\n",
      "42000/42000 [==============================] - 3s 79us/step - loss: 2.3026 - accuracy: 0.1019 - val_loss: 2.3026 - val_accuracy: 0.1000\n",
      "Epoch 93/100\n",
      "42000/42000 [==============================] - 3s 80us/step - loss: 2.3026 - accuracy: 0.1019 - val_loss: 2.3026 - val_accuracy: 0.1000\n",
      "Epoch 94/100\n",
      "42000/42000 [==============================] - 4s 84us/step - loss: 2.3026 - accuracy: 0.1019 - val_loss: 2.3026 - val_accuracy: 0.1000\n",
      "Epoch 95/100\n",
      "42000/42000 [==============================] - 3s 80us/step - loss: 2.3026 - accuracy: 0.1019 - val_loss: 2.3026 - val_accuracy: 0.1000\n",
      "Epoch 96/100\n",
      "42000/42000 [==============================] - 3s 82us/step - loss: 2.3026 - accuracy: 0.1019 - val_loss: 2.3026 - val_accuracy: 0.1000\n",
      "Epoch 97/100\n",
      "42000/42000 [==============================] - 3s 81us/step - loss: 2.3026 - accuracy: 0.1019 - val_loss: 2.3026 - val_accuracy: 0.1000\n",
      "Epoch 98/100\n",
      "42000/42000 [==============================] - 3s 79us/step - loss: 2.3026 - accuracy: 0.1019 - val_loss: 2.3026 - val_accuracy: 0.1000\n",
      "Epoch 99/100\n",
      "42000/42000 [==============================] - 3s 82us/step - loss: 2.3026 - accuracy: 0.1019 - val_loss: 2.3026 - val_accuracy: 0.1000\n",
      "Epoch 100/100\n",
      "42000/42000 [==============================] - 4s 87us/step - loss: 2.3026 - accuracy: 0.1019 - val_loss: 2.3026 - val_accuracy: 0.1000\n"
     ]
    }
   ],
   "source": [
    "#Setting the learning rate  and decay in sgd\n",
    "sgd = optimizers.SGD(lr = 0.0001)\n",
    "\n",
    "# compiling the ANN classifier\n",
    "model_sgd.compile(optimizer = sgd, loss = 'categorical_crossentropy', metrics = ['accuracy'])\n",
    "\n",
    "# Fitting the ANN to the Training data\n",
    "history = model_sgd.fit(X_train, y_train, validation_data=(X_val,y_val), batch_size = 200, epochs = 100, verbose = 1)"
   ]
  },
  {
   "cell_type": "markdown",
   "metadata": {},
   "source": [
    "The accuracy of the model on val data using sgd with learning rate=0.0001 is improving a bit but not much."
   ]
  },
  {
   "cell_type": "code",
   "execution_count": 33,
   "metadata": {},
   "outputs": [
    {
     "name": "stdout",
     "output_type": "stream",
     "text": [
      "18000/18000 [==============================] - 1s 50us/step\n"
     ]
    }
   ],
   "source": [
    "results = model_sgd.evaluate(X_test, y_test)"
   ]
  },
  {
   "cell_type": "code",
   "execution_count": 34,
   "metadata": {},
   "outputs": [
    {
     "name": "stdout",
     "output_type": "stream",
     "text": [
      "Test accuracy:  0.09549999982118607\n"
     ]
    }
   ],
   "source": [
    "print('Test accuracy: ', results[1])"
   ]
  },
  {
   "cell_type": "code",
   "execution_count": 35,
   "metadata": {},
   "outputs": [
    {
     "name": "stdout",
     "output_type": "stream",
     "text": [
      "Train on 42000 samples, validate on 60000 samples\n",
      "Epoch 1/100\n",
      "42000/42000 [==============================] - 5s 119us/step - loss: 2.3027 - accuracy: 0.1007 - val_loss: 2.3019 - val_accuracy: 0.1000\n",
      "Epoch 2/100\n",
      "42000/42000 [==============================] - 5s 119us/step - loss: 2.3014 - accuracy: 0.1017 - val_loss: 2.3010 - val_accuracy: 0.1059\n",
      "Epoch 3/100\n",
      "42000/42000 [==============================] - 5s 111us/step - loss: 2.3002 - accuracy: 0.1031 - val_loss: 2.2990 - val_accuracy: 0.1114\n",
      "Epoch 4/100\n",
      "42000/42000 [==============================] - 5s 112us/step - loss: 2.2973 - accuracy: 0.1196 - val_loss: 2.2944 - val_accuracy: 0.1153\n",
      "Epoch 5/100\n",
      "42000/42000 [==============================] - 5s 111us/step - loss: 2.2917 - accuracy: 0.1189 - val_loss: 2.2871 - val_accuracy: 0.1258\n",
      "Epoch 6/100\n",
      "42000/42000 [==============================] - 5s 115us/step - loss: 2.2824 - accuracy: 0.1279 - val_loss: 2.2769 - val_accuracy: 0.1307\n",
      "Epoch 7/100\n",
      "42000/42000 [==============================] - 5s 114us/step - loss: 2.2700 - accuracy: 0.1274 - val_loss: 2.2628 - val_accuracy: 0.1323\n",
      "Epoch 8/100\n",
      "42000/42000 [==============================] - 5s 119us/step - loss: 2.2581 - accuracy: 0.1288 - val_loss: 2.2515 - val_accuracy: 0.1355\n",
      "Epoch 9/100\n",
      "42000/42000 [==============================] - 5s 111us/step - loss: 2.2456 - accuracy: 0.1293 - val_loss: 2.2445 - val_accuracy: 0.1279\n",
      "Epoch 10/100\n",
      "42000/42000 [==============================] - 949s 23ms/step - loss: 2.2356 - accuracy: 0.1327 - val_loss: 2.2280 - val_accuracy: 0.1326\n",
      "Epoch 11/100\n",
      "42000/42000 [==============================] - 5s 109us/step - loss: 2.2299 - accuracy: 0.1323 - val_loss: 2.2201 - val_accuracy: 0.1337\n",
      "Epoch 12/100\n",
      "42000/42000 [==============================] - 5s 126us/step - loss: 2.2205 - accuracy: 0.1334 - val_loss: 2.2187 - val_accuracy: 0.1329\n",
      "Epoch 13/100\n",
      "42000/42000 [==============================] - 7s 176us/step - loss: 2.2144 - accuracy: 0.1344 - val_loss: 2.2143 - val_accuracy: 0.1346\n",
      "Epoch 14/100\n",
      "42000/42000 [==============================] - 7s 169us/step - loss: 2.2094 - accuracy: 0.1338 - val_loss: 2.2241 - val_accuracy: 0.1312\n",
      "Epoch 15/100\n",
      "42000/42000 [==============================] - 7s 164us/step - loss: 2.2040 - accuracy: 0.1359 - val_loss: 2.2068 - val_accuracy: 0.1328\n",
      "Epoch 16/100\n",
      "42000/42000 [==============================] - 6s 151us/step - loss: 2.2059 - accuracy: 0.1338 - val_loss: 2.2125 - val_accuracy: 0.1323\n",
      "Epoch 17/100\n",
      "42000/42000 [==============================] - 7s 158us/step - loss: 2.1986 - accuracy: 0.1353 - val_loss: 2.2025 - val_accuracy: 0.1268\n",
      "Epoch 18/100\n",
      "42000/42000 [==============================] - 1867s 44ms/step - loss: 2.1961 - accuracy: 0.1361 - val_loss: 2.1906 - val_accuracy: 0.1356\n",
      "Epoch 19/100\n",
      "42000/42000 [==============================] - 5s 131us/step - loss: 2.1865 - accuracy: 0.1424 - val_loss: 2.1733 - val_accuracy: 0.1422\n",
      "Epoch 20/100\n",
      "42000/42000 [==============================] - 7s 175us/step - loss: 2.1688 - accuracy: 0.1533 - val_loss: 2.1681 - val_accuracy: 0.1583\n",
      "Epoch 21/100\n",
      "42000/42000 [==============================] - 9s 206us/step - loss: 2.1549 - accuracy: 0.1591 - val_loss: 2.1405 - val_accuracy: 0.1469\n",
      "Epoch 22/100\n",
      "42000/42000 [==============================] - 8s 187us/step - loss: 2.1453 - accuracy: 0.1624 - val_loss: 2.1278 - val_accuracy: 0.1785\n",
      "Epoch 23/100\n",
      "42000/42000 [==============================] - 8s 187us/step - loss: 2.1384 - accuracy: 0.1700 - val_loss: 2.1289 - val_accuracy: 0.1688\n",
      "Epoch 24/100\n",
      "42000/42000 [==============================] - 7s 176us/step - loss: 2.1361 - accuracy: 0.1702 - val_loss: 2.1272 - val_accuracy: 0.1665\n",
      "Epoch 25/100\n",
      "42000/42000 [==============================] - 8s 187us/step - loss: 2.1231 - accuracy: 0.1730 - val_loss: 2.1218 - val_accuracy: 0.1743\n",
      "Epoch 26/100\n",
      "42000/42000 [==============================] - 9s 202us/step - loss: 2.1241 - accuracy: 0.1724 - val_loss: 2.1146 - val_accuracy: 0.1812\n",
      "Epoch 27/100\n",
      "42000/42000 [==============================] - 8s 193us/step - loss: 2.1208 - accuracy: 0.1746 - val_loss: 2.1112 - val_accuracy: 0.1833\n",
      "Epoch 28/100\n",
      "42000/42000 [==============================] - 8s 186us/step - loss: 2.1153 - accuracy: 0.1789 - val_loss: 2.1207 - val_accuracy: 0.1841\n",
      "Epoch 29/100\n",
      "42000/42000 [==============================] - 8s 185us/step - loss: 2.1178 - accuracy: 0.1783 - val_loss: 2.1269 - val_accuracy: 0.1767\n",
      "Epoch 30/100\n",
      "42000/42000 [==============================] - 8s 186us/step - loss: 2.1190 - accuracy: 0.1787 - val_loss: 2.1156 - val_accuracy: 0.1880\n",
      "Epoch 31/100\n",
      "42000/42000 [==============================] - 8s 190us/step - loss: 2.1142 - accuracy: 0.1784 - val_loss: 2.1002 - val_accuracy: 0.1821\n",
      "Epoch 32/100\n",
      "42000/42000 [==============================] - 7s 177us/step - loss: 2.1190 - accuracy: 0.1773 - val_loss: 2.1084 - val_accuracy: 0.1770\n",
      "Epoch 33/100\n",
      "42000/42000 [==============================] - 8s 192us/step - loss: 2.1079 - accuracy: 0.1823 - val_loss: 2.1128 - val_accuracy: 0.1825\n",
      "Epoch 34/100\n",
      "42000/42000 [==============================] - 8s 196us/step - loss: 2.1111 - accuracy: 0.1795 - val_loss: 2.1011 - val_accuracy: 0.1889\n",
      "Epoch 35/100\n",
      "42000/42000 [==============================] - 8s 184us/step - loss: 2.1117 - accuracy: 0.1791 - val_loss: 2.1080 - val_accuracy: 0.1854\n",
      "Epoch 36/100\n",
      "42000/42000 [==============================] - 8s 184us/step - loss: 2.1108 - accuracy: 0.1796 - val_loss: 2.0930 - val_accuracy: 0.1887\n",
      "Epoch 37/100\n",
      "42000/42000 [==============================] - 1039s 25ms/step - loss: 2.1046 - accuracy: 0.1822 - val_loss: 2.1072 - val_accuracy: 0.1877\n",
      "Epoch 38/100\n",
      "42000/42000 [==============================] - 7s 171us/step - loss: 2.1037 - accuracy: 0.1826 - val_loss: 2.0974 - val_accuracy: 0.1899\n",
      "Epoch 39/100\n",
      "42000/42000 [==============================] - 8s 196us/step - loss: 2.1059 - accuracy: 0.1824 - val_loss: 2.0994 - val_accuracy: 0.1905\n",
      "Epoch 40/100\n",
      "42000/42000 [==============================] - 8s 187us/step - loss: 2.1064 - accuracy: 0.1813 - val_loss: 2.0985 - val_accuracy: 0.1752\n",
      "Epoch 41/100\n",
      "42000/42000 [==============================] - 8s 184us/step - loss: 2.1057 - accuracy: 0.1820 - val_loss: 2.0963 - val_accuracy: 0.1771\n",
      "Epoch 42/100\n",
      "42000/42000 [==============================] - 6s 134us/step - loss: 2.1020 - accuracy: 0.1862 - val_loss: 2.1026 - val_accuracy: 0.1861\n",
      "Epoch 43/100\n",
      "42000/42000 [==============================] - 5s 120us/step - loss: 2.0993 - accuracy: 0.1830 - val_loss: 2.1056 - val_accuracy: 0.1781\n",
      "Epoch 44/100\n",
      "42000/42000 [==============================] - 5s 124us/step - loss: 2.1002 - accuracy: 0.1874 - val_loss: 2.0870 - val_accuracy: 0.1890\n",
      "Epoch 45/100\n",
      "42000/42000 [==============================] - 7s 156us/step - loss: 2.0980 - accuracy: 0.1881 - val_loss: 2.1006 - val_accuracy: 0.1751\n",
      "Epoch 46/100\n",
      "42000/42000 [==============================] - 6s 134us/step - loss: 2.0958 - accuracy: 0.1855 - val_loss: 2.0852 - val_accuracy: 0.1904\n",
      "Epoch 47/100\n",
      "42000/42000 [==============================] - 6s 137us/step - loss: 2.1073 - accuracy: 0.1788 - val_loss: 2.0960 - val_accuracy: 0.1873\n",
      "Epoch 48/100\n",
      "42000/42000 [==============================] - 5s 126us/step - loss: 2.1008 - accuracy: 0.1846 - val_loss: 2.0980 - val_accuracy: 0.1924\n",
      "Epoch 49/100\n",
      "42000/42000 [==============================] - 5s 126us/step - loss: 2.0977 - accuracy: 0.1864 - val_loss: 2.0909 - val_accuracy: 0.1967\n",
      "Epoch 50/100\n",
      "42000/42000 [==============================] - 5s 124us/step - loss: 2.0933 - accuracy: 0.1897 - val_loss: 2.0856 - val_accuracy: 0.1891\n",
      "Epoch 51/100\n",
      "42000/42000 [==============================] - 5s 125us/step - loss: 2.0946 - accuracy: 0.1855 - val_loss: 2.0837 - val_accuracy: 0.1895\n",
      "Epoch 52/100\n",
      "42000/42000 [==============================] - 5s 130us/step - loss: 2.1010 - accuracy: 0.1830 - val_loss: 2.0978 - val_accuracy: 0.1835\n",
      "Epoch 53/100\n",
      "42000/42000 [==============================] - 5s 124us/step - loss: 2.0948 - accuracy: 0.1858 - val_loss: 2.1010 - val_accuracy: 0.1797\n",
      "Epoch 54/100\n",
      "42000/42000 [==============================] - 5s 124us/step - loss: 2.1023 - accuracy: 0.1888 - val_loss: 2.0868 - val_accuracy: 0.1899\n",
      "Epoch 55/100\n"
     ]
    },
    {
     "name": "stdout",
     "output_type": "stream",
     "text": [
      "42000/42000 [==============================] - 5s 117us/step - loss: 2.0932 - accuracy: 0.1860 - val_loss: 2.0827 - val_accuracy: 0.1943\n",
      "Epoch 56/100\n",
      "42000/42000 [==============================] - 5s 116us/step - loss: 2.0919 - accuracy: 0.1882 - val_loss: 2.0940 - val_accuracy: 0.1885\n",
      "Epoch 57/100\n",
      "42000/42000 [==============================] - 5s 116us/step - loss: 2.0942 - accuracy: 0.1857 - val_loss: 2.1296 - val_accuracy: 0.1811\n",
      "Epoch 58/100\n",
      "42000/42000 [==============================] - 5s 121us/step - loss: 2.0984 - accuracy: 0.1828 - val_loss: 2.0928 - val_accuracy: 0.1840\n",
      "Epoch 59/100\n",
      "42000/42000 [==============================] - 5s 115us/step - loss: 2.0933 - accuracy: 0.1877 - val_loss: 2.0899 - val_accuracy: 0.1913\n",
      "Epoch 60/100\n",
      "42000/42000 [==============================] - 5s 115us/step - loss: 2.0938 - accuracy: 0.1897 - val_loss: 2.0878 - val_accuracy: 0.1891\n",
      "Epoch 61/100\n",
      "42000/42000 [==============================] - 5s 114us/step - loss: 2.0926 - accuracy: 0.1894 - val_loss: 2.0857 - val_accuracy: 0.1964\n",
      "Epoch 62/100\n",
      "42000/42000 [==============================] - 5s 117us/step - loss: 2.0896 - accuracy: 0.1891 - val_loss: 2.0952 - val_accuracy: 0.1943\n",
      "Epoch 63/100\n",
      "42000/42000 [==============================] - 5s 119us/step - loss: 2.0907 - accuracy: 0.1877 - val_loss: 2.0902 - val_accuracy: 0.1927\n",
      "Epoch 64/100\n",
      "42000/42000 [==============================] - 5s 123us/step - loss: 2.1060 - accuracy: 0.1880 - val_loss: 2.0893 - val_accuracy: 0.1935\n",
      "Epoch 65/100\n",
      "42000/42000 [==============================] - 5s 117us/step - loss: 2.0940 - accuracy: 0.1898 - val_loss: 2.0849 - val_accuracy: 0.1947\n",
      "Epoch 66/100\n",
      "42000/42000 [==============================] - 5s 115us/step - loss: 2.0893 - accuracy: 0.1905 - val_loss: 2.0951 - val_accuracy: 0.1849\n",
      "Epoch 67/100\n",
      "42000/42000 [==============================] - 5s 116us/step - loss: 2.0941 - accuracy: 0.1907 - val_loss: 2.0969 - val_accuracy: 0.1931\n",
      "Epoch 68/100\n",
      "42000/42000 [==============================] - 5s 117us/step - loss: 2.0911 - accuracy: 0.1909 - val_loss: 2.0854 - val_accuracy: 0.1924\n",
      "Epoch 69/100\n",
      "42000/42000 [==============================] - 5s 116us/step - loss: 2.0890 - accuracy: 0.1911 - val_loss: 2.1045 - val_accuracy: 0.1878\n",
      "Epoch 70/100\n",
      "42000/42000 [==============================] - 5s 119us/step - loss: 2.0979 - accuracy: 0.1898 - val_loss: 2.0790 - val_accuracy: 0.1967\n",
      "Epoch 71/100\n",
      "42000/42000 [==============================] - 5s 117us/step - loss: 2.0872 - accuracy: 0.1916 - val_loss: 2.0898 - val_accuracy: 0.1892\n",
      "Epoch 72/100\n",
      "42000/42000 [==============================] - 5s 116us/step - loss: 2.0920 - accuracy: 0.1888 - val_loss: 2.0929 - val_accuracy: 0.1891\n",
      "Epoch 73/100\n",
      "42000/42000 [==============================] - 5s 117us/step - loss: 2.0860 - accuracy: 0.1904 - val_loss: 2.0813 - val_accuracy: 0.1944\n",
      "Epoch 74/100\n",
      "42000/42000 [==============================] - 5s 115us/step - loss: 2.0891 - accuracy: 0.1912 - val_loss: 2.1198 - val_accuracy: 0.1892\n",
      "Epoch 75/100\n",
      "42000/42000 [==============================] - 5s 116us/step - loss: 2.0920 - accuracy: 0.1920 - val_loss: 2.1004 - val_accuracy: 0.1968\n",
      "Epoch 76/100\n",
      "42000/42000 [==============================] - 5s 118us/step - loss: 2.0898 - accuracy: 0.1895 - val_loss: 2.0888 - val_accuracy: 0.1946\n",
      "Epoch 77/100\n",
      "42000/42000 [==============================] - 5s 116us/step - loss: 2.0899 - accuracy: 0.1919 - val_loss: 2.0930 - val_accuracy: 0.1943\n",
      "Epoch 78/100\n",
      "42000/42000 [==============================] - 5s 117us/step - loss: 2.0925 - accuracy: 0.1935 - val_loss: 2.0941 - val_accuracy: 0.1920\n",
      "Epoch 79/100\n",
      "42000/42000 [==============================] - 5s 116us/step - loss: 2.0851 - accuracy: 0.1918 - val_loss: 2.0792 - val_accuracy: 0.1936\n",
      "Epoch 80/100\n",
      "42000/42000 [==============================] - 5s 117us/step - loss: 2.0911 - accuracy: 0.1934 - val_loss: 2.0856 - val_accuracy: 0.1920\n",
      "Epoch 81/100\n",
      "42000/42000 [==============================] - 5s 116us/step - loss: 2.0842 - accuracy: 0.1944 - val_loss: 2.0923 - val_accuracy: 0.1960\n",
      "Epoch 82/100\n",
      "42000/42000 [==============================] - 5s 117us/step - loss: 2.0862 - accuracy: 0.1928 - val_loss: 2.0853 - val_accuracy: 0.1864\n",
      "Epoch 83/100\n",
      "42000/42000 [==============================] - 5s 118us/step - loss: 2.0835 - accuracy: 0.1943 - val_loss: 2.0982 - val_accuracy: 0.1898\n",
      "Epoch 84/100\n",
      "42000/42000 [==============================] - 5s 118us/step - loss: 2.0902 - accuracy: 0.1911 - val_loss: 2.0794 - val_accuracy: 0.1948\n",
      "Epoch 85/100\n",
      "42000/42000 [==============================] - 5s 116us/step - loss: 2.0842 - accuracy: 0.1917 - val_loss: 2.0884 - val_accuracy: 0.1898\n",
      "Epoch 86/100\n",
      "42000/42000 [==============================] - 5s 118us/step - loss: 2.0825 - accuracy: 0.1923 - val_loss: 2.0790 - val_accuracy: 0.1946\n",
      "Epoch 87/100\n",
      "42000/42000 [==============================] - 5s 118us/step - loss: 2.0829 - accuracy: 0.1920 - val_loss: 2.0817 - val_accuracy: 0.1878\n",
      "Epoch 88/100\n",
      "42000/42000 [==============================] - 5s 120us/step - loss: 2.0854 - accuracy: 0.1934 - val_loss: 2.0963 - val_accuracy: 0.1927\n",
      "Epoch 89/100\n",
      "42000/42000 [==============================] - 5s 119us/step - loss: 2.0839 - accuracy: 0.1914 - val_loss: 2.1031 - val_accuracy: 0.1752\n",
      "Epoch 90/100\n",
      "42000/42000 [==============================] - 5s 117us/step - loss: 2.0839 - accuracy: 0.1912 - val_loss: 2.0786 - val_accuracy: 0.1916\n",
      "Epoch 91/100\n",
      "42000/42000 [==============================] - 5s 116us/step - loss: 2.0911 - accuracy: 0.1921 - val_loss: 2.0961 - val_accuracy: 0.1888\n",
      "Epoch 92/100\n",
      "42000/42000 [==============================] - 5s 117us/step - loss: 2.0865 - accuracy: 0.1903 - val_loss: 2.0861 - val_accuracy: 0.1945\n",
      "Epoch 93/100\n",
      "42000/42000 [==============================] - 5s 116us/step - loss: 2.0844 - accuracy: 0.1931 - val_loss: 2.0948 - val_accuracy: 0.1959\n",
      "Epoch 94/100\n",
      "42000/42000 [==============================] - 5s 118us/step - loss: 2.0802 - accuracy: 0.1948 - val_loss: 2.0851 - val_accuracy: 0.1904\n",
      "Epoch 95/100\n",
      "42000/42000 [==============================] - 5s 120us/step - loss: 2.0828 - accuracy: 0.1930 - val_loss: 2.1050 - val_accuracy: 0.1929\n",
      "Epoch 96/100\n",
      "42000/42000 [==============================] - 5s 116us/step - loss: 2.0876 - accuracy: 0.1933 - val_loss: 2.0759 - val_accuracy: 0.1852\n",
      "Epoch 97/100\n",
      "42000/42000 [==============================] - 5s 120us/step - loss: 2.0779 - accuracy: 0.1962 - val_loss: 2.0710 - val_accuracy: 0.1979\n",
      "Epoch 98/100\n",
      "42000/42000 [==============================] - 5s 116us/step - loss: 2.0828 - accuracy: 0.1931 - val_loss: 2.0867 - val_accuracy: 0.1877\n",
      "Epoch 99/100\n",
      "42000/42000 [==============================] - 5s 117us/step - loss: 2.0815 - accuracy: 0.1946 - val_loss: 2.0809 - val_accuracy: 0.1921\n",
      "Epoch 100/100\n",
      "42000/42000 [==============================] - 5s 118us/step - loss: 2.0802 - accuracy: 0.1946 - val_loss: 2.0842 - val_accuracy: 0.1903\n"
     ]
    }
   ],
   "source": [
    "#Setting the learning rate  and decay in Adam\n",
    "adam = optimizers.Adam(lr = 0.0001)\n",
    "\n",
    "# compiling the ANN classifier\n",
    "model.compile(optimizer = adam, loss = 'categorical_crossentropy', metrics = ['accuracy'])\n",
    "\n",
    "# Fitting the ANN to the Training data\n",
    "history = model.fit(X_train, y_train, validation_data=(X_val, y_val),batch_size = 200, epochs = 100, verbose = 1)"
   ]
  },
  {
   "cell_type": "code",
   "execution_count": 36,
   "metadata": {},
   "outputs": [
    {
     "name": "stdout",
     "output_type": "stream",
     "text": [
      "60000/60000 [==============================] - 4s 65us/step\n"
     ]
    },
    {
     "data": {
      "text/plain": [
       "0.1903499960899353"
      ]
     },
     "execution_count": 36,
     "metadata": {},
     "output_type": "execute_result"
    }
   ],
   "source": [
    "results = model.evaluate(X_val, y_val)\n",
    "results[1]"
   ]
  },
  {
   "cell_type": "code",
   "execution_count": 37,
   "metadata": {},
   "outputs": [
    {
     "data": {
      "text/html": [
       "<div>\n",
       "<style scoped>\n",
       "    .dataframe tbody tr th:only-of-type {\n",
       "        vertical-align: middle;\n",
       "    }\n",
       "\n",
       "    .dataframe tbody tr th {\n",
       "        vertical-align: top;\n",
       "    }\n",
       "\n",
       "    .dataframe thead th {\n",
       "        text-align: right;\n",
       "    }\n",
       "</style>\n",
       "<table border=\"1\" class=\"dataframe\">\n",
       "  <thead>\n",
       "    <tr style=\"text-align: right;\">\n",
       "      <th></th>\n",
       "      <th>Method</th>\n",
       "      <th>accuracy</th>\n",
       "    </tr>\n",
       "  </thead>\n",
       "  <tbody>\n",
       "    <tr>\n",
       "      <th>1</th>\n",
       "      <td>NN</td>\n",
       "      <td>0.19035</td>\n",
       "    </tr>\n",
       "  </tbody>\n",
       "</table>\n",
       "</div>"
      ],
      "text/plain": [
       "  Method  accuracy\n",
       "1     NN   0.19035"
      ]
     },
     "execution_count": 37,
     "metadata": {},
     "output_type": "execute_result"
    }
   ],
   "source": [
    "#Store the accuracy results for each model in a dataframe for final comparison\n",
    "results_on_val = pd.DataFrame({'Method':['NN'], 'accuracy': results[1]},index={'1'})\n",
    "results_on_val = results_on_val[['Method', 'accuracy']]\n",
    "results_on_val"
   ]
  },
  {
   "cell_type": "markdown",
   "metadata": {},
   "source": [
    "Accuracy is very low, lets see if it improves with batch normalization."
   ]
  },
  {
   "cell_type": "markdown",
   "metadata": {},
   "source": [
    "# Implementing batch normalization for training the neural network"
   ]
  },
  {
   "cell_type": "code",
   "execution_count": 38,
   "metadata": {},
   "outputs": [],
   "source": [
    "model = Sequential()\n",
    "#Adding Input layer and activation functions ReLU\n",
    "model.add(Dense(512, kernel_initializer='he_normal', input_shape = (1024, )))\n",
    "#Adding BatchNormalization Layer\n",
    "model.add(BatchNormalization())\n",
    "#Adding Activation function\n",
    "model.add(Activation('relu'))    \n",
    "\n",
    "#Hidden Layer 1\n",
    "#Adding first Hidden layer\n",
    "model.add(Dense(256, kernel_initializer='he_normal'))\n",
    "#Adding BatchNormalization Layer\n",
    "model.add(BatchNormalization())\n",
    "model.add(Activation('relu'))    \n",
    "\n",
    "\n",
    "#Hidden Layer 2\n",
    "#Adding second Hidden layer\n",
    "model.add(Dense(128, kernel_initializer='he_normal'))\n",
    "#Adding BatchNormalization Layer\n",
    "model.add(BatchNormalization())    \n",
    "model.add(Activation('relu'))    \n",
    "\n",
    "#Hidden Layer 3\n",
    "#Adding third Hidden layer\n",
    "model.add(Dense(64, kernel_initializer='he_normal'))\n",
    "#Adding BatchNormalization Layer\n",
    "model.add(BatchNormalization())\n",
    "model.add(Activation('relu'))    \n",
    "\n",
    "#Hidden Layer 4\n",
    "#Adding fourth Hidden layer\n",
    "model.add(Dense(32, kernel_initializer='he_normal'))\n",
    "#Adding BatchNormalization Layer\n",
    "model.add(BatchNormalization())\n",
    "model.add(Activation('relu'))    \n",
    "\n",
    "# Output Layer\n",
    "#Adding output layer which is of 10 nodes (digits)\n",
    "model.add(Dense(10))\n",
    "model.add(Activation('softmax'))\n",
    "\n",
    "#ANN classifier\n",
    "adam = optimizers.Adam(lr = 0.0001)\n",
    "model.compile(optimizer = adam, loss = 'categorical_crossentropy', metrics = ['accuracy'])\n"
   ]
  },
  {
   "cell_type": "code",
   "execution_count": 39,
   "metadata": {},
   "outputs": [
    {
     "name": "stdout",
     "output_type": "stream",
     "text": [
      "Model: \"sequential_4\"\n",
      "_________________________________________________________________\n",
      "Layer (type)                 Output Shape              Param #   \n",
      "=================================================================\n",
      "dense_19 (Dense)             (None, 512)               524800    \n",
      "_________________________________________________________________\n",
      "batch_normalization_1 (Batch (None, 512)               2048      \n",
      "_________________________________________________________________\n",
      "activation_19 (Activation)   (None, 512)               0         \n",
      "_________________________________________________________________\n",
      "dense_20 (Dense)             (None, 256)               131328    \n",
      "_________________________________________________________________\n",
      "batch_normalization_2 (Batch (None, 256)               1024      \n",
      "_________________________________________________________________\n",
      "activation_20 (Activation)   (None, 256)               0         \n",
      "_________________________________________________________________\n",
      "dense_21 (Dense)             (None, 128)               32896     \n",
      "_________________________________________________________________\n",
      "batch_normalization_3 (Batch (None, 128)               512       \n",
      "_________________________________________________________________\n",
      "activation_21 (Activation)   (None, 128)               0         \n",
      "_________________________________________________________________\n",
      "dense_22 (Dense)             (None, 64)                8256      \n",
      "_________________________________________________________________\n",
      "batch_normalization_4 (Batch (None, 64)                256       \n",
      "_________________________________________________________________\n",
      "activation_22 (Activation)   (None, 64)                0         \n",
      "_________________________________________________________________\n",
      "dense_23 (Dense)             (None, 32)                2080      \n",
      "_________________________________________________________________\n",
      "batch_normalization_5 (Batch (None, 32)                128       \n",
      "_________________________________________________________________\n",
      "activation_23 (Activation)   (None, 32)                0         \n",
      "_________________________________________________________________\n",
      "dense_24 (Dense)             (None, 10)                330       \n",
      "_________________________________________________________________\n",
      "activation_24 (Activation)   (None, 10)                0         \n",
      "=================================================================\n",
      "Total params: 703,658\n",
      "Trainable params: 701,674\n",
      "Non-trainable params: 1,984\n",
      "_________________________________________________________________\n"
     ]
    }
   ],
   "source": [
    "model.summary()"
   ]
  },
  {
   "cell_type": "code",
   "execution_count": 40,
   "metadata": {},
   "outputs": [
    {
     "name": "stdout",
     "output_type": "stream",
     "text": [
      "Train on 42000 samples, validate on 60000 samples\n",
      "Epoch 1/100\n",
      "42000/42000 [==============================] - 7s 170us/step - loss: 2.1936 - accuracy: 0.2351 - val_loss: 2.0316 - val_accuracy: 0.2887\n",
      "Epoch 2/100\n",
      "42000/42000 [==============================] - 6s 142us/step - loss: 1.6390 - accuracy: 0.4876 - val_loss: 1.6954 - val_accuracy: 0.4544\n",
      "Epoch 3/100\n",
      "42000/42000 [==============================] - 6s 141us/step - loss: 1.3308 - accuracy: 0.6175 - val_loss: 1.3902 - val_accuracy: 0.5987\n",
      "Epoch 4/100\n",
      "42000/42000 [==============================] - 6s 144us/step - loss: 1.1351 - accuracy: 0.6825 - val_loss: 1.2813 - val_accuracy: 0.6167\n",
      "Epoch 5/100\n",
      "42000/42000 [==============================] - 6s 141us/step - loss: 0.9915 - accuracy: 0.7246 - val_loss: 1.1432 - val_accuracy: 0.6724\n",
      "Epoch 6/100\n",
      "42000/42000 [==============================] - 6s 144us/step - loss: 0.8865 - accuracy: 0.7536 - val_loss: 1.0988 - val_accuracy: 0.6764\n",
      "Epoch 7/100\n",
      "42000/42000 [==============================] - 6s 144us/step - loss: 0.7961 - accuracy: 0.7756 - val_loss: 1.0516 - val_accuracy: 0.6762\n",
      "Epoch 8/100\n",
      "42000/42000 [==============================] - 6s 144us/step - loss: 0.7233 - accuracy: 0.7956 - val_loss: 1.0048 - val_accuracy: 0.6966\n",
      "Epoch 9/100\n",
      "42000/42000 [==============================] - 6s 147us/step - loss: 0.6633 - accuracy: 0.8105 - val_loss: 0.8499 - val_accuracy: 0.7507\n",
      "Epoch 10/100\n",
      "42000/42000 [==============================] - 6s 142us/step - loss: 0.6109 - accuracy: 0.8234 - val_loss: 0.8624 - val_accuracy: 0.7414\n",
      "Epoch 11/100\n",
      "42000/42000 [==============================] - 6s 142us/step - loss: 0.5695 - accuracy: 0.8352 - val_loss: 0.9529 - val_accuracy: 0.7092\n",
      "Epoch 12/100\n",
      "42000/42000 [==============================] - 6s 141us/step - loss: 0.5271 - accuracy: 0.8493 - val_loss: 0.7761 - val_accuracy: 0.7584\n",
      "Epoch 13/100\n",
      "42000/42000 [==============================] - 6s 140us/step - loss: 0.4942 - accuracy: 0.8569 - val_loss: 0.8752 - val_accuracy: 0.7268\n",
      "Epoch 14/100\n",
      "42000/42000 [==============================] - 6s 145us/step - loss: 0.4644 - accuracy: 0.8648 - val_loss: 0.7442 - val_accuracy: 0.7664\n",
      "Epoch 15/100\n",
      "42000/42000 [==============================] - 6s 141us/step - loss: 0.4360 - accuracy: 0.8724 - val_loss: 0.7144 - val_accuracy: 0.7792\n",
      "Epoch 16/100\n",
      "42000/42000 [==============================] - 6s 141us/step - loss: 0.4103 - accuracy: 0.8813 - val_loss: 0.6479 - val_accuracy: 0.8021\n",
      "Epoch 17/100\n",
      "42000/42000 [==============================] - 6s 140us/step - loss: 0.3894 - accuracy: 0.8857 - val_loss: 0.6865 - val_accuracy: 0.7862\n",
      "Epoch 18/100\n",
      "42000/42000 [==============================] - 6s 140us/step - loss: 0.3645 - accuracy: 0.8931 - val_loss: 0.7457 - val_accuracy: 0.7652\n",
      "Epoch 19/100\n",
      "42000/42000 [==============================] - 6s 141us/step - loss: 0.3430 - accuracy: 0.9000 - val_loss: 0.6576 - val_accuracy: 0.7949\n",
      "Epoch 20/100\n",
      "42000/42000 [==============================] - 6s 142us/step - loss: 0.3277 - accuracy: 0.9049 - val_loss: 0.6786 - val_accuracy: 0.7870\n",
      "Epoch 21/100\n",
      "42000/42000 [==============================] - 6s 143us/step - loss: 0.3103 - accuracy: 0.9097 - val_loss: 0.8295 - val_accuracy: 0.7507\n",
      "Epoch 22/100\n",
      "42000/42000 [==============================] - 6s 141us/step - loss: 0.2957 - accuracy: 0.9146 - val_loss: 0.6416 - val_accuracy: 0.8054\n",
      "Epoch 23/100\n",
      "42000/42000 [==============================] - 6s 141us/step - loss: 0.2821 - accuracy: 0.9190 - val_loss: 0.6365 - val_accuracy: 0.8012\n",
      "Epoch 24/100\n",
      "42000/42000 [==============================] - 6s 143us/step - loss: 0.2728 - accuracy: 0.9205 - val_loss: 0.6802 - val_accuracy: 0.7932\n",
      "Epoch 25/100\n",
      "42000/42000 [==============================] - 6s 146us/step - loss: 0.2547 - accuracy: 0.9265 - val_loss: 0.7913 - val_accuracy: 0.7633\n",
      "Epoch 26/100\n",
      "42000/42000 [==============================] - 6s 141us/step - loss: 0.2434 - accuracy: 0.9306 - val_loss: 0.7250 - val_accuracy: 0.7814\n",
      "Epoch 27/100\n",
      "42000/42000 [==============================] - 6s 140us/step - loss: 0.2348 - accuracy: 0.9326 - val_loss: 0.7816 - val_accuracy: 0.7675\n",
      "Epoch 28/100\n",
      "42000/42000 [==============================] - 6s 145us/step - loss: 0.2223 - accuracy: 0.9366 - val_loss: 0.7056 - val_accuracy: 0.7861\n",
      "Epoch 29/100\n",
      "42000/42000 [==============================] - 6s 146us/step - loss: 0.2126 - accuracy: 0.9388 - val_loss: 0.7087 - val_accuracy: 0.7880\n",
      "Epoch 30/100\n",
      "42000/42000 [==============================] - 6s 144us/step - loss: 0.2024 - accuracy: 0.9430 - val_loss: 0.5518 - val_accuracy: 0.8347\n",
      "Epoch 31/100\n",
      "42000/42000 [==============================] - 6s 142us/step - loss: 0.1937 - accuracy: 0.9456 - val_loss: 0.5569 - val_accuracy: 0.8292\n",
      "Epoch 32/100\n",
      "42000/42000 [==============================] - 6s 140us/step - loss: 0.1881 - accuracy: 0.9460 - val_loss: 0.5926 - val_accuracy: 0.8216\n",
      "Epoch 33/100\n",
      "42000/42000 [==============================] - 6s 141us/step - loss: 0.1850 - accuracy: 0.9468 - val_loss: 0.6172 - val_accuracy: 0.8184\n",
      "Epoch 34/100\n",
      "42000/42000 [==============================] - 6s 142us/step - loss: 0.1724 - accuracy: 0.9506 - val_loss: 0.7728 - val_accuracy: 0.7957\n",
      "Epoch 35/100\n",
      "42000/42000 [==============================] - 6s 144us/step - loss: 0.1660 - accuracy: 0.9528 - val_loss: 0.6864 - val_accuracy: 0.8027\n",
      "Epoch 36/100\n",
      "42000/42000 [==============================] - 6s 140us/step - loss: 0.1607 - accuracy: 0.9538 - val_loss: 0.6563 - val_accuracy: 0.8073\n",
      "Epoch 37/100\n",
      "42000/42000 [==============================] - 6s 141us/step - loss: 0.1501 - accuracy: 0.9573 - val_loss: 0.6039 - val_accuracy: 0.8177\n",
      "Epoch 38/100\n",
      "42000/42000 [==============================] - 6s 141us/step - loss: 0.1514 - accuracy: 0.9567 - val_loss: 0.6109 - val_accuracy: 0.8208\n",
      "Epoch 39/100\n",
      "42000/42000 [==============================] - 6s 141us/step - loss: 0.1410 - accuracy: 0.9601 - val_loss: 0.6627 - val_accuracy: 0.8084\n",
      "Epoch 40/100\n",
      "42000/42000 [==============================] - 6s 143us/step - loss: 0.1408 - accuracy: 0.9595 - val_loss: 0.7777 - val_accuracy: 0.7807\n",
      "Epoch 41/100\n",
      "42000/42000 [==============================] - 6s 141us/step - loss: 0.1299 - accuracy: 0.9642 - val_loss: 0.5735 - val_accuracy: 0.8368\n",
      "Epoch 42/100\n",
      "42000/42000 [==============================] - 6s 140us/step - loss: 0.1293 - accuracy: 0.9630 - val_loss: 0.7832 - val_accuracy: 0.7933\n",
      "Epoch 43/100\n",
      "42000/42000 [==============================] - 6s 140us/step - loss: 0.1238 - accuracy: 0.9639 - val_loss: 0.5615 - val_accuracy: 0.8386\n",
      "Epoch 44/100\n",
      "42000/42000 [==============================] - 6s 141us/step - loss: 0.1196 - accuracy: 0.9662 - val_loss: 0.8682 - val_accuracy: 0.7637\n",
      "Epoch 45/100\n",
      "42000/42000 [==============================] - 6s 144us/step - loss: 0.1180 - accuracy: 0.9666 - val_loss: 1.0422 - val_accuracy: 0.7445\n",
      "Epoch 46/100\n",
      "42000/42000 [==============================] - 6s 140us/step - loss: 0.1127 - accuracy: 0.9677 - val_loss: 0.6750 - val_accuracy: 0.8140\n",
      "Epoch 47/100\n",
      "42000/42000 [==============================] - 6s 140us/step - loss: 0.1077 - accuracy: 0.9695 - val_loss: 0.7254 - val_accuracy: 0.8050\n",
      "Epoch 48/100\n",
      "42000/42000 [==============================] - 6s 149us/step - loss: 0.1065 - accuracy: 0.9703 - val_loss: 0.9123 - val_accuracy: 0.7773\n",
      "Epoch 49/100\n",
      "42000/42000 [==============================] - 6s 151us/step - loss: 0.1076 - accuracy: 0.9684 - val_loss: 0.5921 - val_accuracy: 0.8333\n",
      "Epoch 50/100\n",
      "42000/42000 [==============================] - 6s 149us/step - loss: 0.0969 - accuracy: 0.9725 - val_loss: 0.6164 - val_accuracy: 0.8305\n",
      "Epoch 51/100\n",
      "42000/42000 [==============================] - 6s 146us/step - loss: 0.0931 - accuracy: 0.9736 - val_loss: 0.6770 - val_accuracy: 0.8137\n",
      "Epoch 52/100\n",
      "42000/42000 [==============================] - 6s 150us/step - loss: 0.0963 - accuracy: 0.9723 - val_loss: 0.8074 - val_accuracy: 0.7908\n",
      "Epoch 53/100\n",
      "42000/42000 [==============================] - 6s 153us/step - loss: 0.0938 - accuracy: 0.9736 - val_loss: 0.7942 - val_accuracy: 0.7992\n",
      "Epoch 54/100\n",
      "42000/42000 [==============================] - 6s 153us/step - loss: 0.0912 - accuracy: 0.9728 - val_loss: 0.5149 - val_accuracy: 0.8544\n",
      "Epoch 55/100\n"
     ]
    },
    {
     "name": "stdout",
     "output_type": "stream",
     "text": [
      "42000/42000 [==============================] - 6s 146us/step - loss: 0.0922 - accuracy: 0.9733 - val_loss: 0.7245 - val_accuracy: 0.8075\n",
      "Epoch 56/100\n",
      "42000/42000 [==============================] - 6s 141us/step - loss: 0.0868 - accuracy: 0.9761 - val_loss: 0.8326 - val_accuracy: 0.7975\n",
      "Epoch 57/100\n",
      "42000/42000 [==============================] - 6s 143us/step - loss: 0.0895 - accuracy: 0.9738 - val_loss: 0.5945 - val_accuracy: 0.8352\n",
      "Epoch 58/100\n",
      "42000/42000 [==============================] - 6s 141us/step - loss: 0.0799 - accuracy: 0.9776 - val_loss: 0.8998 - val_accuracy: 0.7844\n",
      "Epoch 59/100\n",
      "42000/42000 [==============================] - 6s 140us/step - loss: 0.0854 - accuracy: 0.9746 - val_loss: 0.5766 - val_accuracy: 0.8447\n",
      "Epoch 60/100\n",
      "42000/42000 [==============================] - 6s 136us/step - loss: 0.0749 - accuracy: 0.9780 - val_loss: 0.6364 - val_accuracy: 0.8330\n",
      "Epoch 61/100\n",
      "42000/42000 [==============================] - 6s 136us/step - loss: 0.0763 - accuracy: 0.9786 - val_loss: 0.6712 - val_accuracy: 0.8216\n",
      "Epoch 62/100\n",
      "42000/42000 [==============================] - 6s 137us/step - loss: 0.0685 - accuracy: 0.9806 - val_loss: 0.7210 - val_accuracy: 0.8179\n",
      "Epoch 63/100\n",
      "42000/42000 [==============================] - 6s 136us/step - loss: 0.0793 - accuracy: 0.9760 - val_loss: 0.6950 - val_accuracy: 0.8223\n",
      "Epoch 64/100\n",
      "42000/42000 [==============================] - 6s 138us/step - loss: 0.0712 - accuracy: 0.9790 - val_loss: 0.6933 - val_accuracy: 0.8203\n",
      "Epoch 65/100\n",
      "42000/42000 [==============================] - 6s 141us/step - loss: 0.0674 - accuracy: 0.9801 - val_loss: 0.6302 - val_accuracy: 0.8383\n",
      "Epoch 66/100\n",
      "42000/42000 [==============================] - 75s 2ms/step - loss: 0.0655 - accuracy: 0.9811 - val_loss: 0.8439 - val_accuracy: 0.8009\n",
      "Epoch 67/100\n",
      "42000/42000 [==============================] - 7s 171us/step - loss: 0.0695 - accuracy: 0.9798 - val_loss: 0.6295 - val_accuracy: 0.8371\n",
      "Epoch 68/100\n",
      "42000/42000 [==============================] - 6s 147us/step - loss: 0.0665 - accuracy: 0.9810 - val_loss: 0.8085 - val_accuracy: 0.8037\n",
      "Epoch 69/100\n",
      "42000/42000 [==============================] - 6s 146us/step - loss: 0.0754 - accuracy: 0.9771 - val_loss: 0.6418 - val_accuracy: 0.8268\n",
      "Epoch 70/100\n",
      "42000/42000 [==============================] - 6s 147us/step - loss: 0.0602 - accuracy: 0.9824 - val_loss: 0.5149 - val_accuracy: 0.8669\n",
      "Epoch 71/100\n",
      "42000/42000 [==============================] - 6s 147us/step - loss: 0.0605 - accuracy: 0.9822 - val_loss: 0.6014 - val_accuracy: 0.8454\n",
      "Epoch 72/100\n",
      "42000/42000 [==============================] - 6s 142us/step - loss: 0.0583 - accuracy: 0.9834 - val_loss: 0.7159 - val_accuracy: 0.8190\n",
      "Epoch 73/100\n",
      "42000/42000 [==============================] - 6s 143us/step - loss: 0.0661 - accuracy: 0.9810 - val_loss: 0.6964 - val_accuracy: 0.8263\n",
      "Epoch 74/100\n",
      "42000/42000 [==============================] - 6s 141us/step - loss: 0.0604 - accuracy: 0.9820 - val_loss: 0.6341 - val_accuracy: 0.8420\n",
      "Epoch 75/100\n",
      "42000/42000 [==============================] - 6s 142us/step - loss: 0.0507 - accuracy: 0.9860 - val_loss: 0.7389 - val_accuracy: 0.8146\n",
      "Epoch 76/100\n",
      "42000/42000 [==============================] - 6s 148us/step - loss: 0.0572 - accuracy: 0.9832 - val_loss: 0.5978 - val_accuracy: 0.8569\n",
      "Epoch 77/100\n",
      "42000/42000 [==============================] - 6s 141us/step - loss: 0.0598 - accuracy: 0.9828 - val_loss: 0.7423 - val_accuracy: 0.8157\n",
      "Epoch 78/100\n",
      "42000/42000 [==============================] - 6s 142us/step - loss: 0.0548 - accuracy: 0.9839 - val_loss: 0.6290 - val_accuracy: 0.8474\n",
      "Epoch 79/100\n",
      "42000/42000 [==============================] - 8s 194us/step - loss: 0.0635 - accuracy: 0.9808 - val_loss: 0.7332 - val_accuracy: 0.8186\n",
      "Epoch 80/100\n",
      "42000/42000 [==============================] - 7s 169us/step - loss: 0.0609 - accuracy: 0.9813 - val_loss: 0.7154 - val_accuracy: 0.8269\n",
      "Epoch 81/100\n",
      "42000/42000 [==============================] - 6s 140us/step - loss: 0.0567 - accuracy: 0.9832 - val_loss: 1.3106 - val_accuracy: 0.7284\n",
      "Epoch 82/100\n",
      "42000/42000 [==============================] - 6s 141us/step - loss: 0.0633 - accuracy: 0.9805 - val_loss: 0.9310 - val_accuracy: 0.7947\n",
      "Epoch 83/100\n",
      "42000/42000 [==============================] - 7s 155us/step - loss: 0.0469 - accuracy: 0.9864 - val_loss: 0.7097 - val_accuracy: 0.8307\n",
      "Epoch 84/100\n",
      "42000/42000 [==============================] - 6s 145us/step - loss: 0.0477 - accuracy: 0.9862 - val_loss: 0.6775 - val_accuracy: 0.8387\n",
      "Epoch 85/100\n",
      "42000/42000 [==============================] - 6s 148us/step - loss: 0.0471 - accuracy: 0.9864 - val_loss: 0.8746 - val_accuracy: 0.8083\n",
      "Epoch 86/100\n",
      "42000/42000 [==============================] - 6s 144us/step - loss: 0.0493 - accuracy: 0.9849 - val_loss: 0.7121 - val_accuracy: 0.8343\n",
      "Epoch 87/100\n",
      "42000/42000 [==============================] - 6s 147us/step - loss: 0.0604 - accuracy: 0.9813 - val_loss: 0.9355 - val_accuracy: 0.7823\n",
      "Epoch 88/100\n",
      "42000/42000 [==============================] - 6s 145us/step - loss: 0.0530 - accuracy: 0.9837 - val_loss: 0.6271 - val_accuracy: 0.8467\n",
      "Epoch 89/100\n",
      "42000/42000 [==============================] - 6s 142us/step - loss: 0.0499 - accuracy: 0.9849 - val_loss: 0.7467 - val_accuracy: 0.8249\n",
      "Epoch 90/100\n",
      "42000/42000 [==============================] - 6s 144us/step - loss: 0.0459 - accuracy: 0.9863 - val_loss: 0.5705 - val_accuracy: 0.8597\n",
      "Epoch 91/100\n",
      "42000/42000 [==============================] - 6s 143us/step - loss: 0.0434 - accuracy: 0.9867 - val_loss: 0.6193 - val_accuracy: 0.8550\n",
      "Epoch 92/100\n",
      "42000/42000 [==============================] - 6s 141us/step - loss: 0.0432 - accuracy: 0.9877 - val_loss: 0.5148 - val_accuracy: 0.8758\n",
      "Epoch 93/100\n",
      "42000/42000 [==============================] - 6s 142us/step - loss: 0.0398 - accuracy: 0.9883 - val_loss: 0.6969 - val_accuracy: 0.8321\n",
      "Epoch 94/100\n",
      "42000/42000 [==============================] - 6s 142us/step - loss: 0.0490 - accuracy: 0.9852 - val_loss: 0.8327 - val_accuracy: 0.8035\n",
      "Epoch 95/100\n",
      "42000/42000 [==============================] - 6s 149us/step - loss: 0.0523 - accuracy: 0.9840 - val_loss: 0.7152 - val_accuracy: 0.8325\n",
      "Epoch 96/100\n",
      "42000/42000 [==============================] - 6s 142us/step - loss: 0.0484 - accuracy: 0.9856 - val_loss: 0.6117 - val_accuracy: 0.8539\n",
      "Epoch 97/100\n",
      "42000/42000 [==============================] - 6s 141us/step - loss: 0.0442 - accuracy: 0.9875 - val_loss: 0.5698 - val_accuracy: 0.8649\n",
      "Epoch 98/100\n",
      "42000/42000 [==============================] - 6s 143us/step - loss: 0.0498 - accuracy: 0.9848 - val_loss: 0.6175 - val_accuracy: 0.8616\n",
      "Epoch 99/100\n",
      "42000/42000 [==============================] - 6s 142us/step - loss: 0.0399 - accuracy: 0.9880 - val_loss: 0.6635 - val_accuracy: 0.8463\n",
      "Epoch 100/100\n",
      "42000/42000 [==============================] - 6s 145us/step - loss: 0.0380 - accuracy: 0.9881 - val_loss: 0.8938 - val_accuracy: 0.8144\n"
     ]
    }
   ],
   "source": [
    "# Fitting the ANN to the Training data\n",
    "history = model.fit(X_train, y_train, validation_data=(X_val,y_val), batch_size = 200, epochs = 100, verbose = 1)"
   ]
  },
  {
   "cell_type": "code",
   "execution_count": 41,
   "metadata": {},
   "outputs": [
    {
     "name": "stdout",
     "output_type": "stream",
     "text": [
      "60000/60000 [==============================] - 4s 61us/step\n"
     ]
    },
    {
     "data": {
      "text/plain": [
       "0.8144166469573975"
      ]
     },
     "execution_count": 41,
     "metadata": {},
     "output_type": "execute_result"
    }
   ],
   "source": [
    "results_1 = model.evaluate(X_val, y_val)\n",
    "results_1[1]"
   ]
  },
  {
   "cell_type": "code",
   "execution_count": 42,
   "metadata": {},
   "outputs": [
    {
     "data": {
      "text/html": [
       "<div>\n",
       "<style scoped>\n",
       "    .dataframe tbody tr th:only-of-type {\n",
       "        vertical-align: middle;\n",
       "    }\n",
       "\n",
       "    .dataframe tbody tr th {\n",
       "        vertical-align: top;\n",
       "    }\n",
       "\n",
       "    .dataframe thead th {\n",
       "        text-align: right;\n",
       "    }\n",
       "</style>\n",
       "<table border=\"1\" class=\"dataframe\">\n",
       "  <thead>\n",
       "    <tr style=\"text-align: right;\">\n",
       "      <th></th>\n",
       "      <th>Method</th>\n",
       "      <th>accuracy</th>\n",
       "    </tr>\n",
       "  </thead>\n",
       "  <tbody>\n",
       "    <tr>\n",
       "      <th>1</th>\n",
       "      <td>NN</td>\n",
       "      <td>0.190350</td>\n",
       "    </tr>\n",
       "    <tr>\n",
       "      <th>2</th>\n",
       "      <td>NN_Batch_Adam</td>\n",
       "      <td>0.814417</td>\n",
       "    </tr>\n",
       "  </tbody>\n",
       "</table>\n",
       "</div>"
      ],
      "text/plain": [
       "          Method  accuracy\n",
       "1             NN  0.190350\n",
       "2  NN_Batch_Adam  0.814417"
      ]
     },
     "execution_count": 42,
     "metadata": {},
     "output_type": "execute_result"
    }
   ],
   "source": [
    "#Store the accuracy results for each model in a dataframe for final comparison\n",
    "\n",
    "tempResultsDf = pd.DataFrame({'Method':['NN_Batch_Adam'], 'accuracy': [results_1[1]]},index={'2'})\n",
    "results_on_val= pd.concat([results_on_val, tempResultsDf])\n",
    "results_on_val = results_on_val[['Method', 'accuracy']]\n",
    "results_on_val"
   ]
  },
  {
   "cell_type": "code",
   "execution_count": 43,
   "metadata": {},
   "outputs": [],
   "source": [
    "\n",
    "model_sgd = Sequential()\n",
    "#Adding Input layer and activation functions ReLU\n",
    "model_sgd.add(Dense(512, kernel_initializer='he_normal', input_shape = (1024, )))\n",
    "#Adding BatchNormalization Layer\n",
    "model_sgd.add(BatchNormalization())\n",
    "#Adding Activation function\n",
    "model_sgd.add(Activation('relu'))    \n",
    "\n",
    "#Hidden Layer 1\n",
    "#Adding first Hidden layer\n",
    "model_sgd.add(Dense(256, kernel_initializer='he_normal'))\n",
    "#Adding BatchNormalization Layer\n",
    "model_sgd.add(BatchNormalization())\n",
    "model_sgd.add(Activation('relu'))    \n",
    "\n",
    "\n",
    "#Hidden Layer 2\n",
    "#Adding second Hidden layer\n",
    "model_sgd.add(Dense(128, kernel_initializer='he_normal'))\n",
    "#Adding BatchNormalization Layer\n",
    "model_sgd.add(BatchNormalization())    \n",
    "model_sgd.add(Activation('relu'))    \n",
    "\n",
    "#Hidden Layer 3\n",
    "#Adding third Hidden layer\n",
    "model_sgd.add(Dense(64, kernel_initializer='he_normal'))\n",
    "#Adding BatchNormalization Layer\n",
    "model_sgd.add(BatchNormalization())\n",
    "model_sgd.add(Activation('relu'))    \n",
    "\n",
    "#Hidden Layer 4\n",
    "#Adding fourth Hidden layer\n",
    "model_sgd.add(Dense(32, kernel_initializer='he_normal'))\n",
    "#Adding BatchNormalization Layer\n",
    "model_sgd.add(BatchNormalization())\n",
    "model_sgd.add(Activation('relu'))    \n",
    "\n",
    "# Output Layer\n",
    "#Adding output layer which is of 10 nodes (digits)\n",
    "model_sgd.add(Dense(10))\n",
    "model_sgd.add(Activation('softmax'))\n",
    "\n",
    "#ANN classifier\n",
    "sgd = optimizers.SGD(lr = 0.0001)\n",
    "model_sgd.compile(optimizer = sgd, loss = 'categorical_crossentropy', metrics = ['accuracy'])\n"
   ]
  },
  {
   "cell_type": "code",
   "execution_count": 44,
   "metadata": {},
   "outputs": [
    {
     "name": "stdout",
     "output_type": "stream",
     "text": [
      "Model: \"sequential_5\"\n",
      "_________________________________________________________________\n",
      "Layer (type)                 Output Shape              Param #   \n",
      "=================================================================\n",
      "dense_25 (Dense)             (None, 512)               524800    \n",
      "_________________________________________________________________\n",
      "batch_normalization_6 (Batch (None, 512)               2048      \n",
      "_________________________________________________________________\n",
      "activation_25 (Activation)   (None, 512)               0         \n",
      "_________________________________________________________________\n",
      "dense_26 (Dense)             (None, 256)               131328    \n",
      "_________________________________________________________________\n",
      "batch_normalization_7 (Batch (None, 256)               1024      \n",
      "_________________________________________________________________\n",
      "activation_26 (Activation)   (None, 256)               0         \n",
      "_________________________________________________________________\n",
      "dense_27 (Dense)             (None, 128)               32896     \n",
      "_________________________________________________________________\n",
      "batch_normalization_8 (Batch (None, 128)               512       \n",
      "_________________________________________________________________\n",
      "activation_27 (Activation)   (None, 128)               0         \n",
      "_________________________________________________________________\n",
      "dense_28 (Dense)             (None, 64)                8256      \n",
      "_________________________________________________________________\n",
      "batch_normalization_9 (Batch (None, 64)                256       \n",
      "_________________________________________________________________\n",
      "activation_28 (Activation)   (None, 64)                0         \n",
      "_________________________________________________________________\n",
      "dense_29 (Dense)             (None, 32)                2080      \n",
      "_________________________________________________________________\n",
      "batch_normalization_10 (Batc (None, 32)                128       \n",
      "_________________________________________________________________\n",
      "activation_29 (Activation)   (None, 32)                0         \n",
      "_________________________________________________________________\n",
      "dense_30 (Dense)             (None, 10)                330       \n",
      "_________________________________________________________________\n",
      "activation_30 (Activation)   (None, 10)                0         \n",
      "=================================================================\n",
      "Total params: 703,658\n",
      "Trainable params: 701,674\n",
      "Non-trainable params: 1,984\n",
      "_________________________________________________________________\n"
     ]
    }
   ],
   "source": [
    "model_sgd.summary()"
   ]
  },
  {
   "cell_type": "code",
   "execution_count": 45,
   "metadata": {},
   "outputs": [
    {
     "name": "stdout",
     "output_type": "stream",
     "text": [
      "Train on 42000 samples, validate on 60000 samples\n",
      "Epoch 1/100\n",
      "42000/42000 [==============================] - 6s 134us/step - loss: 2.6272 - accuracy: 0.1007 - val_loss: 2.6046 - val_accuracy: 0.1020\n",
      "Epoch 2/100\n",
      "42000/42000 [==============================] - 5s 114us/step - loss: 2.6095 - accuracy: 0.1026 - val_loss: 2.5930 - val_accuracy: 0.1036\n",
      "Epoch 3/100\n",
      "42000/42000 [==============================] - 5s 113us/step - loss: 2.5931 - accuracy: 0.1043 - val_loss: 2.5799 - val_accuracy: 0.1053\n",
      "Epoch 4/100\n",
      "42000/42000 [==============================] - 5s 114us/step - loss: 2.5740 - accuracy: 0.1067 - val_loss: 2.5638 - val_accuracy: 0.1077\n",
      "Epoch 5/100\n",
      "42000/42000 [==============================] - 5s 116us/step - loss: 2.5574 - accuracy: 0.1101 - val_loss: 2.5484 - val_accuracy: 0.1098\n",
      "Epoch 6/100\n",
      "42000/42000 [==============================] - 5s 113us/step - loss: 2.5440 - accuracy: 0.1125 - val_loss: 2.5362 - val_accuracy: 0.1127\n",
      "Epoch 7/100\n",
      "42000/42000 [==============================] - 5s 118us/step - loss: 2.5298 - accuracy: 0.1138 - val_loss: 2.5222 - val_accuracy: 0.1143\n",
      "Epoch 8/100\n",
      "42000/42000 [==============================] - 5s 118us/step - loss: 2.5159 - accuracy: 0.1173 - val_loss: 2.5109 - val_accuracy: 0.1172\n",
      "Epoch 9/100\n",
      "42000/42000 [==============================] - 5s 113us/step - loss: 2.5038 - accuracy: 0.1197 - val_loss: 2.4986 - val_accuracy: 0.1192\n",
      "Epoch 10/100\n",
      "42000/42000 [==============================] - 5s 113us/step - loss: 2.4917 - accuracy: 0.1221 - val_loss: 2.4846 - val_accuracy: 0.1222\n",
      "Epoch 11/100\n",
      "42000/42000 [==============================] - 5s 116us/step - loss: 2.4781 - accuracy: 0.1251 - val_loss: 2.4731 - val_accuracy: 0.1252\n",
      "Epoch 12/100\n",
      "42000/42000 [==============================] - 5s 114us/step - loss: 2.4684 - accuracy: 0.1264 - val_loss: 2.4623 - val_accuracy: 0.1277\n",
      "Epoch 13/100\n",
      "42000/42000 [==============================] - 5s 112us/step - loss: 2.4549 - accuracy: 0.1292 - val_loss: 2.4518 - val_accuracy: 0.1296\n",
      "Epoch 14/100\n",
      "42000/42000 [==============================] - 5s 115us/step - loss: 2.4461 - accuracy: 0.1313 - val_loss: 2.4407 - val_accuracy: 0.1323\n",
      "Epoch 15/100\n",
      "42000/42000 [==============================] - 5s 114us/step - loss: 2.4369 - accuracy: 0.1352 - val_loss: 2.4325 - val_accuracy: 0.1341\n",
      "Epoch 16/100\n",
      "42000/42000 [==============================] - 5s 116us/step - loss: 2.4258 - accuracy: 0.1361 - val_loss: 2.4218 - val_accuracy: 0.1363\n",
      "Epoch 17/100\n",
      "42000/42000 [==============================] - 5s 117us/step - loss: 2.4160 - accuracy: 0.1378 - val_loss: 2.4114 - val_accuracy: 0.1384\n",
      "Epoch 18/100\n",
      "42000/42000 [==============================] - 5s 113us/step - loss: 2.4076 - accuracy: 0.1407 - val_loss: 2.4023 - val_accuracy: 0.1408\n",
      "Epoch 19/100\n",
      "42000/42000 [==============================] - 5s 113us/step - loss: 2.3979 - accuracy: 0.1440 - val_loss: 2.3948 - val_accuracy: 0.1429\n",
      "Epoch 20/100\n",
      "42000/42000 [==============================] - 5s 120us/step - loss: 2.3892 - accuracy: 0.1454 - val_loss: 2.3864 - val_accuracy: 0.1449\n",
      "Epoch 21/100\n",
      "42000/42000 [==============================] - 5s 116us/step - loss: 2.3810 - accuracy: 0.1455 - val_loss: 2.3780 - val_accuracy: 0.1472\n",
      "Epoch 22/100\n",
      "42000/42000 [==============================] - 5s 111us/step - loss: 2.3731 - accuracy: 0.1491 - val_loss: 2.3697 - val_accuracy: 0.1488\n",
      "Epoch 23/100\n",
      "42000/42000 [==============================] - 5s 113us/step - loss: 2.3647 - accuracy: 0.1514 - val_loss: 2.3631 - val_accuracy: 0.1507\n",
      "Epoch 24/100\n",
      "42000/42000 [==============================] - 5s 113us/step - loss: 2.3578 - accuracy: 0.1540 - val_loss: 2.3560 - val_accuracy: 0.1530\n",
      "Epoch 25/100\n",
      "42000/42000 [==============================] - 5s 112us/step - loss: 2.3502 - accuracy: 0.1544 - val_loss: 2.3487 - val_accuracy: 0.1560\n",
      "Epoch 26/100\n",
      "42000/42000 [==============================] - 5s 113us/step - loss: 2.3423 - accuracy: 0.1567 - val_loss: 2.3417 - val_accuracy: 0.1576\n",
      "Epoch 27/100\n",
      "42000/42000 [==============================] - 5s 114us/step - loss: 2.3370 - accuracy: 0.1590 - val_loss: 2.3345 - val_accuracy: 0.1597\n",
      "Epoch 28/100\n",
      "42000/42000 [==============================] - 5s 113us/step - loss: 2.3309 - accuracy: 0.1625 - val_loss: 2.3276 - val_accuracy: 0.1620\n",
      "Epoch 29/100\n",
      "42000/42000 [==============================] - 5s 113us/step - loss: 2.3220 - accuracy: 0.1642 - val_loss: 2.3200 - val_accuracy: 0.1639\n",
      "Epoch 30/100\n",
      "42000/42000 [==============================] - 5s 116us/step - loss: 2.3161 - accuracy: 0.1639 - val_loss: 2.3137 - val_accuracy: 0.1662\n",
      "Epoch 31/100\n",
      "42000/42000 [==============================] - 5s 115us/step - loss: 2.3080 - accuracy: 0.1685 - val_loss: 2.3073 - val_accuracy: 0.1685\n",
      "Epoch 32/100\n",
      "42000/42000 [==============================] - 5s 118us/step - loss: 2.3020 - accuracy: 0.1708 - val_loss: 2.3009 - val_accuracy: 0.1708\n",
      "Epoch 33/100\n",
      "42000/42000 [==============================] - 5s 119us/step - loss: 2.2959 - accuracy: 0.1723 - val_loss: 2.2950 - val_accuracy: 0.1734\n",
      "Epoch 34/100\n",
      "42000/42000 [==============================] - 5s 115us/step - loss: 2.2923 - accuracy: 0.1764 - val_loss: 2.2898 - val_accuracy: 0.1750\n",
      "Epoch 35/100\n",
      "42000/42000 [==============================] - 5s 113us/step - loss: 2.2862 - accuracy: 0.1760 - val_loss: 2.2834 - val_accuracy: 0.1771\n",
      "Epoch 36/100\n",
      "42000/42000 [==============================] - 5s 117us/step - loss: 2.2797 - accuracy: 0.1814 - val_loss: 2.2777 - val_accuracy: 0.1794\n",
      "Epoch 37/100\n",
      "42000/42000 [==============================] - 5s 113us/step - loss: 2.2749 - accuracy: 0.1800 - val_loss: 2.2722 - val_accuracy: 0.1814\n",
      "Epoch 38/100\n",
      "42000/42000 [==============================] - 5s 113us/step - loss: 2.2677 - accuracy: 0.1827 - val_loss: 2.2670 - val_accuracy: 0.1834\n",
      "Epoch 39/100\n",
      "42000/42000 [==============================] - 5s 113us/step - loss: 2.2630 - accuracy: 0.1843 - val_loss: 2.2607 - val_accuracy: 0.1860\n",
      "Epoch 40/100\n",
      "42000/42000 [==============================] - 5s 113us/step - loss: 2.2573 - accuracy: 0.1872 - val_loss: 2.2551 - val_accuracy: 0.1879\n",
      "Epoch 41/100\n",
      "42000/42000 [==============================] - 5s 112us/step - loss: 2.2513 - accuracy: 0.1907 - val_loss: 2.2510 - val_accuracy: 0.1900\n",
      "Epoch 42/100\n",
      "42000/42000 [==============================] - 5s 115us/step - loss: 2.2468 - accuracy: 0.1900 - val_loss: 2.2458 - val_accuracy: 0.1924\n",
      "Epoch 43/100\n",
      "42000/42000 [==============================] - 5s 112us/step - loss: 2.2396 - accuracy: 0.1951 - val_loss: 2.2396 - val_accuracy: 0.1947\n",
      "Epoch 44/100\n",
      "42000/42000 [==============================] - 5s 114us/step - loss: 2.2348 - accuracy: 0.1968 - val_loss: 2.2346 - val_accuracy: 0.1969\n",
      "Epoch 45/100\n",
      "42000/42000 [==============================] - 5s 114us/step - loss: 2.2307 - accuracy: 0.1998 - val_loss: 2.2296 - val_accuracy: 0.1986\n",
      "Epoch 46/100\n",
      "42000/42000 [==============================] - 5s 114us/step - loss: 2.2250 - accuracy: 0.2012 - val_loss: 2.2242 - val_accuracy: 0.2013\n",
      "Epoch 47/100\n",
      "42000/42000 [==============================] - 5s 112us/step - loss: 2.2199 - accuracy: 0.2041 - val_loss: 2.2194 - val_accuracy: 0.2033\n",
      "Epoch 48/100\n",
      "42000/42000 [==============================] - 5s 112us/step - loss: 2.2146 - accuracy: 0.2063 - val_loss: 2.2155 - val_accuracy: 0.2052\n",
      "Epoch 49/100\n",
      "42000/42000 [==============================] - 5s 116us/step - loss: 2.2106 - accuracy: 0.2067 - val_loss: 2.2102 - val_accuracy: 0.2071\n",
      "Epoch 50/100\n",
      "42000/42000 [==============================] - 5s 113us/step - loss: 2.2061 - accuracy: 0.2103 - val_loss: 2.2054 - val_accuracy: 0.2092\n",
      "Epoch 51/100\n",
      "42000/42000 [==============================] - 5s 113us/step - loss: 2.2014 - accuracy: 0.2107 - val_loss: 2.2007 - val_accuracy: 0.2110\n",
      "Epoch 52/100\n",
      "42000/42000 [==============================] - 5s 112us/step - loss: 2.1977 - accuracy: 0.2132 - val_loss: 2.1959 - val_accuracy: 0.2136\n",
      "Epoch 53/100\n",
      "42000/42000 [==============================] - 5s 119us/step - loss: 2.1917 - accuracy: 0.2145 - val_loss: 2.1912 - val_accuracy: 0.2153\n",
      "Epoch 54/100\n",
      "42000/42000 [==============================] - 7s 158us/step - loss: 2.1880 - accuracy: 0.2170 - val_loss: 2.1863 - val_accuracy: 0.2179\n",
      "Epoch 55/100\n"
     ]
    },
    {
     "name": "stdout",
     "output_type": "stream",
     "text": [
      "42000/42000 [==============================] - 7s 160us/step - loss: 2.1829 - accuracy: 0.2200 - val_loss: 2.1821 - val_accuracy: 0.2198\n",
      "Epoch 56/100\n",
      "42000/42000 [==============================] - 6s 145us/step - loss: 2.1770 - accuracy: 0.2235 - val_loss: 2.1770 - val_accuracy: 0.2224\n",
      "Epoch 57/100\n",
      "42000/42000 [==============================] - 7s 156us/step - loss: 2.1736 - accuracy: 0.2234 - val_loss: 2.1726 - val_accuracy: 0.2250\n",
      "Epoch 58/100\n",
      "42000/42000 [==============================] - 5s 128us/step - loss: 2.1677 - accuracy: 0.2272 - val_loss: 2.1681 - val_accuracy: 0.2268\n",
      "Epoch 59/100\n",
      "42000/42000 [==============================] - 5s 113us/step - loss: 2.1657 - accuracy: 0.2273 - val_loss: 2.1637 - val_accuracy: 0.2290\n",
      "Epoch 60/100\n",
      "42000/42000 [==============================] - 5s 120us/step - loss: 2.1590 - accuracy: 0.2312 - val_loss: 2.1594 - val_accuracy: 0.2311\n",
      "Epoch 61/100\n",
      "42000/42000 [==============================] - 5s 114us/step - loss: 2.1554 - accuracy: 0.2312 - val_loss: 2.1551 - val_accuracy: 0.2331\n",
      "Epoch 62/100\n",
      "42000/42000 [==============================] - 5s 113us/step - loss: 2.1522 - accuracy: 0.2341 - val_loss: 2.1505 - val_accuracy: 0.2357\n",
      "Epoch 63/100\n",
      "42000/42000 [==============================] - 5s 114us/step - loss: 2.1467 - accuracy: 0.2367 - val_loss: 2.1466 - val_accuracy: 0.2375\n",
      "Epoch 64/100\n",
      "42000/42000 [==============================] - 5s 113us/step - loss: 2.1421 - accuracy: 0.2405 - val_loss: 2.1421 - val_accuracy: 0.2400\n",
      "Epoch 65/100\n",
      "42000/42000 [==============================] - 5s 112us/step - loss: 2.1361 - accuracy: 0.2425 - val_loss: 2.1379 - val_accuracy: 0.2416\n",
      "Epoch 66/100\n",
      "42000/42000 [==============================] - 5s 115us/step - loss: 2.1337 - accuracy: 0.2418 - val_loss: 2.1339 - val_accuracy: 0.2437\n",
      "Epoch 67/100\n",
      "42000/42000 [==============================] - 5s 113us/step - loss: 2.1294 - accuracy: 0.2449 - val_loss: 2.1296 - val_accuracy: 0.2459\n",
      "Epoch 68/100\n",
      "42000/42000 [==============================] - 5s 114us/step - loss: 2.1266 - accuracy: 0.2461 - val_loss: 2.1256 - val_accuracy: 0.2478\n",
      "Epoch 69/100\n",
      "42000/42000 [==============================] - 5s 113us/step - loss: 2.1214 - accuracy: 0.2493 - val_loss: 2.1213 - val_accuracy: 0.2504\n",
      "Epoch 70/100\n",
      "42000/42000 [==============================] - 5s 113us/step - loss: 2.1173 - accuracy: 0.2482 - val_loss: 2.1171 - val_accuracy: 0.2524\n",
      "Epoch 71/100\n",
      "42000/42000 [==============================] - 5s 113us/step - loss: 2.1127 - accuracy: 0.2524 - val_loss: 2.1131 - val_accuracy: 0.2546\n",
      "Epoch 72/100\n",
      "42000/42000 [==============================] - 5s 118us/step - loss: 2.1086 - accuracy: 0.2543 - val_loss: 2.1090 - val_accuracy: 0.2569\n",
      "Epoch 73/100\n",
      "42000/42000 [==============================] - 5s 112us/step - loss: 2.1041 - accuracy: 0.2566 - val_loss: 2.1052 - val_accuracy: 0.2585\n",
      "Epoch 74/100\n",
      "42000/42000 [==============================] - 5s 113us/step - loss: 2.1012 - accuracy: 0.2580 - val_loss: 2.1009 - val_accuracy: 0.2603\n",
      "Epoch 75/100\n",
      "42000/42000 [==============================] - 5s 114us/step - loss: 2.0964 - accuracy: 0.2591 - val_loss: 2.0970 - val_accuracy: 0.2622\n",
      "Epoch 76/100\n",
      "42000/42000 [==============================] - 5s 114us/step - loss: 2.0940 - accuracy: 0.2612 - val_loss: 2.0935 - val_accuracy: 0.2639\n",
      "Epoch 77/100\n",
      "42000/42000 [==============================] - 5s 112us/step - loss: 2.0890 - accuracy: 0.2653 - val_loss: 2.0896 - val_accuracy: 0.2659\n",
      "Epoch 78/100\n",
      "42000/42000 [==============================] - 5s 118us/step - loss: 2.0854 - accuracy: 0.2654 - val_loss: 2.0857 - val_accuracy: 0.2677\n",
      "Epoch 79/100\n",
      "42000/42000 [==============================] - 5s 114us/step - loss: 2.0810 - accuracy: 0.2677 - val_loss: 2.0817 - val_accuracy: 0.2697\n",
      "Epoch 80/100\n",
      "42000/42000 [==============================] - 5s 118us/step - loss: 2.0764 - accuracy: 0.2687 - val_loss: 2.0779 - val_accuracy: 0.2709\n",
      "Epoch 81/100\n",
      "42000/42000 [==============================] - 5s 117us/step - loss: 2.0728 - accuracy: 0.2711 - val_loss: 2.0740 - val_accuracy: 0.2734\n",
      "Epoch 82/100\n",
      "42000/42000 [==============================] - 5s 116us/step - loss: 2.0707 - accuracy: 0.2728 - val_loss: 2.0702 - val_accuracy: 0.2748\n",
      "Epoch 83/100\n",
      "42000/42000 [==============================] - 5s 116us/step - loss: 2.0665 - accuracy: 0.2763 - val_loss: 2.0662 - val_accuracy: 0.2768\n",
      "Epoch 84/100\n",
      "42000/42000 [==============================] - 5s 116us/step - loss: 2.0640 - accuracy: 0.2742 - val_loss: 2.0628 - val_accuracy: 0.2788\n",
      "Epoch 85/100\n",
      "42000/42000 [==============================] - 5s 114us/step - loss: 2.0591 - accuracy: 0.2775 - val_loss: 2.0588 - val_accuracy: 0.2804\n",
      "Epoch 86/100\n",
      "42000/42000 [==============================] - 5s 114us/step - loss: 2.0542 - accuracy: 0.2793 - val_loss: 2.0554 - val_accuracy: 0.2823\n",
      "Epoch 87/100\n",
      "42000/42000 [==============================] - 5s 113us/step - loss: 2.0519 - accuracy: 0.2810 - val_loss: 2.0515 - val_accuracy: 0.2842\n",
      "Epoch 88/100\n",
      "42000/42000 [==============================] - 5s 114us/step - loss: 2.0476 - accuracy: 0.2863 - val_loss: 2.0480 - val_accuracy: 0.2862\n",
      "Epoch 89/100\n",
      "42000/42000 [==============================] - 5s 114us/step - loss: 2.0438 - accuracy: 0.2858 - val_loss: 2.0446 - val_accuracy: 0.2884\n",
      "Epoch 90/100\n",
      "42000/42000 [==============================] - 5s 116us/step - loss: 2.0402 - accuracy: 0.2878 - val_loss: 2.0407 - val_accuracy: 0.2903\n",
      "Epoch 91/100\n",
      "42000/42000 [==============================] - 5s 117us/step - loss: 2.0352 - accuracy: 0.2899 - val_loss: 2.0369 - val_accuracy: 0.2922\n",
      "Epoch 92/100\n",
      "42000/42000 [==============================] - 5s 113us/step - loss: 2.0326 - accuracy: 0.2930 - val_loss: 2.0336 - val_accuracy: 0.2937\n",
      "Epoch 93/100\n",
      "42000/42000 [==============================] - 5s 114us/step - loss: 2.0291 - accuracy: 0.2938 - val_loss: 2.0301 - val_accuracy: 0.2959\n",
      "Epoch 94/100\n",
      "42000/42000 [==============================] - 5s 114us/step - loss: 2.0241 - accuracy: 0.2947 - val_loss: 2.0264 - val_accuracy: 0.2966\n",
      "Epoch 95/100\n",
      "42000/42000 [==============================] - 5s 114us/step - loss: 2.0214 - accuracy: 0.2971 - val_loss: 2.0226 - val_accuracy: 0.2992\n",
      "Epoch 96/100\n",
      "42000/42000 [==============================] - 5s 114us/step - loss: 2.0184 - accuracy: 0.2980 - val_loss: 2.0193 - val_accuracy: 0.3007\n",
      "Epoch 97/100\n",
      "42000/42000 [==============================] - 5s 116us/step - loss: 2.0152 - accuracy: 0.3003 - val_loss: 2.0159 - val_accuracy: 0.3022\n",
      "Epoch 98/100\n",
      "42000/42000 [==============================] - 5s 115us/step - loss: 2.0104 - accuracy: 0.3027 - val_loss: 2.0122 - val_accuracy: 0.3039\n",
      "Epoch 99/100\n",
      "42000/42000 [==============================] - 5s 113us/step - loss: 2.0066 - accuracy: 0.3052 - val_loss: 2.0091 - val_accuracy: 0.3063\n",
      "Epoch 100/100\n",
      "42000/42000 [==============================] - 5s 115us/step - loss: 2.0045 - accuracy: 0.3042 - val_loss: 2.0056 - val_accuracy: 0.3084\n"
     ]
    }
   ],
   "source": [
    "# Fitting the ANN to the Training data\n",
    "history = model_sgd.fit(X_train, y_train, validation_data=(X_val,y_val), batch_size = 200, epochs = 100, verbose = 1)"
   ]
  },
  {
   "cell_type": "code",
   "execution_count": 46,
   "metadata": {},
   "outputs": [
    {
     "name": "stdout",
     "output_type": "stream",
     "text": [
      "60000/60000 [==============================] - 4s 64us/step\n"
     ]
    },
    {
     "data": {
      "text/plain": [
       "0.30836665630340576"
      ]
     },
     "execution_count": 46,
     "metadata": {},
     "output_type": "execute_result"
    }
   ],
   "source": [
    "results_2 = model_sgd.evaluate(X_val, y_val)\n",
    "results_2[1]"
   ]
  },
  {
   "cell_type": "code",
   "execution_count": 47,
   "metadata": {},
   "outputs": [
    {
     "data": {
      "text/html": [
       "<div>\n",
       "<style scoped>\n",
       "    .dataframe tbody tr th:only-of-type {\n",
       "        vertical-align: middle;\n",
       "    }\n",
       "\n",
       "    .dataframe tbody tr th {\n",
       "        vertical-align: top;\n",
       "    }\n",
       "\n",
       "    .dataframe thead th {\n",
       "        text-align: right;\n",
       "    }\n",
       "</style>\n",
       "<table border=\"1\" class=\"dataframe\">\n",
       "  <thead>\n",
       "    <tr style=\"text-align: right;\">\n",
       "      <th></th>\n",
       "      <th>Method</th>\n",
       "      <th>accuracy</th>\n",
       "    </tr>\n",
       "  </thead>\n",
       "  <tbody>\n",
       "    <tr>\n",
       "      <th>1</th>\n",
       "      <td>NN</td>\n",
       "      <td>0.190350</td>\n",
       "    </tr>\n",
       "    <tr>\n",
       "      <th>2</th>\n",
       "      <td>NN_Batch_Adam</td>\n",
       "      <td>0.814417</td>\n",
       "    </tr>\n",
       "    <tr>\n",
       "      <th>3</th>\n",
       "      <td>NN_Batch_sgd</td>\n",
       "      <td>0.308367</td>\n",
       "    </tr>\n",
       "  </tbody>\n",
       "</table>\n",
       "</div>"
      ],
      "text/plain": [
       "          Method  accuracy\n",
       "1             NN  0.190350\n",
       "2  NN_Batch_Adam  0.814417\n",
       "3   NN_Batch_sgd  0.308367"
      ]
     },
     "execution_count": 47,
     "metadata": {},
     "output_type": "execute_result"
    }
   ],
   "source": [
    "#Store the accuracy results for each model in a dataframe for final comparison\n",
    "tempResultsDf = pd.DataFrame({'Method':['NN_Batch_sgd'], 'accuracy': [results_2[1]]},index={'3'})\n",
    "results_on_val= pd.concat([results_on_val, tempResultsDf])\n",
    "results_on_val = results_on_val[['Method', 'accuracy']]\n",
    "results_on_val"
   ]
  },
  {
   "cell_type": "code",
   "execution_count": 48,
   "metadata": {},
   "outputs": [],
   "source": [
    "\n",
    "model = Sequential()\n",
    "#Adding Input layer and activation functions ReLU\n",
    "model.add(Dense(512, kernel_initializer='he_normal', input_shape = (1024, )))\n",
    "#Adding BatchNormalization Layer\n",
    "model.add(BatchNormalization())\n",
    "#Adding Activation function\n",
    "model.add(Activation('relu'))    \n",
    "#Adding Dropout Layer\n",
    "model.add(Dropout(0.5))\n",
    "\n",
    "\n",
    "#Hidden Layer 1\n",
    "#Adding first Hidden layer\n",
    "model.add(Dense(256, kernel_initializer='he_normal'))\n",
    "#Adding BatchNormalization Layer\n",
    "model.add(BatchNormalization())\n",
    "model.add(Activation('relu'))    \n",
    "#Adding Dropout Layer\n",
    "model.add(Dropout(0.5))\n",
    "\n",
    "\n",
    "#Hidden Layer 2\n",
    "#Adding second Hidden layer\n",
    "model.add(Dense(128, kernel_initializer='he_normal'))\n",
    "#Adding BatchNormalization Layer\n",
    "model.add(BatchNormalization())    \n",
    "model.add(Activation('relu'))    \n",
    "#Adding Dropout Layer\n",
    "model.add(Dropout(0.5))\n",
    "\n",
    "\n",
    "#Hidden Layer 3\n",
    "#Adding third Hidden layer\n",
    "model.add(Dense(64, kernel_initializer='he_normal'))\n",
    "#Adding BatchNormalization Layer\n",
    "model.add(BatchNormalization())\n",
    "model.add(Activation('relu'))    \n",
    "#Adding Dropout Layer\n",
    "model.add(Dropout(0.5))\n",
    "\n",
    "\n",
    "#Hidden Layer 4\n",
    "#Adding fourth Hidden layer\n",
    "model.add(Dense(32, kernel_initializer='he_normal'))\n",
    "#Adding BatchNormalization Layer\n",
    "model.add(BatchNormalization())\n",
    "model.add(Activation('relu'))    \n",
    "#Adding Dropout Layer\n",
    "model.add(Dropout(0.5))\n",
    "\n",
    "\n",
    "# Output Layer\n",
    "#Adding output layer which is of 10 nodes (digits)\n",
    "model.add(Dense(10))\n",
    "model.add(Activation('softmax'))\n",
    "\n",
    "#ANN classifier\n",
    "adam = optimizers.Adam(lr = 0.0001)\n",
    "model.compile(optimizer = adam, loss = 'categorical_crossentropy', metrics = ['accuracy'])\n"
   ]
  },
  {
   "cell_type": "code",
   "execution_count": 49,
   "metadata": {},
   "outputs": [
    {
     "name": "stdout",
     "output_type": "stream",
     "text": [
      "Model: \"sequential_6\"\n",
      "_________________________________________________________________\n",
      "Layer (type)                 Output Shape              Param #   \n",
      "=================================================================\n",
      "dense_31 (Dense)             (None, 512)               524800    \n",
      "_________________________________________________________________\n",
      "batch_normalization_11 (Batc (None, 512)               2048      \n",
      "_________________________________________________________________\n",
      "activation_31 (Activation)   (None, 512)               0         \n",
      "_________________________________________________________________\n",
      "dropout_1 (Dropout)          (None, 512)               0         \n",
      "_________________________________________________________________\n",
      "dense_32 (Dense)             (None, 256)               131328    \n",
      "_________________________________________________________________\n",
      "batch_normalization_12 (Batc (None, 256)               1024      \n",
      "_________________________________________________________________\n",
      "activation_32 (Activation)   (None, 256)               0         \n",
      "_________________________________________________________________\n",
      "dropout_2 (Dropout)          (None, 256)               0         \n",
      "_________________________________________________________________\n",
      "dense_33 (Dense)             (None, 128)               32896     \n",
      "_________________________________________________________________\n",
      "batch_normalization_13 (Batc (None, 128)               512       \n",
      "_________________________________________________________________\n",
      "activation_33 (Activation)   (None, 128)               0         \n",
      "_________________________________________________________________\n",
      "dropout_3 (Dropout)          (None, 128)               0         \n",
      "_________________________________________________________________\n",
      "dense_34 (Dense)             (None, 64)                8256      \n",
      "_________________________________________________________________\n",
      "batch_normalization_14 (Batc (None, 64)                256       \n",
      "_________________________________________________________________\n",
      "activation_34 (Activation)   (None, 64)                0         \n",
      "_________________________________________________________________\n",
      "dropout_4 (Dropout)          (None, 64)                0         \n",
      "_________________________________________________________________\n",
      "dense_35 (Dense)             (None, 32)                2080      \n",
      "_________________________________________________________________\n",
      "batch_normalization_15 (Batc (None, 32)                128       \n",
      "_________________________________________________________________\n",
      "activation_35 (Activation)   (None, 32)                0         \n",
      "_________________________________________________________________\n",
      "dropout_5 (Dropout)          (None, 32)                0         \n",
      "_________________________________________________________________\n",
      "dense_36 (Dense)             (None, 10)                330       \n",
      "_________________________________________________________________\n",
      "activation_36 (Activation)   (None, 10)                0         \n",
      "=================================================================\n",
      "Total params: 703,658\n",
      "Trainable params: 701,674\n",
      "Non-trainable params: 1,984\n",
      "_________________________________________________________________\n"
     ]
    }
   ],
   "source": [
    "model.summary()"
   ]
  },
  {
   "cell_type": "code",
   "execution_count": 50,
   "metadata": {},
   "outputs": [
    {
     "name": "stdout",
     "output_type": "stream",
     "text": [
      "Train on 42000 samples, validate on 60000 samples\n",
      "Epoch 1/100\n",
      "42000/42000 [==============================] - 8s 201us/step - loss: 2.8247 - accuracy: 0.1012 - val_loss: 2.3233 - val_accuracy: 0.1088\n",
      "Epoch 2/100\n",
      "42000/42000 [==============================] - 7s 164us/step - loss: 2.6977 - accuracy: 0.0996 - val_loss: 2.3118 - val_accuracy: 0.1093\n",
      "Epoch 3/100\n",
      "42000/42000 [==============================] - 8s 194us/step - loss: 2.6135 - accuracy: 0.1044 - val_loss: 2.3029 - val_accuracy: 0.1175\n",
      "Epoch 4/100\n",
      "42000/42000 [==============================] - 7s 164us/step - loss: 2.5496 - accuracy: 0.1053 - val_loss: 2.2992 - val_accuracy: 0.1281\n",
      "Epoch 5/100\n",
      "42000/42000 [==============================] - 7s 165us/step - loss: 2.5033 - accuracy: 0.1022 - val_loss: 2.2984 - val_accuracy: 0.1286\n",
      "Epoch 6/100\n",
      "42000/42000 [==============================] - 7s 167us/step - loss: 2.4573 - accuracy: 0.1032 - val_loss: 2.2969 - val_accuracy: 0.1302\n",
      "Epoch 7/100\n",
      "42000/42000 [==============================] - 7s 172us/step - loss: 2.4196 - accuracy: 0.1044 - val_loss: 2.2963 - val_accuracy: 0.1387\n",
      "Epoch 8/100\n",
      "42000/42000 [==============================] - 7s 176us/step - loss: 2.4003 - accuracy: 0.1052 - val_loss: 2.2948 - val_accuracy: 0.1396\n",
      "Epoch 9/100\n",
      "42000/42000 [==============================] - 7s 168us/step - loss: 2.3793 - accuracy: 0.1044 - val_loss: 2.2942 - val_accuracy: 0.1458\n",
      "Epoch 10/100\n",
      "42000/42000 [==============================] - 7s 169us/step - loss: 2.3621 - accuracy: 0.1048 - val_loss: 2.2932 - val_accuracy: 0.1486\n",
      "Epoch 11/100\n",
      "42000/42000 [==============================] - 7s 165us/step - loss: 2.3537 - accuracy: 0.1064 - val_loss: 2.2928 - val_accuracy: 0.1524\n",
      "Epoch 12/100\n",
      "42000/42000 [==============================] - 7s 165us/step - loss: 2.3404 - accuracy: 0.1060 - val_loss: 2.2911 - val_accuracy: 0.1557\n",
      "Epoch 13/100\n",
      "42000/42000 [==============================] - 7s 166us/step - loss: 2.3352 - accuracy: 0.1046 - val_loss: 2.2906 - val_accuracy: 0.1579\n",
      "Epoch 14/100\n",
      "42000/42000 [==============================] - 7s 168us/step - loss: 2.3272 - accuracy: 0.1087 - val_loss: 2.2870 - val_accuracy: 0.1672\n",
      "Epoch 15/100\n",
      "42000/42000 [==============================] - 7s 165us/step - loss: 2.3226 - accuracy: 0.1101 - val_loss: 2.2835 - val_accuracy: 0.1772\n",
      "Epoch 16/100\n",
      "42000/42000 [==============================] - 7s 168us/step - loss: 2.3141 - accuracy: 0.1136 - val_loss: 2.2798 - val_accuracy: 0.1780\n",
      "Epoch 17/100\n",
      "42000/42000 [==============================] - 7s 167us/step - loss: 2.3089 - accuracy: 0.1155 - val_loss: 2.2742 - val_accuracy: 0.1813\n",
      "Epoch 18/100\n",
      "42000/42000 [==============================] - 7s 173us/step - loss: 2.3016 - accuracy: 0.1203 - val_loss: 2.2651 - val_accuracy: 0.1940\n",
      "Epoch 19/100\n",
      "42000/42000 [==============================] - 7s 171us/step - loss: 2.2951 - accuracy: 0.1259 - val_loss: 2.2519 - val_accuracy: 0.2138\n",
      "Epoch 20/100\n",
      "42000/42000 [==============================] - 7s 170us/step - loss: 2.2788 - accuracy: 0.1370 - val_loss: 2.2362 - val_accuracy: 0.2230\n",
      "Epoch 21/100\n",
      "42000/42000 [==============================] - 7s 165us/step - loss: 2.2616 - accuracy: 0.1472 - val_loss: 2.2177 - val_accuracy: 0.2176\n",
      "Epoch 22/100\n",
      "42000/42000 [==============================] - 7s 170us/step - loss: 2.2402 - accuracy: 0.1615 - val_loss: 2.1754 - val_accuracy: 0.2345\n",
      "Epoch 23/100\n",
      "42000/42000 [==============================] - 7s 166us/step - loss: 2.2100 - accuracy: 0.1747 - val_loss: 2.1185 - val_accuracy: 0.2555\n",
      "Epoch 24/100\n",
      "42000/42000 [==============================] - 7s 165us/step - loss: 2.1756 - accuracy: 0.1919 - val_loss: 2.0687 - val_accuracy: 0.2709\n",
      "Epoch 25/100\n",
      "42000/42000 [==============================] - 7s 168us/step - loss: 2.1407 - accuracy: 0.2021 - val_loss: 2.0266 - val_accuracy: 0.2866\n",
      "Epoch 26/100\n",
      "42000/42000 [==============================] - 7s 165us/step - loss: 2.0998 - accuracy: 0.2178 - val_loss: 1.9843 - val_accuracy: 0.2989\n",
      "Epoch 27/100\n",
      "42000/42000 [==============================] - 7s 168us/step - loss: 2.0616 - accuracy: 0.2317 - val_loss: 1.9239 - val_accuracy: 0.3125\n",
      "Epoch 28/100\n",
      "42000/42000 [==============================] - 7s 166us/step - loss: 2.0225 - accuracy: 0.2408 - val_loss: 1.9135 - val_accuracy: 0.2973\n",
      "Epoch 29/100\n",
      "42000/42000 [==============================] - 7s 167us/step - loss: 1.9877 - accuracy: 0.2533 - val_loss: 1.8453 - val_accuracy: 0.3272\n",
      "Epoch 30/100\n",
      "42000/42000 [==============================] - 7s 166us/step - loss: 1.9551 - accuracy: 0.2625 - val_loss: 1.8600 - val_accuracy: 0.3364\n",
      "Epoch 31/100\n",
      "42000/42000 [==============================] - 7s 170us/step - loss: 1.9300 - accuracy: 0.2723 - val_loss: 1.7840 - val_accuracy: 0.3803\n",
      "Epoch 32/100\n",
      "42000/42000 [==============================] - 7s 166us/step - loss: 1.8959 - accuracy: 0.2809 - val_loss: 1.7396 - val_accuracy: 0.3841\n",
      "Epoch 33/100\n",
      "42000/42000 [==============================] - 7s 166us/step - loss: 1.8679 - accuracy: 0.2910 - val_loss: 1.6803 - val_accuracy: 0.4250\n",
      "Epoch 34/100\n",
      "42000/42000 [==============================] - 7s 166us/step - loss: 1.8382 - accuracy: 0.3010 - val_loss: 1.6804 - val_accuracy: 0.4252\n",
      "Epoch 35/100\n",
      "42000/42000 [==============================] - 7s 169us/step - loss: 1.8083 - accuracy: 0.3152 - val_loss: 1.6122 - val_accuracy: 0.4436\n",
      "Epoch 36/100\n",
      "42000/42000 [==============================] - 7s 163us/step - loss: 1.7806 - accuracy: 0.3258 - val_loss: 1.6224 - val_accuracy: 0.4529\n",
      "Epoch 37/100\n",
      "42000/42000 [==============================] - 7s 167us/step - loss: 1.7504 - accuracy: 0.3401 - val_loss: 1.6222 - val_accuracy: 0.4331\n",
      "Epoch 38/100\n",
      "42000/42000 [==============================] - 7s 165us/step - loss: 1.7225 - accuracy: 0.3482 - val_loss: 1.5401 - val_accuracy: 0.4585\n",
      "Epoch 39/100\n",
      "42000/42000 [==============================] - 7s 166us/step - loss: 1.7011 - accuracy: 0.3566 - val_loss: 1.4919 - val_accuracy: 0.4739\n",
      "Epoch 40/100\n",
      "42000/42000 [==============================] - 7s 163us/step - loss: 1.6774 - accuracy: 0.3653 - val_loss: 1.4987 - val_accuracy: 0.4798\n",
      "Epoch 41/100\n",
      "42000/42000 [==============================] - 7s 164us/step - loss: 1.6594 - accuracy: 0.3698 - val_loss: 1.4235 - val_accuracy: 0.5155\n",
      "Epoch 42/100\n",
      "42000/42000 [==============================] - 7s 163us/step - loss: 1.6373 - accuracy: 0.3810 - val_loss: 1.4236 - val_accuracy: 0.5014\n",
      "Epoch 43/100\n",
      "42000/42000 [==============================] - 7s 164us/step - loss: 1.6210 - accuracy: 0.3874 - val_loss: 1.3982 - val_accuracy: 0.5174\n",
      "Epoch 44/100\n",
      "42000/42000 [==============================] - 7s 166us/step - loss: 1.6026 - accuracy: 0.3927 - val_loss: 1.4011 - val_accuracy: 0.5039\n",
      "Epoch 45/100\n",
      "42000/42000 [==============================] - 7s 164us/step - loss: 1.5875 - accuracy: 0.3994 - val_loss: 1.3424 - val_accuracy: 0.5335\n",
      "Epoch 46/100\n",
      "42000/42000 [==============================] - 7s 165us/step - loss: 1.5777 - accuracy: 0.4023 - val_loss: 1.3237 - val_accuracy: 0.5369\n",
      "Epoch 47/100\n",
      "42000/42000 [==============================] - 7s 164us/step - loss: 1.5559 - accuracy: 0.4113 - val_loss: 1.4443 - val_accuracy: 0.4974\n",
      "Epoch 48/100\n",
      "42000/42000 [==============================] - 7s 166us/step - loss: 1.5445 - accuracy: 0.4158 - val_loss: 1.2936 - val_accuracy: 0.5428\n",
      "Epoch 49/100\n",
      "42000/42000 [==============================] - 7s 162us/step - loss: 1.5294 - accuracy: 0.4210 - val_loss: 1.3342 - val_accuracy: 0.5266\n",
      "Epoch 50/100\n",
      "42000/42000 [==============================] - 7s 162us/step - loss: 1.5179 - accuracy: 0.4264 - val_loss: 1.3100 - val_accuracy: 0.5342\n",
      "Epoch 51/100\n",
      "42000/42000 [==============================] - 7s 164us/step - loss: 1.5036 - accuracy: 0.4319 - val_loss: 1.2811 - val_accuracy: 0.5612\n",
      "Epoch 52/100\n",
      "42000/42000 [==============================] - 7s 161us/step - loss: 1.4955 - accuracy: 0.4385 - val_loss: 1.2927 - val_accuracy: 0.5383\n",
      "Epoch 53/100\n",
      "42000/42000 [==============================] - 7s 164us/step - loss: 1.4857 - accuracy: 0.4439 - val_loss: 1.2508 - val_accuracy: 0.5677\n",
      "Epoch 54/100\n",
      "42000/42000 [==============================] - 7s 165us/step - loss: 1.4703 - accuracy: 0.4506 - val_loss: 1.2917 - val_accuracy: 0.5411\n",
      "Epoch 55/100\n"
     ]
    },
    {
     "name": "stdout",
     "output_type": "stream",
     "text": [
      "42000/42000 [==============================] - 6s 154us/step - loss: 1.4660 - accuracy: 0.4537 - val_loss: 1.2040 - val_accuracy: 0.5933\n",
      "Epoch 56/100\n",
      "42000/42000 [==============================] - 6s 149us/step - loss: 1.4478 - accuracy: 0.4612 - val_loss: 1.2073 - val_accuracy: 0.5885\n",
      "Epoch 57/100\n",
      "42000/42000 [==============================] - 6s 153us/step - loss: 1.4442 - accuracy: 0.4652 - val_loss: 1.2849 - val_accuracy: 0.5605\n",
      "Epoch 58/100\n",
      "42000/42000 [==============================] - 6s 148us/step - loss: 1.4312 - accuracy: 0.4650 - val_loss: 1.2539 - val_accuracy: 0.5693\n",
      "Epoch 59/100\n",
      "42000/42000 [==============================] - 6s 150us/step - loss: 1.4230 - accuracy: 0.4720 - val_loss: 1.2058 - val_accuracy: 0.5871\n",
      "Epoch 60/100\n",
      "42000/42000 [==============================] - 6s 148us/step - loss: 1.4107 - accuracy: 0.4717 - val_loss: 1.2051 - val_accuracy: 0.5826\n",
      "Epoch 61/100\n",
      "42000/42000 [==============================] - 6s 150us/step - loss: 1.4069 - accuracy: 0.4751 - val_loss: 1.1507 - val_accuracy: 0.6104\n",
      "Epoch 62/100\n",
      "42000/42000 [==============================] - 6s 152us/step - loss: 1.3983 - accuracy: 0.4818 - val_loss: 1.1742 - val_accuracy: 0.6033\n",
      "Epoch 63/100\n",
      "42000/42000 [==============================] - 6s 149us/step - loss: 1.3818 - accuracy: 0.4903 - val_loss: 1.1717 - val_accuracy: 0.6109\n",
      "Epoch 64/100\n",
      "42000/42000 [==============================] - 6s 149us/step - loss: 1.3755 - accuracy: 0.4900 - val_loss: 1.1196 - val_accuracy: 0.6258\n",
      "Epoch 65/100\n",
      "42000/42000 [==============================] - 6s 150us/step - loss: 1.3726 - accuracy: 0.4957 - val_loss: 1.1667 - val_accuracy: 0.6149\n",
      "Epoch 66/100\n",
      "42000/42000 [==============================] - 6s 149us/step - loss: 1.3659 - accuracy: 0.4941 - val_loss: 1.1440 - val_accuracy: 0.6193\n",
      "Epoch 67/100\n",
      "42000/42000 [==============================] - 10s 248us/step - loss: 1.3619 - accuracy: 0.5039 - val_loss: 1.1124 - val_accuracy: 0.6141\n",
      "Epoch 68/100\n",
      "42000/42000 [==============================] - 8s 180us/step - loss: 1.3493 - accuracy: 0.5027 - val_loss: 1.0848 - val_accuracy: 0.6480\n",
      "Epoch 69/100\n",
      "42000/42000 [==============================] - 7s 175us/step - loss: 1.3467 - accuracy: 0.5076 - val_loss: 1.1784 - val_accuracy: 0.5684\n",
      "Epoch 70/100\n",
      "42000/42000 [==============================] - 6s 153us/step - loss: 1.3268 - accuracy: 0.5172 - val_loss: 1.1202 - val_accuracy: 0.6228\n",
      "Epoch 71/100\n",
      "42000/42000 [==============================] - 6s 145us/step - loss: 1.3274 - accuracy: 0.5220 - val_loss: 1.1074 - val_accuracy: 0.6354\n",
      "Epoch 72/100\n",
      "42000/42000 [==============================] - 6s 147us/step - loss: 1.3168 - accuracy: 0.5226 - val_loss: 1.1099 - val_accuracy: 0.6299\n",
      "Epoch 73/100\n",
      "42000/42000 [==============================] - 6s 149us/step - loss: 1.3167 - accuracy: 0.5258 - val_loss: 1.1313 - val_accuracy: 0.6151\n",
      "Epoch 74/100\n",
      "42000/42000 [==============================] - 6s 144us/step - loss: 1.3035 - accuracy: 0.5327 - val_loss: 1.0537 - val_accuracy: 0.6594\n",
      "Epoch 75/100\n",
      "42000/42000 [==============================] - 6s 145us/step - loss: 1.3040 - accuracy: 0.5301 - val_loss: 1.1059 - val_accuracy: 0.6490\n",
      "Epoch 76/100\n",
      "42000/42000 [==============================] - 6s 145us/step - loss: 1.2923 - accuracy: 0.5354 - val_loss: 1.0532 - val_accuracy: 0.6635\n",
      "Epoch 77/100\n",
      "42000/42000 [==============================] - 6s 144us/step - loss: 1.2821 - accuracy: 0.5396 - val_loss: 1.1054 - val_accuracy: 0.6437\n",
      "Epoch 78/100\n",
      "42000/42000 [==============================] - 6s 144us/step - loss: 1.2816 - accuracy: 0.5398 - val_loss: 1.1460 - val_accuracy: 0.6233\n",
      "Epoch 79/100\n",
      "42000/42000 [==============================] - 6s 149us/step - loss: 1.2744 - accuracy: 0.5436 - val_loss: 1.0556 - val_accuracy: 0.6440\n",
      "Epoch 80/100\n",
      "42000/42000 [==============================] - 7s 162us/step - loss: 1.2599 - accuracy: 0.5517 - val_loss: 1.0237 - val_accuracy: 0.6808\n",
      "Epoch 81/100\n",
      "42000/42000 [==============================] - 6s 144us/step - loss: 1.2526 - accuracy: 0.5567 - val_loss: 1.1437 - val_accuracy: 0.6035\n",
      "Epoch 82/100\n",
      "42000/42000 [==============================] - 6s 144us/step - loss: 1.2549 - accuracy: 0.5561 - val_loss: 1.0108 - val_accuracy: 0.6779\n",
      "Epoch 83/100\n",
      "42000/42000 [==============================] - 6s 144us/step - loss: 1.2441 - accuracy: 0.5607 - val_loss: 1.1279 - val_accuracy: 0.6340\n",
      "Epoch 84/100\n",
      "42000/42000 [==============================] - 6s 144us/step - loss: 1.2444 - accuracy: 0.5628 - val_loss: 1.0009 - val_accuracy: 0.6837\n",
      "Epoch 85/100\n",
      "42000/42000 [==============================] - 6s 147us/step - loss: 1.2276 - accuracy: 0.5688 - val_loss: 1.0764 - val_accuracy: 0.6627\n",
      "Epoch 86/100\n",
      "42000/42000 [==============================] - 6s 144us/step - loss: 1.2238 - accuracy: 0.5729 - val_loss: 0.9971 - val_accuracy: 0.6817\n",
      "Epoch 87/100\n",
      "42000/42000 [==============================] - 6s 146us/step - loss: 1.2191 - accuracy: 0.5768 - val_loss: 1.1412 - val_accuracy: 0.6354\n",
      "Epoch 88/100\n",
      "42000/42000 [==============================] - 6s 144us/step - loss: 1.2183 - accuracy: 0.5770 - val_loss: 0.9631 - val_accuracy: 0.6926\n",
      "Epoch 89/100\n",
      "42000/42000 [==============================] - 6s 143us/step - loss: 1.2093 - accuracy: 0.5843 - val_loss: 0.9817 - val_accuracy: 0.6980\n",
      "Epoch 90/100\n",
      "42000/42000 [==============================] - 6s 149us/step - loss: 1.2080 - accuracy: 0.5818 - val_loss: 0.9880 - val_accuracy: 0.6859\n",
      "Epoch 91/100\n",
      "42000/42000 [==============================] - 6s 143us/step - loss: 1.1955 - accuracy: 0.5868 - val_loss: 0.9531 - val_accuracy: 0.7035\n",
      "Epoch 92/100\n",
      "42000/42000 [==============================] - 6s 143us/step - loss: 1.1908 - accuracy: 0.5900 - val_loss: 0.9988 - val_accuracy: 0.6792\n",
      "Epoch 93/100\n",
      "42000/42000 [==============================] - 6s 143us/step - loss: 1.1878 - accuracy: 0.5939 - val_loss: 0.9508 - val_accuracy: 0.7081\n",
      "Epoch 94/100\n",
      "42000/42000 [==============================] - 6s 143us/step - loss: 1.1758 - accuracy: 0.5975 - val_loss: 0.9328 - val_accuracy: 0.7123\n",
      "Epoch 95/100\n",
      "42000/42000 [==============================] - 6s 149us/step - loss: 1.1746 - accuracy: 0.5999 - val_loss: 0.9600 - val_accuracy: 0.7009\n",
      "Epoch 96/100\n",
      "42000/42000 [==============================] - 6s 148us/step - loss: 1.1597 - accuracy: 0.6031 - val_loss: 0.9575 - val_accuracy: 0.7003\n",
      "Epoch 97/100\n",
      "42000/42000 [==============================] - 6s 145us/step - loss: 1.1653 - accuracy: 0.6070 - val_loss: 1.0192 - val_accuracy: 0.6817\n",
      "Epoch 98/100\n",
      "42000/42000 [==============================] - 6s 144us/step - loss: 1.1588 - accuracy: 0.6105 - val_loss: 0.9606 - val_accuracy: 0.7007\n",
      "Epoch 99/100\n",
      "42000/42000 [==============================] - 6s 145us/step - loss: 1.1573 - accuracy: 0.6098 - val_loss: 0.8780 - val_accuracy: 0.7260\n",
      "Epoch 100/100\n",
      "42000/42000 [==============================] - 6s 146us/step - loss: 1.1549 - accuracy: 0.6108 - val_loss: 0.9035 - val_accuracy: 0.7052\n"
     ]
    }
   ],
   "source": [
    "# Fitting the ANN to the Training data\n",
    "history = model.fit(X_train, y_train, validation_data=(X_val,y_val),batch_size = 200, epochs = 100, verbose = 1)"
   ]
  },
  {
   "cell_type": "code",
   "execution_count": 51,
   "metadata": {},
   "outputs": [
    {
     "name": "stdout",
     "output_type": "stream",
     "text": [
      "60000/60000 [==============================] - 4s 61us/step\n"
     ]
    },
    {
     "data": {
      "text/plain": [
       "0.7052000164985657"
      ]
     },
     "execution_count": 51,
     "metadata": {},
     "output_type": "execute_result"
    }
   ],
   "source": [
    "results_3 = model.evaluate(X_val, y_val)\n",
    "results_3[1]"
   ]
  },
  {
   "cell_type": "code",
   "execution_count": 52,
   "metadata": {},
   "outputs": [
    {
     "data": {
      "text/html": [
       "<div>\n",
       "<style scoped>\n",
       "    .dataframe tbody tr th:only-of-type {\n",
       "        vertical-align: middle;\n",
       "    }\n",
       "\n",
       "    .dataframe tbody tr th {\n",
       "        vertical-align: top;\n",
       "    }\n",
       "\n",
       "    .dataframe thead th {\n",
       "        text-align: right;\n",
       "    }\n",
       "</style>\n",
       "<table border=\"1\" class=\"dataframe\">\n",
       "  <thead>\n",
       "    <tr style=\"text-align: right;\">\n",
       "      <th></th>\n",
       "      <th>Method</th>\n",
       "      <th>accuracy</th>\n",
       "    </tr>\n",
       "  </thead>\n",
       "  <tbody>\n",
       "    <tr>\n",
       "      <th>1</th>\n",
       "      <td>NN</td>\n",
       "      <td>0.190350</td>\n",
       "    </tr>\n",
       "    <tr>\n",
       "      <th>2</th>\n",
       "      <td>NN_Batch_Adam</td>\n",
       "      <td>0.814417</td>\n",
       "    </tr>\n",
       "    <tr>\n",
       "      <th>3</th>\n",
       "      <td>NN_Batch_sgd</td>\n",
       "      <td>0.308367</td>\n",
       "    </tr>\n",
       "    <tr>\n",
       "      <th>4</th>\n",
       "      <td>NN_Batch_Drop_Adam</td>\n",
       "      <td>0.705200</td>\n",
       "    </tr>\n",
       "  </tbody>\n",
       "</table>\n",
       "</div>"
      ],
      "text/plain": [
       "               Method  accuracy\n",
       "1                  NN  0.190350\n",
       "2       NN_Batch_Adam  0.814417\n",
       "3        NN_Batch_sgd  0.308367\n",
       "4  NN_Batch_Drop_Adam  0.705200"
      ]
     },
     "execution_count": 52,
     "metadata": {},
     "output_type": "execute_result"
    }
   ],
   "source": [
    "#Store the accuracy results for each model in a dataframe for final comparison\n",
    "tempResultsDf = pd.DataFrame({'Method':['NN_Batch_Drop_Adam'], 'accuracy': [results_3[1]]},index={'4'})\n",
    "results_on_val= pd.concat([results_on_val, tempResultsDf])\n",
    "results_on_val = results_on_val[['Method', 'accuracy']]\n",
    "results_on_val"
   ]
  },
  {
   "cell_type": "code",
   "execution_count": 53,
   "metadata": {},
   "outputs": [],
   "source": [
    "\n",
    "model_sgd = Sequential()\n",
    "#Adding Input layer and activation functions ReLU\n",
    "model_sgd.add(Dense(512, kernel_initializer='he_normal', input_shape = (1024, )))\n",
    "#Adding BatchNormalization Layer\n",
    "model_sgd.add(BatchNormalization())\n",
    "#Adding Activation function\n",
    "model_sgd.add(Activation('relu'))    \n",
    "#Adding Dropout Layer\n",
    "model_sgd.add(Dropout(0.5))\n",
    "\n",
    "\n",
    "#Hidden Layer 1\n",
    "#Adding first Hidden layer\n",
    "model_sgd.add(Dense(256, kernel_initializer='he_normal'))\n",
    "#Adding BatchNormalization Layer\n",
    "model_sgd.add(BatchNormalization())\n",
    "model_sgd.add(Activation('relu'))    \n",
    "#Adding Dropout Layer\n",
    "model_sgd.add(Dropout(0.5))\n",
    "\n",
    "\n",
    "#Hidden Layer 2\n",
    "#Adding second Hidden layer\n",
    "model_sgd.add(Dense(128, kernel_initializer='he_normal'))\n",
    "#Adding BatchNormalization Layer\n",
    "model_sgd.add(BatchNormalization())    \n",
    "model_sgd.add(Activation('relu'))    \n",
    "#Adding Dropout Layer\n",
    "model_sgd.add(Dropout(0.5))\n",
    "\n",
    "\n",
    "#Hidden Layer 3\n",
    "#Adding third Hidden layer\n",
    "model_sgd.add(Dense(64, kernel_initializer='he_normal'))\n",
    "#Adding BatchNormalization Layer\n",
    "model_sgd.add(BatchNormalization())\n",
    "model_sgd.add(Activation('relu'))    \n",
    "#Adding Dropout Layer\n",
    "model_sgd.add(Dropout(0.5))\n",
    "\n",
    "\n",
    "#Hidden Layer 4\n",
    "#Adding fourth Hidden layer\n",
    "model_sgd.add(Dense(32, kernel_initializer='he_normal'))\n",
    "#Adding BatchNormalization Layer\n",
    "model_sgd.add(BatchNormalization())\n",
    "model_sgd.add(Activation('relu'))    \n",
    "#Adding Dropout Layer\n",
    "model_sgd.add(Dropout(0.5))\n",
    "\n",
    "\n",
    "# Output Layer\n",
    "#Adding output layer which is of 10 nodes (digits)\n",
    "model_sgd.add(Dense(10))\n",
    "model_sgd.add(Activation('softmax'))\n",
    "\n",
    "#ANN classifier\n",
    "sgd = optimizers.SGD(lr = 0.0001)\n",
    "model_sgd.compile(optimizer = sgd, loss = 'categorical_crossentropy', metrics = ['accuracy'])\n"
   ]
  },
  {
   "cell_type": "code",
   "execution_count": 54,
   "metadata": {},
   "outputs": [
    {
     "name": "stdout",
     "output_type": "stream",
     "text": [
      "Model: \"sequential_7\"\n",
      "_________________________________________________________________\n",
      "Layer (type)                 Output Shape              Param #   \n",
      "=================================================================\n",
      "dense_37 (Dense)             (None, 512)               524800    \n",
      "_________________________________________________________________\n",
      "batch_normalization_16 (Batc (None, 512)               2048      \n",
      "_________________________________________________________________\n",
      "activation_37 (Activation)   (None, 512)               0         \n",
      "_________________________________________________________________\n",
      "dropout_6 (Dropout)          (None, 512)               0         \n",
      "_________________________________________________________________\n",
      "dense_38 (Dense)             (None, 256)               131328    \n",
      "_________________________________________________________________\n",
      "batch_normalization_17 (Batc (None, 256)               1024      \n",
      "_________________________________________________________________\n",
      "activation_38 (Activation)   (None, 256)               0         \n",
      "_________________________________________________________________\n",
      "dropout_7 (Dropout)          (None, 256)               0         \n",
      "_________________________________________________________________\n",
      "dense_39 (Dense)             (None, 128)               32896     \n",
      "_________________________________________________________________\n",
      "batch_normalization_18 (Batc (None, 128)               512       \n",
      "_________________________________________________________________\n",
      "activation_39 (Activation)   (None, 128)               0         \n",
      "_________________________________________________________________\n",
      "dropout_8 (Dropout)          (None, 128)               0         \n",
      "_________________________________________________________________\n",
      "dense_40 (Dense)             (None, 64)                8256      \n",
      "_________________________________________________________________\n",
      "batch_normalization_19 (Batc (None, 64)                256       \n",
      "_________________________________________________________________\n",
      "activation_40 (Activation)   (None, 64)                0         \n",
      "_________________________________________________________________\n",
      "dropout_9 (Dropout)          (None, 64)                0         \n",
      "_________________________________________________________________\n",
      "dense_41 (Dense)             (None, 32)                2080      \n",
      "_________________________________________________________________\n",
      "batch_normalization_20 (Batc (None, 32)                128       \n",
      "_________________________________________________________________\n",
      "activation_41 (Activation)   (None, 32)                0         \n",
      "_________________________________________________________________\n",
      "dropout_10 (Dropout)         (None, 32)                0         \n",
      "_________________________________________________________________\n",
      "dense_42 (Dense)             (None, 10)                330       \n",
      "_________________________________________________________________\n",
      "activation_42 (Activation)   (None, 10)                0         \n",
      "=================================================================\n",
      "Total params: 703,658\n",
      "Trainable params: 701,674\n",
      "Non-trainable params: 1,984\n",
      "_________________________________________________________________\n"
     ]
    }
   ],
   "source": [
    "model_sgd.summary()"
   ]
  },
  {
   "cell_type": "code",
   "execution_count": 55,
   "metadata": {},
   "outputs": [
    {
     "name": "stdout",
     "output_type": "stream",
     "text": [
      "Train on 42000 samples, validate on 60000 samples\n",
      "Epoch 1/100\n",
      "42000/42000 [==============================] - 6s 145us/step - loss: 2.8911 - accuracy: 0.0997 - val_loss: 2.3455 - val_accuracy: 0.1004\n",
      "Epoch 2/100\n",
      "42000/42000 [==============================] - 5s 117us/step - loss: 2.8801 - accuracy: 0.1005 - val_loss: 2.3446 - val_accuracy: 0.1005\n",
      "Epoch 3/100\n",
      "42000/42000 [==============================] - 5s 117us/step - loss: 2.8682 - accuracy: 0.1011 - val_loss: 2.3431 - val_accuracy: 0.1009\n",
      "Epoch 4/100\n",
      "42000/42000 [==============================] - 5s 120us/step - loss: 2.8870 - accuracy: 0.0995 - val_loss: 2.3428 - val_accuracy: 0.1009\n",
      "Epoch 5/100\n",
      "42000/42000 [==============================] - 5s 117us/step - loss: 2.8656 - accuracy: 0.0977 - val_loss: 2.3417 - val_accuracy: 0.1007\n",
      "Epoch 6/100\n",
      "42000/42000 [==============================] - 5s 117us/step - loss: 2.8630 - accuracy: 0.1000 - val_loss: 2.3404 - val_accuracy: 0.1007\n",
      "Epoch 7/100\n",
      "42000/42000 [==============================] - 5s 117us/step - loss: 2.8528 - accuracy: 0.1029 - val_loss: 2.3405 - val_accuracy: 0.1008\n",
      "Epoch 8/100\n",
      "42000/42000 [==============================] - 5s 117us/step - loss: 2.8525 - accuracy: 0.0998 - val_loss: 2.3395 - val_accuracy: 0.1010\n",
      "Epoch 9/100\n",
      "42000/42000 [==============================] - 5s 117us/step - loss: 2.8532 - accuracy: 0.1000 - val_loss: 2.3381 - val_accuracy: 0.1010\n",
      "Epoch 10/100\n",
      "42000/42000 [==============================] - 5s 120us/step - loss: 2.8410 - accuracy: 0.1019 - val_loss: 2.3382 - val_accuracy: 0.1012\n",
      "Epoch 11/100\n",
      "42000/42000 [==============================] - 5s 118us/step - loss: 2.8436 - accuracy: 0.0990 - val_loss: 2.3377 - val_accuracy: 0.1011\n",
      "Epoch 12/100\n",
      "42000/42000 [==============================] - 5s 117us/step - loss: 2.8351 - accuracy: 0.1022 - val_loss: 2.3367 - val_accuracy: 0.1016\n",
      "Epoch 13/100\n",
      "42000/42000 [==============================] - 5s 116us/step - loss: 2.8380 - accuracy: 0.1014 - val_loss: 2.3356 - val_accuracy: 0.1018\n",
      "Epoch 14/100\n",
      "42000/42000 [==============================] - 5s 117us/step - loss: 2.8338 - accuracy: 0.0987 - val_loss: 2.3355 - val_accuracy: 0.1016\n",
      "Epoch 15/100\n",
      "42000/42000 [==============================] - 5s 118us/step - loss: 2.8222 - accuracy: 0.1017 - val_loss: 2.3345 - val_accuracy: 0.1015\n",
      "Epoch 16/100\n",
      "42000/42000 [==============================] - 5s 119us/step - loss: 2.8222 - accuracy: 0.0992 - val_loss: 2.3335 - val_accuracy: 0.1022\n",
      "Epoch 17/100\n",
      "42000/42000 [==============================] - 5s 118us/step - loss: 2.8076 - accuracy: 0.1024 - val_loss: 2.3330 - val_accuracy: 0.1019\n",
      "Epoch 18/100\n",
      "42000/42000 [==============================] - 5s 118us/step - loss: 2.8100 - accuracy: 0.1008 - val_loss: 2.3330 - val_accuracy: 0.1023\n",
      "Epoch 19/100\n",
      "42000/42000 [==============================] - 5s 118us/step - loss: 2.8094 - accuracy: 0.1005 - val_loss: 2.3320 - val_accuracy: 0.1025\n",
      "Epoch 20/100\n",
      "42000/42000 [==============================] - 5s 119us/step - loss: 2.7998 - accuracy: 0.1020 - val_loss: 2.3318 - val_accuracy: 0.1026\n",
      "Epoch 21/100\n",
      "42000/42000 [==============================] - 5s 116us/step - loss: 2.7943 - accuracy: 0.1020 - val_loss: 2.3299 - val_accuracy: 0.1026\n",
      "Epoch 22/100\n",
      "42000/42000 [==============================] - 5s 117us/step - loss: 2.8020 - accuracy: 0.0992 - val_loss: 2.3301 - val_accuracy: 0.1025\n",
      "Epoch 23/100\n",
      "42000/42000 [==============================] - 5s 124us/step - loss: 2.8018 - accuracy: 0.1014 - val_loss: 2.3298 - val_accuracy: 0.1028\n",
      "Epoch 24/100\n",
      "42000/42000 [==============================] - 5s 118us/step - loss: 2.7854 - accuracy: 0.1003 - val_loss: 2.3295 - val_accuracy: 0.1029\n",
      "Epoch 25/100\n",
      "42000/42000 [==============================] - 5s 117us/step - loss: 2.7814 - accuracy: 0.1020 - val_loss: 2.3292 - val_accuracy: 0.1024\n",
      "Epoch 26/100\n",
      "42000/42000 [==============================] - 5s 120us/step - loss: 2.7779 - accuracy: 0.1001 - val_loss: 2.3285 - val_accuracy: 0.1031\n",
      "Epoch 27/100\n",
      "42000/42000 [==============================] - 5s 118us/step - loss: 2.7916 - accuracy: 0.1004 - val_loss: 2.3280 - val_accuracy: 0.1033\n",
      "Epoch 28/100\n",
      "42000/42000 [==============================] - 5s 120us/step - loss: 2.7789 - accuracy: 0.1000 - val_loss: 2.3273 - val_accuracy: 0.1037\n",
      "Epoch 29/100\n",
      "42000/42000 [==============================] - 5s 119us/step - loss: 2.7623 - accuracy: 0.1001 - val_loss: 2.3269 - val_accuracy: 0.1030\n",
      "Epoch 30/100\n",
      "42000/42000 [==============================] - 6s 155us/step - loss: 2.7707 - accuracy: 0.1011 - val_loss: 2.3261 - val_accuracy: 0.1035\n",
      "Epoch 31/100\n",
      "42000/42000 [==============================] - 6s 135us/step - loss: 2.7661 - accuracy: 0.1021 - val_loss: 2.3261 - val_accuracy: 0.1038\n",
      "Epoch 32/100\n",
      "42000/42000 [==============================] - 6s 133us/step - loss: 2.7636 - accuracy: 0.0997 - val_loss: 2.3255 - val_accuracy: 0.1037\n",
      "Epoch 33/100\n",
      "42000/42000 [==============================] - 5s 127us/step - loss: 2.7617 - accuracy: 0.1007 - val_loss: 2.3252 - val_accuracy: 0.1038\n",
      "Epoch 34/100\n",
      "42000/42000 [==============================] - 5s 129us/step - loss: 2.7625 - accuracy: 0.0987 - val_loss: 2.3251 - val_accuracy: 0.1038\n",
      "Epoch 35/100\n",
      "42000/42000 [==============================] - 5s 127us/step - loss: 2.7633 - accuracy: 0.1020 - val_loss: 2.3250 - val_accuracy: 0.1038\n",
      "Epoch 36/100\n",
      "42000/42000 [==============================] - 5s 123us/step - loss: 2.7503 - accuracy: 0.1017 - val_loss: 2.3241 - val_accuracy: 0.1039\n",
      "Epoch 37/100\n",
      "42000/42000 [==============================] - 5s 123us/step - loss: 2.7601 - accuracy: 0.0954 - val_loss: 2.3234 - val_accuracy: 0.1041\n",
      "Epoch 38/100\n",
      "42000/42000 [==============================] - 5s 122us/step - loss: 2.7444 - accuracy: 0.1008 - val_loss: 2.3231 - val_accuracy: 0.1047\n",
      "Epoch 39/100\n",
      "42000/42000 [==============================] - 5s 124us/step - loss: 2.7426 - accuracy: 0.1027 - val_loss: 2.3225 - val_accuracy: 0.1046\n",
      "Epoch 40/100\n",
      "42000/42000 [==============================] - 5s 126us/step - loss: 2.7472 - accuracy: 0.1007 - val_loss: 2.3224 - val_accuracy: 0.1047\n",
      "Epoch 41/100\n",
      "42000/42000 [==============================] - 6s 137us/step - loss: 2.7290 - accuracy: 0.0994 - val_loss: 2.3220 - val_accuracy: 0.1050\n",
      "Epoch 42/100\n",
      "42000/42000 [==============================] - 5s 128us/step - loss: 2.7439 - accuracy: 0.1007 - val_loss: 2.3215 - val_accuracy: 0.1051\n",
      "Epoch 43/100\n",
      "42000/42000 [==============================] - 6s 136us/step - loss: 2.7428 - accuracy: 0.1003 - val_loss: 2.3215 - val_accuracy: 0.1053\n",
      "Epoch 44/100\n",
      "42000/42000 [==============================] - 5s 127us/step - loss: 2.7310 - accuracy: 0.0992 - val_loss: 2.3213 - val_accuracy: 0.1054\n",
      "Epoch 45/100\n",
      "42000/42000 [==============================] - 5s 131us/step - loss: 2.7346 - accuracy: 0.0983 - val_loss: 2.3206 - val_accuracy: 0.1056\n",
      "Epoch 46/100\n",
      "42000/42000 [==============================] - 5s 127us/step - loss: 2.7236 - accuracy: 0.1025 - val_loss: 2.3202 - val_accuracy: 0.1052\n",
      "Epoch 47/100\n",
      "42000/42000 [==============================] - 5s 129us/step - loss: 2.7314 - accuracy: 0.0997 - val_loss: 2.3196 - val_accuracy: 0.1058\n",
      "Epoch 48/100\n",
      "42000/42000 [==============================] - 5s 127us/step - loss: 2.7162 - accuracy: 0.1025 - val_loss: 2.3194 - val_accuracy: 0.1055\n",
      "Epoch 49/100\n",
      "42000/42000 [==============================] - 5s 128us/step - loss: 2.7261 - accuracy: 0.0996 - val_loss: 2.3194 - val_accuracy: 0.1056\n",
      "Epoch 50/100\n",
      "42000/42000 [==============================] - 5s 127us/step - loss: 2.7163 - accuracy: 0.1013 - val_loss: 2.3192 - val_accuracy: 0.1059\n",
      "Epoch 51/100\n",
      "42000/42000 [==============================] - 5s 130us/step - loss: 2.7224 - accuracy: 0.1004 - val_loss: 2.3191 - val_accuracy: 0.1058\n",
      "Epoch 52/100\n",
      "42000/42000 [==============================] - 6s 131us/step - loss: 2.7167 - accuracy: 0.0986 - val_loss: 2.3182 - val_accuracy: 0.1067\n",
      "Epoch 53/100\n",
      "42000/42000 [==============================] - 5s 130us/step - loss: 2.7124 - accuracy: 0.0986 - val_loss: 2.3182 - val_accuracy: 0.1070\n",
      "Epoch 54/100\n",
      "42000/42000 [==============================] - 6s 134us/step - loss: 2.7080 - accuracy: 0.1013 - val_loss: 2.3186 - val_accuracy: 0.1059\n",
      "Epoch 55/100\n"
     ]
    },
    {
     "name": "stdout",
     "output_type": "stream",
     "text": [
      "42000/42000 [==============================] - 5s 128us/step - loss: 2.7157 - accuracy: 0.0980 - val_loss: 2.3178 - val_accuracy: 0.1067\n",
      "Epoch 56/100\n",
      "42000/42000 [==============================] - 6s 137us/step - loss: 2.7029 - accuracy: 0.1025 - val_loss: 2.3174 - val_accuracy: 0.1068\n",
      "Epoch 57/100\n",
      "42000/42000 [==============================] - 6s 133us/step - loss: 2.7050 - accuracy: 0.1012 - val_loss: 2.3172 - val_accuracy: 0.1066\n",
      "Epoch 58/100\n",
      "42000/42000 [==============================] - 6s 133us/step - loss: 2.7069 - accuracy: 0.1008 - val_loss: 2.3170 - val_accuracy: 0.1072\n",
      "Epoch 59/100\n",
      "42000/42000 [==============================] - 5s 130us/step - loss: 2.6980 - accuracy: 0.1003 - val_loss: 2.3163 - val_accuracy: 0.1073\n",
      "Epoch 60/100\n",
      "42000/42000 [==============================] - 5s 130us/step - loss: 2.6939 - accuracy: 0.1021 - val_loss: 2.3166 - val_accuracy: 0.1070\n",
      "Epoch 61/100\n",
      "42000/42000 [==============================] - 5s 130us/step - loss: 2.6965 - accuracy: 0.1026 - val_loss: 2.3165 - val_accuracy: 0.1073\n",
      "Epoch 62/100\n",
      "42000/42000 [==============================] - 5s 130us/step - loss: 2.6931 - accuracy: 0.1027 - val_loss: 2.3158 - val_accuracy: 0.1075\n",
      "Epoch 63/100\n",
      "42000/42000 [==============================] - 6s 132us/step - loss: 2.6895 - accuracy: 0.0995 - val_loss: 2.3159 - val_accuracy: 0.1076\n",
      "Epoch 64/100\n",
      "42000/42000 [==============================] - 5s 127us/step - loss: 2.6945 - accuracy: 0.1012 - val_loss: 2.3155 - val_accuracy: 0.1077\n",
      "Epoch 65/100\n",
      "42000/42000 [==============================] - 5s 122us/step - loss: 2.6838 - accuracy: 0.1018 - val_loss: 2.3154 - val_accuracy: 0.1076\n",
      "Epoch 66/100\n",
      "42000/42000 [==============================] - 5s 123us/step - loss: 2.6838 - accuracy: 0.1001 - val_loss: 2.3153 - val_accuracy: 0.1081\n",
      "Epoch 67/100\n",
      "42000/42000 [==============================] - 5s 126us/step - loss: 2.6789 - accuracy: 0.1016 - val_loss: 2.3149 - val_accuracy: 0.1080\n",
      "Epoch 68/100\n",
      "42000/42000 [==============================] - 5s 122us/step - loss: 2.6767 - accuracy: 0.1022 - val_loss: 2.3143 - val_accuracy: 0.1080\n",
      "Epoch 69/100\n",
      "42000/42000 [==============================] - 5s 123us/step - loss: 2.6785 - accuracy: 0.1007 - val_loss: 2.3144 - val_accuracy: 0.1079\n",
      "Epoch 70/100\n",
      "42000/42000 [==============================] - 5s 124us/step - loss: 2.6847 - accuracy: 0.0989 - val_loss: 2.3143 - val_accuracy: 0.1080\n",
      "Epoch 71/100\n",
      "42000/42000 [==============================] - 5s 124us/step - loss: 2.6814 - accuracy: 0.1000 - val_loss: 2.3143 - val_accuracy: 0.1081\n",
      "Epoch 72/100\n",
      "42000/42000 [==============================] - 5s 124us/step - loss: 2.6756 - accuracy: 0.1016 - val_loss: 2.3139 - val_accuracy: 0.1080\n",
      "Epoch 73/100\n",
      "42000/42000 [==============================] - 5s 127us/step - loss: 2.6643 - accuracy: 0.1013 - val_loss: 2.3137 - val_accuracy: 0.1081\n",
      "Epoch 74/100\n",
      "42000/42000 [==============================] - 5s 126us/step - loss: 2.6718 - accuracy: 0.1010 - val_loss: 2.3135 - val_accuracy: 0.1084\n",
      "Epoch 75/100\n",
      "42000/42000 [==============================] - 5s 126us/step - loss: 2.6668 - accuracy: 0.1027 - val_loss: 2.3131 - val_accuracy: 0.1090\n",
      "Epoch 76/100\n",
      "42000/42000 [==============================] - 6s 136us/step - loss: 2.6679 - accuracy: 0.0995 - val_loss: 2.3131 - val_accuracy: 0.1084\n",
      "Epoch 77/100\n",
      "42000/42000 [==============================] - 5s 127us/step - loss: 2.6683 - accuracy: 0.0985 - val_loss: 2.3131 - val_accuracy: 0.1086\n",
      "Epoch 78/100\n",
      "42000/42000 [==============================] - 5s 131us/step - loss: 2.6651 - accuracy: 0.0999 - val_loss: 2.3130 - val_accuracy: 0.1082\n",
      "Epoch 79/100\n",
      "42000/42000 [==============================] - 5s 126us/step - loss: 2.6683 - accuracy: 0.0996 - val_loss: 2.3125 - val_accuracy: 0.1086\n",
      "Epoch 80/100\n",
      "42000/42000 [==============================] - 5s 125us/step - loss: 2.6633 - accuracy: 0.1020 - val_loss: 2.3125 - val_accuracy: 0.1084\n",
      "Epoch 81/100\n",
      "42000/42000 [==============================] - 5s 124us/step - loss: 2.6632 - accuracy: 0.0998 - val_loss: 2.3118 - val_accuracy: 0.1089\n",
      "Epoch 82/100\n",
      "42000/42000 [==============================] - 5s 124us/step - loss: 2.6621 - accuracy: 0.0981 - val_loss: 2.3120 - val_accuracy: 0.1091\n",
      "Epoch 83/100\n",
      "42000/42000 [==============================] - 5s 123us/step - loss: 2.6558 - accuracy: 0.1000 - val_loss: 2.3121 - val_accuracy: 0.1089\n",
      "Epoch 84/100\n",
      "42000/42000 [==============================] - 5s 130us/step - loss: 2.6552 - accuracy: 0.0994 - val_loss: 2.3116 - val_accuracy: 0.1089\n",
      "Epoch 85/100\n",
      "42000/42000 [==============================] - 5s 126us/step - loss: 2.6571 - accuracy: 0.1017 - val_loss: 2.3113 - val_accuracy: 0.1089\n",
      "Epoch 86/100\n",
      "42000/42000 [==============================] - 5s 124us/step - loss: 2.6491 - accuracy: 0.1023 - val_loss: 2.3112 - val_accuracy: 0.1092\n",
      "Epoch 87/100\n",
      "42000/42000 [==============================] - 5s 123us/step - loss: 2.6450 - accuracy: 0.1013 - val_loss: 2.3110 - val_accuracy: 0.1086\n",
      "Epoch 88/100\n",
      "42000/42000 [==============================] - 5s 121us/step - loss: 2.6481 - accuracy: 0.1019 - val_loss: 2.3109 - val_accuracy: 0.1089\n",
      "Epoch 89/100\n",
      "42000/42000 [==============================] - 5s 124us/step - loss: 2.6430 - accuracy: 0.1016 - val_loss: 2.3112 - val_accuracy: 0.1085\n",
      "Epoch 90/100\n",
      "42000/42000 [==============================] - 5s 126us/step - loss: 2.6466 - accuracy: 0.0996 - val_loss: 2.3111 - val_accuracy: 0.1087\n",
      "Epoch 91/100\n",
      "42000/42000 [==============================] - 5s 123us/step - loss: 2.6406 - accuracy: 0.1010 - val_loss: 2.3107 - val_accuracy: 0.1086\n",
      "Epoch 92/100\n",
      "42000/42000 [==============================] - 5s 124us/step - loss: 2.6322 - accuracy: 0.1039 - val_loss: 2.3104 - val_accuracy: 0.1088\n",
      "Epoch 93/100\n",
      "42000/42000 [==============================] - 5s 124us/step - loss: 2.6343 - accuracy: 0.1015 - val_loss: 2.3102 - val_accuracy: 0.1089\n",
      "Epoch 94/100\n",
      "42000/42000 [==============================] - 5s 124us/step - loss: 2.6429 - accuracy: 0.1013 - val_loss: 2.3102 - val_accuracy: 0.1091\n",
      "Epoch 95/100\n",
      "42000/42000 [==============================] - 5s 124us/step - loss: 2.6375 - accuracy: 0.1009 - val_loss: 2.3101 - val_accuracy: 0.1085\n",
      "Epoch 96/100\n",
      "42000/42000 [==============================] - 5s 127us/step - loss: 2.6418 - accuracy: 0.0997 - val_loss: 2.3099 - val_accuracy: 0.1087\n",
      "Epoch 97/100\n",
      "42000/42000 [==============================] - 5s 126us/step - loss: 2.6383 - accuracy: 0.0982 - val_loss: 2.3099 - val_accuracy: 0.1088\n",
      "Epoch 98/100\n",
      "42000/42000 [==============================] - 5s 127us/step - loss: 2.6290 - accuracy: 0.1017 - val_loss: 2.3095 - val_accuracy: 0.1089\n",
      "Epoch 99/100\n",
      "42000/42000 [==============================] - 5s 127us/step - loss: 2.6390 - accuracy: 0.0986 - val_loss: 2.3096 - val_accuracy: 0.1089\n",
      "Epoch 100/100\n",
      "42000/42000 [==============================] - 5s 124us/step - loss: 2.6277 - accuracy: 0.1000 - val_loss: 2.3093 - val_accuracy: 0.1085\n"
     ]
    }
   ],
   "source": [
    "# Fitting the ANN to the Training data\n",
    "history = model_sgd.fit(X_train, y_train, validation_data=(X_val,y_val), batch_size = 200, epochs = 100, verbose = 1)"
   ]
  },
  {
   "cell_type": "code",
   "execution_count": 56,
   "metadata": {},
   "outputs": [
    {
     "name": "stdout",
     "output_type": "stream",
     "text": [
      "60000/60000 [==============================] - 4s 72us/step\n"
     ]
    },
    {
     "data": {
      "text/plain": [
       "0.10849999636411667"
      ]
     },
     "execution_count": 56,
     "metadata": {},
     "output_type": "execute_result"
    }
   ],
   "source": [
    "results_4 = model_sgd.evaluate(X_val, y_val)\n",
    "results_4[1]"
   ]
  },
  {
   "cell_type": "code",
   "execution_count": 57,
   "metadata": {},
   "outputs": [
    {
     "data": {
      "text/html": [
       "<div>\n",
       "<style scoped>\n",
       "    .dataframe tbody tr th:only-of-type {\n",
       "        vertical-align: middle;\n",
       "    }\n",
       "\n",
       "    .dataframe tbody tr th {\n",
       "        vertical-align: top;\n",
       "    }\n",
       "\n",
       "    .dataframe thead th {\n",
       "        text-align: right;\n",
       "    }\n",
       "</style>\n",
       "<table border=\"1\" class=\"dataframe\">\n",
       "  <thead>\n",
       "    <tr style=\"text-align: right;\">\n",
       "      <th></th>\n",
       "      <th>Method</th>\n",
       "      <th>accuracy</th>\n",
       "    </tr>\n",
       "  </thead>\n",
       "  <tbody>\n",
       "    <tr>\n",
       "      <th>1</th>\n",
       "      <td>NN</td>\n",
       "      <td>0.190350</td>\n",
       "    </tr>\n",
       "    <tr>\n",
       "      <th>2</th>\n",
       "      <td>NN_Batch_Adam</td>\n",
       "      <td>0.814417</td>\n",
       "    </tr>\n",
       "    <tr>\n",
       "      <th>3</th>\n",
       "      <td>NN_Batch_sgd</td>\n",
       "      <td>0.308367</td>\n",
       "    </tr>\n",
       "    <tr>\n",
       "      <th>4</th>\n",
       "      <td>NN_Batch_Drop_Adam</td>\n",
       "      <td>0.705200</td>\n",
       "    </tr>\n",
       "    <tr>\n",
       "      <th>5</th>\n",
       "      <td>NN_Batch_Drop_SGD</td>\n",
       "      <td>0.108500</td>\n",
       "    </tr>\n",
       "  </tbody>\n",
       "</table>\n",
       "</div>"
      ],
      "text/plain": [
       "               Method  accuracy\n",
       "1                  NN  0.190350\n",
       "2       NN_Batch_Adam  0.814417\n",
       "3        NN_Batch_sgd  0.308367\n",
       "4  NN_Batch_Drop_Adam  0.705200\n",
       "5   NN_Batch_Drop_SGD  0.108500"
      ]
     },
     "execution_count": 57,
     "metadata": {},
     "output_type": "execute_result"
    }
   ],
   "source": [
    "#Store the accuracy results for each model in a dataframe for final comparison\n",
    "tempResultsDf = pd.DataFrame({'Method':['NN_Batch_Drop_SGD'], 'accuracy': [results_4[1]]},index={'5'})\n",
    "results_on_val= pd.concat([results_on_val, tempResultsDf])\n",
    "results_on_val = results_on_val[['Method', 'accuracy']]\n",
    "results_on_val"
   ]
  },
  {
   "cell_type": "markdown",
   "metadata": {},
   "source": [
    "The batch normalization using Adam optimizer is giving better results than using SGD optimizer."
   ]
  },
  {
   "cell_type": "markdown",
   "metadata": {},
   "source": [
    "## Predicting the digits using NN classifier on test data"
   ]
  },
  {
   "cell_type": "markdown",
   "metadata": {},
   "source": [
    "### Image 1"
   ]
  },
  {
   "cell_type": "code",
   "execution_count": 58,
   "metadata": {},
   "outputs": [
    {
     "data": {
      "text/plain": [
       "<matplotlib.image.AxesImage at 0x1a5b2cce90>"
      ]
     },
     "execution_count": 58,
     "metadata": {},
     "output_type": "execute_result"
    },
    {
     "data": {
      "image/png": "[encoded data removed]",
      "text/plain": [
       "<Figure size 432x288 with 1 Axes>"
      ]
     },
     "metadata": {
      "needs_background": "light"
     },
     "output_type": "display_data"
    }
   ],
   "source": [
    "#Showing the image\n",
    "plt.imshow(X_test[5].reshape(32,32),cmap='gray')"
   ]
  },
  {
   "cell_type": "code",
   "execution_count": 59,
   "metadata": {},
   "outputs": [
    {
     "data": {
      "text/plain": [
       "9"
      ]
     },
     "execution_count": 59,
     "metadata": {},
     "output_type": "execute_result"
    }
   ],
   "source": [
    "#Predicting the digits\n",
    "model.predict_classes(X_test)[5]"
   ]
  },
  {
   "cell_type": "markdown",
   "metadata": {},
   "source": [
    "### Image 2"
   ]
  },
  {
   "cell_type": "code",
   "execution_count": 60,
   "metadata": {},
   "outputs": [
    {
     "data": {
      "text/plain": [
       "<matplotlib.image.AxesImage at 0x1a5b328890>"
      ]
     },
     "execution_count": 60,
     "metadata": {},
     "output_type": "execute_result"
    },
    {
     "data": {
      "image/png": "[encoded data removed]",
      "text/plain": [
       "<Figure size 432x288 with 1 Axes>"
      ]
     },
     "metadata": {
      "needs_background": "light"
     },
     "output_type": "display_data"
    }
   ],
   "source": [
    "#Showing the image\n",
    "plt.imshow(X_test[10].reshape(32,32),cmap='gray')"
   ]
  },
  {
   "cell_type": "code",
   "execution_count": 61,
   "metadata": {},
   "outputs": [
    {
     "data": {
      "text/plain": [
       "8"
      ]
     },
     "execution_count": 61,
     "metadata": {},
     "output_type": "execute_result"
    }
   ],
   "source": [
    "#Predicting the digits\n",
    "model.predict_classes(X_test)[10]"
   ]
  },
  {
   "cell_type": "markdown",
   "metadata": {},
   "source": [
    "### Image 3"
   ]
  },
  {
   "cell_type": "code",
   "execution_count": 62,
   "metadata": {},
   "outputs": [
    {
     "data": {
      "text/plain": [
       "<matplotlib.image.AxesImage at 0x1a5b5a1750>"
      ]
     },
     "execution_count": 62,
     "metadata": {},
     "output_type": "execute_result"
    },
    {
     "data": {
      "image/png": "[encoded data removed]",
      "text/plain": [
       "<Figure size 432x288 with 1 Axes>"
      ]
     },
     "metadata": {
      "needs_background": "light"
     },
     "output_type": "display_data"
    }
   ],
   "source": [
    "#Showing the image\n",
    "plt.imshow(X_test[112].reshape(32,32),cmap='gray')"
   ]
  },
  {
   "cell_type": "code",
   "execution_count": 63,
   "metadata": {},
   "outputs": [
    {
     "data": {
      "text/plain": [
       "9"
      ]
     },
     "execution_count": 63,
     "metadata": {},
     "output_type": "execute_result"
    }
   ],
   "source": [
    "#Predicting the digits\n",
    "model.predict_classes(X_test)[112]"
   ]
  },
  {
   "cell_type": "code",
   "execution_count": 64,
   "metadata": {},
   "outputs": [
    {
     "name": "stdout",
     "output_type": "stream",
     "text": [
      "[9 2 2 ... 7 8 2]\n"
     ]
    }
   ],
   "source": [
    "#Predicting for all images\n",
    "y_pred = model.predict_classes(X_test)\n",
    "print(y_pred)"
   ]
  },
  {
   "cell_type": "markdown",
   "metadata": {},
   "source": [
    "## Summary"
   ]
  },
  {
   "cell_type": "markdown",
   "metadata": {},
   "source": [
    "Using NN with batchNormalization we got 81.4% accuracy. We have predicted the classification of the images correctly.\n",
    "\n",
    "Adam optimizer is giving better accuracy than SGD.\n",
    "\n",
    "With drop outs, Adam optimizer is giving accuracy of 70%\n"
   ]
  }
 ],
 "metadata": {
  "kernelspec": {
   "display_name": "Python 3",
   "language": "python",
   "name": "python3"
  },
  "language_info": {
   "codemirror_mode": {
    "name": "ipython",
    "version": 3
   },
   "file_extension": ".py",
   "mimetype": "text/x-python",
   "name": "python",
   "nbconvert_exporter": "python",
   "pygments_lexer": "ipython3",
   "version": "3.7.6"
  }
 },
 "nbformat": 4,
 "nbformat_minor": 2
}
